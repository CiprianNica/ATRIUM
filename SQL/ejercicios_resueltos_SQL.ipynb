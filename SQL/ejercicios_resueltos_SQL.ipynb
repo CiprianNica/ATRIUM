{
 "cells": [
  {
   "cell_type": "markdown",
   "metadata": {},
   "source": [
    "Crea notebook de Jupyter y con la librería de SQLite realiza las siguientes consultas a la base de datos \"Chinook_Sqlite\" (archivo proporcionado junto con los apuntes de SQL)."
   ]
  },
  {
   "cell_type": "code",
   "execution_count": 138,
   "metadata": {},
   "outputs": [],
   "source": [
    "import sqlite3\n",
    "conn = sqlite3.connect('Chinook_Sqlite.sqlite')"
   ]
  },
  {
   "cell_type": "code",
   "execution_count": 139,
   "metadata": {},
   "outputs": [],
   "source": [
    "cursor = conn.cursor()"
   ]
  },
  {
   "cell_type": "markdown",
   "metadata": {},
   "source": [
    "# Actividad 1 (Atencion al cliente)\n",
    "\n",
    "Trabaja con table Customer"
   ]
  },
  {
   "cell_type": "code",
   "execution_count": 140,
   "metadata": {},
   "outputs": [
    {
     "data": {
      "text/plain": [
       "('luisg@embraer.com.br',)"
      ]
     },
     "execution_count": 140,
     "metadata": {},
     "output_type": "execute_result"
    }
   ],
   "source": [
    "# 1)mustra la columna 'Email'\n",
    "res = cursor.execute('SELECT Email FROM Customer')\n",
    "res.fetchone()"
   ]
  },
  {
   "cell_type": "code",
   "execution_count": 141,
   "metadata": {},
   "outputs": [
    {
     "data": {
      "text/plain": [
       "('Luís',)"
      ]
     },
     "execution_count": 141,
     "metadata": {},
     "output_type": "execute_result"
    }
   ],
   "source": [
    "# 2)muestra la columna FirstName\n",
    "res = cursor.execute('SELECT FirstName FROM Customer')\n",
    "res.fetchone()"
   ]
  },
  {
   "cell_type": "code",
   "execution_count": 142,
   "metadata": {},
   "outputs": [
    {
     "data": {
      "text/plain": [
       "('Luís', 'Gonçalves')"
      ]
     },
     "execution_count": 142,
     "metadata": {},
     "output_type": "execute_result"
    }
   ],
   "source": [
    "# 3)muestra la columna FirstName y LastName\n",
    "res = cursor.execute('SELECT FirstName , LastName FROM Customer')\n",
    "res.fetchone()"
   ]
  },
  {
   "cell_type": "code",
   "execution_count": 143,
   "metadata": {},
   "outputs": [
    {
     "data": {
      "text/plain": [
       "('Luís',\n",
       " 'Av. Brigadeiro Faria Lima, 2170',\n",
       " '+55 (12) 3923-5555',\n",
       " '+55 (12) 3923-5566')"
      ]
     },
     "execution_count": 143,
     "metadata": {},
     "output_type": "execute_result"
    }
   ],
   "source": [
    "# 4) muestra la columna Address, Phone, Fax\n",
    "res = cursor.execute('SELECT FirstName, Address, Phone, Fax FROM Customer')\n",
    "res.fetchone()"
   ]
  },
  {
   "cell_type": "code",
   "execution_count": 144,
   "metadata": {},
   "outputs": [
    {
     "data": {
      "text/plain": [
       "(1,\n",
       " 'Luís',\n",
       " 'Gonçalves',\n",
       " 'Embraer - Empresa Brasileira de Aeronáutica S.A.',\n",
       " 'Av. Brigadeiro Faria Lima, 2170',\n",
       " 'São José dos Campos',\n",
       " 'SP',\n",
       " 'Brazil',\n",
       " '12227-000',\n",
       " '+55 (12) 3923-5555',\n",
       " '+55 (12) 3923-5566',\n",
       " 'luisg@embraer.com.br',\n",
       " 3)"
      ]
     },
     "execution_count": 144,
     "metadata": {},
     "output_type": "execute_result"
    }
   ],
   "source": [
    "# 5) muestra todas las columnas\n",
    "res = cursor.execute('SELECT * FROM Customer')\n",
    "res.fetchone()"
   ]
  },
  {
   "cell_type": "markdown",
   "metadata": {},
   "source": [
    "# Actividad 2(Ordenando a mi manera) "
   ]
  },
  {
   "cell_type": "code",
   "execution_count": 145,
   "metadata": {},
   "outputs": [
    {
     "name": "stdout",
     "output_type": "stream",
     "text": [
      "0 (23, 'Alternative')\n",
      "1 (4, 'Alternative & Punk')\n",
      "2 (6, 'Blues')\n",
      "3 (11, 'Bossa Nova')\n",
      "4 (24, 'Classical')\n",
      "5 (22, 'Comedy')\n",
      "6 (21, 'Drama')\n",
      "7 (12, 'Easy Listening')\n",
      "8 (15, 'Electronica/Dance')\n",
      "9 (13, 'Heavy Metal')\n",
      "10 (17, 'Hip Hop/Rap')\n",
      "11 (2, 'Jazz')\n",
      "12 (7, 'Latin')\n",
      "13 (3, 'Metal')\n",
      "14 (25, 'Opera')\n",
      "15 (9, 'Pop')\n",
      "16 (14, 'R&B/Soul')\n",
      "17 (8, 'Reggae')\n",
      "18 (1, 'Rock')\n",
      "19 (5, 'Rock And Roll')\n",
      "20 (20, 'Sci Fi & Fantasy')\n",
      "21 (18, 'Science Fiction')\n",
      "22 (10, 'Soundtrack')\n",
      "23 (19, 'TV Shows')\n",
      "24 (16, 'World')\n"
     ]
    }
   ],
   "source": [
    "# 1) ordena la tabla 'Genre' por orden alfabetico \n",
    "res1 = cursor.execute('SELECT * FROM Genre ORDER BY Name')\n",
    "for i, j in enumerate(res):\n",
    "    print(i, j)"
   ]
  },
  {
   "cell_type": "code",
   "execution_count": 146,
   "metadata": {},
   "outputs": [
    {
     "name": "stdout",
     "output_type": "stream",
     "text": [
      "0 (23, 'Alternative')\n",
      "1 (4, 'Alternative & Punk')\n",
      "2 (6, 'Blues')\n",
      "3 (11, 'Bossa Nova')\n",
      "4 (24, 'Classical')\n",
      "5 (22, 'Comedy')\n"
     ]
    }
   ],
   "source": [
    "# 2) corta los resultados para que solo se muestren los 6 primeros \n",
    "res = cursor.execute('SELECT * FROM Genre ORDER BY Name LIMIT 6')\n",
    "for i, j in enumerate(res):\n",
    "    print(i, j)"
   ]
  },
  {
   "cell_type": "code",
   "execution_count": 147,
   "metadata": {},
   "outputs": [
    {
     "name": "stdout",
     "output_type": "stream",
     "text": [
      "0 (16, 'World')\n",
      "1 (19, 'TV Shows')\n"
     ]
    }
   ],
   "source": [
    "# 3) muestra las ultimas 2 filas de la tabla\n",
    "res = cursor.execute('SELECT * FROM (SELECT * FROM Genre ORDER BY Name) ORDER BY Name DESC LIMIT 2')\n",
    "for i, j in enumerate(res):\n",
    "    print(i, j)\n"
   ]
  },
  {
   "cell_type": "code",
   "execution_count": null,
   "metadata": {},
   "outputs": [],
   "source": []
  },
  {
   "cell_type": "markdown",
   "metadata": {},
   "source": [
    "# Actividad 3 (En busca del peor cliente)\n",
    "\n",
    "Usamos la tabla Customer"
   ]
  },
  {
   "cell_type": "code",
   "execution_count": 148,
   "metadata": {},
   "outputs": [
    {
     "data": {
      "text/plain": [
       "(4, 'Bjørn', 'Hansen', 'Norway')"
      ]
     },
     "execution_count": 148,
     "metadata": {},
     "output_type": "execute_result"
    }
   ],
   "source": [
    "# 1) muestra los usuarios que han reportado mas de 3 incidencias (columna donde de cuenta es 'SupportRepid')\n",
    "\n",
    "res = cursor.execute('SELECT CustomerId, FirstName, LastName, Country FROM Customer WHERE SupportRepid > 3')\n",
    "res.fetchone()\n",
    "    "
   ]
  },
  {
   "cell_type": "code",
   "execution_count": 149,
   "metadata": {},
   "outputs": [
    {
     "data": {
      "text/plain": [
       "[(10, 'Eduardo', 'Martins', 'Brazil'),\n",
       " (13, 'Fernanda', 'Ramos', 'Brazil'),\n",
       " (11, 'Alexandre', 'Rocha', 'Brazil')]"
      ]
     },
     "execution_count": 149,
     "metadata": {},
     "output_type": "execute_result"
    }
   ],
   "source": [
    "# 2) filtra los resultados anteriores por los que viven en 'Brasil'\n",
    "res = cursor.execute('SELECT CustomerId, FirstName, LastName, Country FROM Customer WHERE (SupportRepid > 3 and Country = \"Brazil\")')\n",
    "res.fetchall()"
   ]
  },
  {
   "cell_type": "code",
   "execution_count": 150,
   "metadata": {},
   "outputs": [
    {
     "data": {
      "text/plain": [
       "[('Leonie', 'Köhler', 'Germany', '70174'),\n",
       " ('Fernanda', 'Ramos', 'Brazil', '71020-677'),\n",
       " ('Richard', 'Cunningham', 'USA', '76110'),\n",
       " ('Camille', 'Bernard', 'France', '75009'),\n",
       " ('Dominique', 'Lefebvre', 'France', '75002')]"
      ]
     },
     "execution_count": 150,
     "metadata": {},
     "output_type": "execute_result"
    }
   ],
   "source": [
    "# 3) muestra los usuarios que tengan un codico postal empezando con 7\n",
    "res = cursor.execute('SELECT FirstName, LastName, Country, PostalCode From Customer WHERE PostalCode LIKE \"7%\"')\n",
    "res.fetchall()\n"
   ]
  },
  {
   "cell_type": "code",
   "execution_count": 151,
   "metadata": {},
   "outputs": [],
   "source": [
    "# 4) muestra los usuarios que tengan un email de 'hotmail'\n",
    "cursor.execute('SELECT FirstName, LastName, Email FROM Customer WHERE Email LIKE \"%hotmail%\"')\n",
    "res = cursor.fetchall()\n"
   ]
  },
  {
   "cell_type": "code",
   "execution_count": 152,
   "metadata": {},
   "outputs": [
    {
     "data": {
      "text/plain": [
       "[('Kathy', 'Chase', 'kachase@hotmail.com'),\n",
       " ('Richard', 'Cunningham', 'ricunningham@hotmail.com'),\n",
       " ('Marc', 'Dubois', 'marc.dubois@hotmail.com'),\n",
       " ('Emma', 'Jones', 'emma_jones@hotmail.com')]"
      ]
     },
     "execution_count": 152,
     "metadata": {},
     "output_type": "execute_result"
    }
   ],
   "source": [
    "res"
   ]
  },
  {
   "cell_type": "code",
   "execution_count": 153,
   "metadata": {},
   "outputs": [
    {
     "data": {
      "text/plain": [
       "[('François', 'Tremblay', 'Canada', 'ftremblay@gmail.com'),\n",
       " ('Mark', 'Philips', 'Canada', 'mphilips12@shaw.ca'),\n",
       " ('Jennifer', 'Peterson', 'Canada', 'jenniferp@rogers.ca'),\n",
       " ('Frank', 'Harris', 'USA', 'fharris@google.com'),\n",
       " ('Jack', 'Smith', 'USA', 'jacksmith@microsoft.com'),\n",
       " ('Michelle', 'Brooks', 'USA', 'michelleb@aol.com'),\n",
       " ('Tim', 'Goyer', 'USA', 'tgoyer@apple.com'),\n",
       " ('Dan', 'Miller', 'USA', 'dmiller@comcast.com'),\n",
       " ('Kathy', 'Chase', 'USA', 'kachase@hotmail.com'),\n",
       " ('Heather', 'Leacock', 'USA', 'hleacock@gmail.com'),\n",
       " ('John', 'Gordon', 'USA', 'johngordon22@yahoo.com'),\n",
       " ('Frank', 'Ralston', 'USA', 'fralston@gmail.com'),\n",
       " ('Victor', 'Stevens', 'USA', 'vstevens@yahoo.com'),\n",
       " ('Richard', 'Cunningham', 'USA', 'ricunningham@hotmail.com'),\n",
       " ('Patrick', 'Gray', 'USA', 'patrick.gray@aol.com'),\n",
       " ('Julia', 'Barnett', 'USA', 'jubarnett@gmail.com'),\n",
       " ('Robert', 'Brown', 'Canada', 'robbrown@shaw.ca'),\n",
       " ('Edward', 'Francis', 'Canada', 'edfrancis@yachoo.ca'),\n",
       " ('Martha', 'Silk', 'Canada', 'marthasilk@gmail.com'),\n",
       " ('Aaron', 'Mitchell', 'Canada', 'aaronmitchell@yahoo.ca'),\n",
       " ('Ellie', 'Sullivan', 'Canada', 'ellie.sullivan@shaw.ca')]"
      ]
     },
     "execution_count": 153,
     "metadata": {},
     "output_type": "execute_result"
    }
   ],
   "source": [
    "# 5) muestra los usuarios nacidos en USA o Canada\n",
    "cursor.execute('SELECT FirstName, LastName, Country, Email FROM Customer WHERE Country = \"USA\" OR Country = \"Canada\"')\n",
    "res = cursor.fetchall()\n",
    "res"
   ]
  },
  {
   "cell_type": "code",
   "execution_count": 154,
   "metadata": {},
   "outputs": [
    {
     "data": {
      "text/plain": [
       "[('François', 'Tremblay', 'Canada', 'ftremblay@gmail.com'),\n",
       " ('Heather', 'Leacock', 'USA', 'hleacock@gmail.com'),\n",
       " ('Frank', 'Ralston', 'USA', 'fralston@gmail.com'),\n",
       " ('Julia', 'Barnett', 'USA', 'jubarnett@gmail.com'),\n",
       " ('Martha', 'Silk', 'Canada', 'marthasilk@gmail.com')]"
      ]
     },
     "execution_count": 154,
     "metadata": {},
     "output_type": "execute_result"
    }
   ],
   "source": [
    "# 6) de los resultados anteriores, muestra los que tengan un email de 'gmail'\n",
    "cursor.execute('SELECT FirstName, LastName, Country, Email FROM Customer WHERE Email LIKE \"%@gmail%\" AND (Country = \"USA\" OR Country = \"Canada\")')\n",
    "res = cursor.fetchall()\n",
    "res"
   ]
  },
  {
   "cell_type": "code",
   "execution_count": 155,
   "metadata": {},
   "outputs": [
    {
     "data": {
      "text/plain": [
       "[('Tim', 'Goyer', 'Apple Inc.')]"
      ]
     },
     "execution_count": 155,
     "metadata": {},
     "output_type": "execute_result"
    }
   ],
   "source": [
    "# 6) muestra los usuarios que trabaja en Apple (columna Company)\n",
    "# Aviso: np sabes el formato de la compania, podria ser: Apple SL, Company Apple, APPLE...\n",
    "cursor.execute('SELECT  FirstName, LastName, Company FROM Customer WHERE Company LIKE \"%APPLE%\"')\n",
    "res = cursor.fetchall()\n",
    "res"
   ]
  },
  {
   "cell_type": "code",
   "execution_count": 156,
   "metadata": {},
   "outputs": [
    {
     "data": {
      "text/plain": [
       "[('Luís', 'Gonçalves', 3),\n",
       " ('François', 'Tremblay', 3),\n",
       " ('Roberto', 'Almeida', 3),\n",
       " ('Jennifer', 'Peterson', 3),\n",
       " ('Michelle', 'Brooks', 3),\n",
       " ('Tim', 'Goyer', 3),\n",
       " ('Frank', 'Ralston', 3),\n",
       " ('Robert', 'Brown', 3),\n",
       " ('Edward', 'Francis', 3),\n",
       " ('Ellie', 'Sullivan', 3),\n",
       " ('Fynn', 'Zimmermann', 3),\n",
       " ('Niklas', 'Schröder', 3),\n",
       " ('Wyatt', 'Girard', 3),\n",
       " ('Isabelle', 'Mercier', 3),\n",
       " ('Terhi', 'Hämäläinen', 3),\n",
       " ('Ladislav', 'Kovács', 3),\n",
       " ('Hugh', \"O'Reilly\", 3),\n",
       " ('Emma', 'Jones', 3),\n",
       " ('Phil', 'Hughes', 3),\n",
       " ('Manoj', 'Pareek', 3),\n",
       " ('Puja', 'Srivastava', 3),\n",
       " ('Bjørn', 'Hansen', 4),\n",
       " ('František', 'Wichterlová', 4),\n",
       " ('Daan', 'Peeters', 4),\n",
       " ('Kara', 'Nielsen', 4),\n",
       " ('Eduardo', 'Martins', 4),\n",
       " ('Fernanda', 'Ramos', 4),\n",
       " ('Frank', 'Harris', 4),\n",
       " ('Dan', 'Miller', 4),\n",
       " ('Heather', 'Leacock', 4),\n",
       " ('John', 'Gordon', 4),\n",
       " ('Richard', 'Cunningham', 4),\n",
       " ('Patrick', 'Gray', 4),\n",
       " ('Aaron', 'Mitchell', 4),\n",
       " ('João', 'Fernandes', 4),\n",
       " ('Madalena', 'Sampaio', 4),\n",
       " ('Camille', 'Bernard', 4),\n",
       " ('Dominique', 'Lefebvre', 4),\n",
       " ('Stanisław', 'Wójcik', 4),\n",
       " ('Mark', 'Taylor', 4),\n",
       " ('Diego', 'Gutiérrez', 4)]"
      ]
     },
     "execution_count": 156,
     "metadata": {},
     "output_type": "execute_result"
    }
   ],
   "source": [
    "# 7) muestra los usuarios que han reportado entre 3 y 4 incidencias\n",
    "cursor.execute('SELECT FirstName, LastName, SupportRepid FROM Customer WHERE SupportRepid BETWEEN 3 AND 4')\n",
    "res = cursor.fetchall()\n",
    "res"
   ]
  },
  {
   "cell_type": "markdown",
   "metadata": {},
   "source": [
    "# Actividad 3 (Limpieza de personal)\n",
    "\n",
    "Usaremos la tabla 'Employee'"
   ]
  },
  {
   "cell_type": "code",
   "execution_count": 157,
   "metadata": {},
   "outputs": [
    {
     "data": {
      "text/plain": [
       "[('Calgary', 5), ('Edmonton', 1), ('Lethbridge', 2)]"
      ]
     },
     "execution_count": 157,
     "metadata": {},
     "output_type": "execute_result"
    }
   ],
   "source": [
    "# 1) Cuenta la cantidad de empleados que hay por ciudad\n",
    "cursor.execute('SELECT City, count(EmployeeId) FROM Employee GROUP BY City')\n",
    "cursor.fetchall()"
   ]
  },
  {
   "cell_type": "code",
   "execution_count": 158,
   "metadata": {},
   "outputs": [
    {
     "data": {
      "text/plain": [
       "[('General Manager', 1),\n",
       " ('IT Manager', 1),\n",
       " ('IT Staff', 2),\n",
       " ('Sales Manager', 1),\n",
       " ('Sales Support Agent', 3)]"
      ]
     },
     "execution_count": 158,
     "metadata": {},
     "output_type": "execute_result"
    }
   ],
   "source": [
    "# 2) cuenta la cantidad de empleados que hay por departamento\n",
    "cursor.execute('SELECT  Title, count(EmployeeId) FROM Employee GROUP BY Title')\n",
    "cursor.fetchall()"
   ]
  },
  {
   "cell_type": "code",
   "execution_count": 159,
   "metadata": {},
   "outputs": [
    {
     "data": {
      "text/plain": [
       "[('Andrew', 'Adams', 61),\n",
       " ('Nancy', 'Edwards', 64),\n",
       " ('Jane', 'Peacock', 50),\n",
       " ('Margaret', 'Park', 76),\n",
       " ('Steve', 'Johnson', 58),\n",
       " ('Michael', 'Mitchell', 50),\n",
       " ('Robert', 'King', 53),\n",
       " ('Laura', 'Callahan', 55)]"
      ]
     },
     "execution_count": 159,
     "metadata": {},
     "output_type": "execute_result"
    }
   ],
   "source": [
    "# 3) muestra la edad de cada empleado\n",
    "cursor.execute(\"SELECT FirstName, LastName, (strftime('%Y', 'now') - strftime('%Y', BirthDate)) - (strftime('%m-%d', 'now') < strftime('%m-%d', BirthDate)) AS Age FROM Employee\")\n",
    "cursor.fetchall()"
   ]
  },
  {
   "cell_type": "code",
   "execution_count": 160,
   "metadata": {},
   "outputs": [
    {
     "data": {
      "text/plain": [
       "[('General Manager', 61.0),\n",
       " ('IT Manager', 50.0),\n",
       " ('IT Staff', 54.0),\n",
       " ('Sales Manager', 64.0),\n",
       " ('Sales Support Agent', 61.333333333333336)]"
      ]
     },
     "execution_count": 160,
     "metadata": {},
     "output_type": "execute_result"
    }
   ],
   "source": [
    "# 4) calcula la media de edad por departamento (Title)\n",
    "\n",
    "cursor.execute(\"SELECT Title, AVG((strftime('%Y', 'now') - strftime('%Y', BirthDate)) - (strftime('%m-%d', 'now') < strftime('%m-%d', BirthDate))) FROM Employee GROUP BY Title\")\n",
    "cursor.fetchall()"
   ]
  },
  {
   "cell_type": "code",
   "execution_count": 161,
   "metadata": {},
   "outputs": [
    {
     "data": {
      "text/plain": [
       "[('2002', 3), ('2003', 3), ('2004', 2)]"
      ]
     },
     "execution_count": 161,
     "metadata": {},
     "output_type": "execute_result"
    }
   ],
   "source": [
    "# 5) cuenta los empleados que fueron contratados, de media, por año\n",
    "cursor.execute(\"SELECT strftime('%Y', HireDate), count(HireDate) FROM Employee GROUP BY strftime('%Y', HireDate)\")\n",
    "cursor.fetchall()"
   ]
  },
  {
   "cell_type": "code",
   "execution_count": 162,
   "metadata": {},
   "outputs": [
    {
     "data": {
      "text/plain": [
       "[(2.6666666666666665,)]"
      ]
     },
     "execution_count": 162,
     "metadata": {},
     "output_type": "execute_result"
    }
   ],
   "source": [
    "cursor.execute(\"SELECT AVG(numero) FROM (SELECT strftime('%Y', HireDate) AS anno, count(*) AS numero FROM Employee GROUP BY anno)\")\n",
    "cursor.fetchall()"
   ]
  },
  {
   "cell_type": "markdown",
   "metadata": {},
   "source": [
    "# Actividad 4(Experto en canciones)\n",
    "Volvemos a usar la tabla 'Track'"
   ]
  },
  {
   "cell_type": "code",
   "execution_count": 163,
   "metadata": {},
   "outputs": [
    {
     "data": {
      "text/plain": [
       "[('Balls to the Wall',),\n",
       " ('Fast As a Shark',),\n",
       " ('Restless and Wild',),\n",
       " ('Princess of the Dawn',),\n",
       " ('Welcome to the Jungle',),\n",
       " (\"It's So Easy\",),\n",
       " ('Nightrain',),\n",
       " ('Out Ta Get Me',),\n",
       " ('Mr. Brownstone',),\n",
       " ('Paradise City',),\n",
       " ('My Michelle',),\n",
       " ('Think About You',),\n",
       " (\"Sweet Child O' Mine\",),\n",
       " (\"You're Crazy\",),\n",
       " ('Anything Goes',),\n",
       " ('Rocket Queen',),\n",
       " ('Right Next Door to Hell',),\n",
       " (\"Dust N' Bones\",),\n",
       " ('Live and Let Die',),\n",
       " (\"Don't Cry (Original)\",)]"
      ]
     },
     "execution_count": 163,
     "metadata": {},
     "output_type": "execute_result"
    }
   ],
   "source": [
    "# 1) Muestra todos los canciones con el MediaType Protected AAC audiofile.\n",
    "cursor.execute(\"SELECT Name FROM Track WHERE MediaTypeId = (SELECT MediaTypeId FROM MediaType WHERE Name = 'Protected AAC audio file')\")\n",
    "cursor.fetchmany(20)\n"
   ]
  },
  {
   "cell_type": "code",
   "execution_count": 164,
   "metadata": {},
   "outputs": [
    {
     "data": {
      "text/plain": [
       "[('Balls to the Wall',),\n",
       " ('Fast As a Shark',),\n",
       " ('Restless and Wild',),\n",
       " ('Princess of the Dawn',),\n",
       " ('Welcome to the Jungle',),\n",
       " (\"It's So Easy\",),\n",
       " ('Nightrain',),\n",
       " ('Out Ta Get Me',),\n",
       " ('Mr. Brownstone',),\n",
       " ('Paradise City',),\n",
       " ('My Michelle',),\n",
       " ('Think About You',),\n",
       " (\"Sweet Child O' Mine\",),\n",
       " (\"You're Crazy\",),\n",
       " ('Anything Goes',),\n",
       " ('Rocket Queen',),\n",
       " ('Right Next Door to Hell',),\n",
       " (\"Dust N' Bones\",),\n",
       " ('Live and Let Die',),\n",
       " (\"Don't Cry (Original)\",)]"
      ]
     },
     "execution_count": 164,
     "metadata": {},
     "output_type": "execute_result"
    }
   ],
   "source": [
    "# 2)muestra todas las canciones que contengan algun MediaType con 'AAC'.\n",
    "cursor.execute(\"SELECT Name FROM Track WHERE MediaTypeId = (SELECT MediaTypeId FROM MediaType WHERE Name LIKE '%AAC%')\");\n",
    "cursor.fetchmany(20)"
   ]
  },
  {
   "cell_type": "code",
   "execution_count": null,
   "metadata": {},
   "outputs": [],
   "source": [
    "# 3) muestra todas las canciones que duren mas de 2 minutos\n",
    "\n",
    "cursor.execute('SELECT Name FROM Track WHERE Milliseconds > 120000')\n",
    "cursor.fetchmany(20)"
   ]
  },
  {
   "cell_type": "code",
   "execution_count": null,
   "metadata": {},
   "outputs": [],
   "source": [
    "# 4) muestra todas las canciones de Jazz\n",
    "cursor.execute('SELECT Name FROM Track WHERE GenreId = (SELECT GenreId FROM Genre WHERE Name = \"Jazz\")')\n",
    "cursor.fetchall()"
   ]
  },
  {
   "cell_type": "code",
   "execution_count": 182,
   "metadata": {},
   "outputs": [
    {
     "data": {
      "text/plain": [
       "(2820, 'Occupation / Precipice', 5286953)"
      ]
     },
     "execution_count": 182,
     "metadata": {},
     "output_type": "execute_result"
    }
   ],
   "source": [
    "# 5) averigua cual es la cancion mas pesada\n",
    "cursor.execute('SELECT TrackId, Name, MAX(Milliseconds) FROM Track')\n",
    "cursor.fetchone()"
   ]
  },
  {
   "cell_type": "code",
   "execution_count": 197,
   "metadata": {},
   "outputs": [
    {
     "data": {
      "text/plain": [
       "[(1, 'Jimmy Page/Led Zeppelin')]"
      ]
     },
     "execution_count": 197,
     "metadata": {},
     "output_type": "execute_result"
    }
   ],
   "source": [
    "# 6) CUANTOS DISCOS TIENE Led Zeppelin ?\n",
    "cursor.execute(\"SELECT count(AlbumId), Composer FROM Track WHERE Composer LIKE '%led%' COLLATE NOCASE\")\n",
    "cursor.fetchall()"
   ]
  },
  {
   "cell_type": "code",
   "execution_count": 198,
   "metadata": {},
   "outputs": [],
   "source": [
    "# 7) DE ENTRE SUS DISCOS, ¿CUANTO CUESTA EL DISCO \"House Of The Holy\"?"
   ]
  }
 ],
 "metadata": {
  "kernelspec": {
   "display_name": "Python 3 (ipykernel)",
   "language": "python",
   "name": "python3"
  },
  "language_info": {
   "codemirror_mode": {
    "name": "ipython",
    "version": 3
   },
   "file_extension": ".py",
   "mimetype": "text/x-python",
   "name": "python",
   "nbconvert_exporter": "python",
   "pygments_lexer": "ipython3",
   "version": "3.9.13"
  },
  "vscode": {
   "interpreter": {
    "hash": "6405a8b8ab79e80e04a863ac4b9be64f0d13f8b3341f5aa722c7842f75c21e99"
   }
  }
 },
 "nbformat": 4,
 "nbformat_minor": 4
}
