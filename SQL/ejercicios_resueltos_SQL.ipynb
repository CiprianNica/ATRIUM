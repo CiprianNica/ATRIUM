{
 "cells": [
  {
   "cell_type": "markdown",
   "metadata": {},
   "source": [
    "Crea notebook de Jupyter y con la librería de SQLite realiza las siguientes consultas a la base de datos \"Chinook_Sqlite\" (archivo proporcionado junto con los apuntes de SQL)."
   ]
  },
  {
   "cell_type": "code",
   "execution_count": 18,
   "metadata": {},
   "outputs": [],
   "source": [
    "import sqlite3\n",
    "conn = sqlite3.connect('Chinook_Sqlite.sqlite')"
   ]
  },
  {
   "cell_type": "code",
   "execution_count": 19,
   "metadata": {},
   "outputs": [],
   "source": [
    "cur = conn.cursor()"
   ]
  },
  {
   "cell_type": "markdown",
   "metadata": {},
   "source": [
    "Trabaja con table Customer"
   ]
  },
  {
   "cell_type": "code",
   "execution_count": 20,
   "metadata": {},
   "outputs": [
    {
     "data": {
      "text/plain": [
       "('luisg@embraer.com.br',)"
      ]
     },
     "execution_count": 20,
     "metadata": {},
     "output_type": "execute_result"
    }
   ],
   "source": [
    "# mustra la columna 'Email'\n",
    "res = cur.execute('SELECT Email FROM Customer')\n",
    "res.fetchone()"
   ]
  },
  {
   "cell_type": "code",
   "execution_count": 21,
   "metadata": {},
   "outputs": [
    {
     "data": {
      "text/plain": [
       "('Luís',)"
      ]
     },
     "execution_count": 21,
     "metadata": {},
     "output_type": "execute_result"
    }
   ],
   "source": [
    "# muestra la columna FirstName\n",
    "res = cur.execute('SELECT FirstName FROM Customer')\n",
    "res.fetchone()"
   ]
  },
  {
   "cell_type": "code",
   "execution_count": 22,
   "metadata": {},
   "outputs": [
    {
     "data": {
      "text/plain": [
       "('Luís', 'Gonçalves')"
      ]
     },
     "execution_count": 22,
     "metadata": {},
     "output_type": "execute_result"
    }
   ],
   "source": [
    "# muestra la columna FirstName y LastName\n",
    "res = cur.execute('SELECT FirstName , LastName FROM Customer')\n",
    "res.fetchone()"
   ]
  },
  {
   "cell_type": "code",
   "execution_count": 23,
   "metadata": {},
   "outputs": [
    {
     "data": {
      "text/plain": [
       "('Luís',\n",
       " 'Av. Brigadeiro Faria Lima, 2170',\n",
       " '+55 (12) 3923-5555',\n",
       " '+55 (12) 3923-5566')"
      ]
     },
     "execution_count": 23,
     "metadata": {},
     "output_type": "execute_result"
    }
   ],
   "source": [
    "# muestra la columna Address, Phone, Fax\n",
    "res = cur.execute('SELECT FirstName, Address, Phone, Fax FROM Customer')\n",
    "res.fetchone()"
   ]
  },
  {
   "cell_type": "code",
   "execution_count": 24,
   "metadata": {},
   "outputs": [
    {
     "data": {
      "text/plain": [
       "(1,\n",
       " 'Luís',\n",
       " 'Gonçalves',\n",
       " 'Embraer - Empresa Brasileira de Aeronáutica S.A.',\n",
       " 'Av. Brigadeiro Faria Lima, 2170',\n",
       " 'São José dos Campos',\n",
       " 'SP',\n",
       " 'Brazil',\n",
       " '12227-000',\n",
       " '+55 (12) 3923-5555',\n",
       " '+55 (12) 3923-5566',\n",
       " 'luisg@embraer.com.br',\n",
       " 3)"
      ]
     },
     "execution_count": 24,
     "metadata": {},
     "output_type": "execute_result"
    }
   ],
   "source": [
    "# muestra todas las columnas\n",
    "res = cur.execute('SELECT * FROM Customer')\n",
    "res.fetchone()"
   ]
  },
  {
   "cell_type": "markdown",
   "metadata": {},
   "source": [
    "Actividad 3-1(Ordenando a mi manera) "
   ]
  },
  {
   "cell_type": "code",
   "execution_count": 25,
   "metadata": {},
   "outputs": [
    {
     "name": "stdout",
     "output_type": "stream",
     "text": [
      "0 (23, 'Alternative')\n",
      "1 (4, 'Alternative & Punk')\n",
      "2 (6, 'Blues')\n",
      "3 (11, 'Bossa Nova')\n",
      "4 (24, 'Classical')\n",
      "5 (22, 'Comedy')\n",
      "6 (21, 'Drama')\n",
      "7 (12, 'Easy Listening')\n",
      "8 (15, 'Electronica/Dance')\n",
      "9 (13, 'Heavy Metal')\n",
      "10 (17, 'Hip Hop/Rap')\n",
      "11 (2, 'Jazz')\n",
      "12 (7, 'Latin')\n",
      "13 (3, 'Metal')\n",
      "14 (25, 'Opera')\n",
      "15 (9, 'Pop')\n",
      "16 (14, 'R&B/Soul')\n",
      "17 (8, 'Reggae')\n",
      "18 (1, 'Rock')\n",
      "19 (5, 'Rock And Roll')\n",
      "20 (20, 'Sci Fi & Fantasy')\n",
      "21 (18, 'Science Fiction')\n",
      "22 (10, 'Soundtrack')\n",
      "23 (19, 'TV Shows')\n",
      "24 (16, 'World')\n"
     ]
    }
   ],
   "source": [
    "# ordena la tabla 'Genre' por orden alfabetico \n",
    "res1 = cur.execute('SELECT * FROM Genre ORDER BY Name')\n",
    "for i, j in enumerate(res):\n",
    "    print(i, j)"
   ]
  },
  {
   "cell_type": "code",
   "execution_count": 26,
   "metadata": {},
   "outputs": [
    {
     "name": "stdout",
     "output_type": "stream",
     "text": [
      "0 (23, 'Alternative')\n",
      "1 (4, 'Alternative & Punk')\n",
      "2 (6, 'Blues')\n",
      "3 (11, 'Bossa Nova')\n",
      "4 (24, 'Classical')\n",
      "5 (22, 'Comedy')\n"
     ]
    }
   ],
   "source": [
    "# corta los resultados para que solo se muestren los 6 primeros \n",
    "res = cur.execute('SELECT * FROM Genre ORDER BY Name LIMIT 6')\n",
    "for i, j in enumerate(res):\n",
    "    print(i, j)"
   ]
  },
  {
   "cell_type": "code",
   "execution_count": 27,
   "metadata": {},
   "outputs": [
    {
     "name": "stdout",
     "output_type": "stream",
     "text": [
      "0 (16, 'World')\n",
      "1 (19, 'TV Shows')\n"
     ]
    }
   ],
   "source": [
    "# muestra las ultimas 2 filas de la tabla\n",
    "res = cur.execute('SELECT * FROM (SELECT * FROM Genre ORDER BY Name) ORDER BY Name DESC LIMIT 2')\n",
    "for i, j in enumerate(res):\n",
    "    print(i, j)\n"
   ]
  },
  {
   "cell_type": "markdown",
   "metadata": {},
   "source": [
    "Actividad 3-2 (En busca del peor cliente)\n",
    "\n",
    "Usamos la tabla Customer"
   ]
  },
  {
   "cell_type": "code",
   "execution_count": 28,
   "metadata": {},
   "outputs": [
    {
     "data": {
      "text/plain": [
       "(4, 'Bjørn', 'Hansen', 'Norway')"
      ]
     },
     "execution_count": 28,
     "metadata": {},
     "output_type": "execute_result"
    }
   ],
   "source": [
    "# muestra los usuarios que han reportado mas de 3 incidencias\n",
    "# columna donde de cuenta es 'SupportRepid'\n",
    "\n",
    "res = cur.execute('SELECT CustomerId, FirstName, LastName, Country FROM Customer WHERE SupportRepid > 3')\n",
    "res.fetchone()\n",
    "    "
   ]
  },
  {
   "cell_type": "code",
   "execution_count": 29,
   "metadata": {},
   "outputs": [
    {
     "data": {
      "text/plain": [
       "[(10, 'Eduardo', 'Martins', 'Brazil'),\n",
       " (13, 'Fernanda', 'Ramos', 'Brazil'),\n",
       " (11, 'Alexandre', 'Rocha', 'Brazil')]"
      ]
     },
     "execution_count": 29,
     "metadata": {},
     "output_type": "execute_result"
    }
   ],
   "source": [
    "# filtra los resultados anteriores por los que viven en Brasil\n",
    "res = cur.execute('SELECT CustomerId, FirstName, LastName, Country FROM Customer WHERE (SupportRepid > 3 and Country = \"Brazil\")');\n",
    "res.fetchall()\n"
   ]
  },
  {
   "cell_type": "code",
   "execution_count": 30,
   "metadata": {},
   "outputs": [
    {
     "data": {
      "text/plain": [
       "[('Leonie', 'Köhler', 'Germany', '70174'),\n",
       " ('Fernanda', 'Ramos', 'Brazil', '71020-677'),\n",
       " ('Richard', 'Cunningham', 'USA', '76110'),\n",
       " ('Camille', 'Bernard', 'France', '75009'),\n",
       " ('Dominique', 'Lefebvre', 'France', '75002')]"
      ]
     },
     "execution_count": 30,
     "metadata": {},
     "output_type": "execute_result"
    }
   ],
   "source": [
    "# muestra los usuarios que tengan un codico postal empezando con 7\n",
    "res = cur.execute('SELECT FirstName, LastName, Country, PostalCode From Customer WHERE PostalCode LIKE \"7%\"')\n",
    "res.fetchall()\n"
   ]
  },
  {
   "cell_type": "code",
   "execution_count": 31,
   "metadata": {},
   "outputs": [
    {
     "data": {
      "text/plain": [
       "<sqlite3.Cursor at 0x7ff4ed8da880>"
      ]
     },
     "execution_count": 31,
     "metadata": {},
     "output_type": "execute_result"
    }
   ],
   "source": [
    "res"
   ]
  },
  {
   "cell_type": "code",
   "execution_count": 41,
   "metadata": {},
   "outputs": [],
   "source": [
    "# muestra los usuarios que tengan un email de 'hotmail'\n",
    "cur.execute('SELECT FirstName, LastName, Email FROM Customer WHERE Email LIKE \"%hotmail%\"')\n",
    "res = cur.fetchall()\n"
   ]
  },
  {
   "cell_type": "code",
   "execution_count": 42,
   "metadata": {},
   "outputs": [
    {
     "data": {
      "text/plain": [
       "[('Kathy', 'Chase', 'kachase@hotmail.com'),\n",
       " ('Richard', 'Cunningham', 'ricunningham@hotmail.com'),\n",
       " ('Marc', 'Dubois', 'marc.dubois@hotmail.com'),\n",
       " ('Emma', 'Jones', 'emma_jones@hotmail.com')]"
      ]
     },
     "execution_count": 42,
     "metadata": {},
     "output_type": "execute_result"
    }
   ],
   "source": [
    "res"
   ]
  },
  {
   "cell_type": "code",
   "execution_count": null,
   "metadata": {},
   "outputs": [],
   "source": []
  },
  {
   "cell_type": "code",
   "execution_count": null,
   "metadata": {},
   "outputs": [],
   "source": []
  }
 ],
 "metadata": {
  "kernelspec": {
   "display_name": "Python 3 (ipykernel)",
   "language": "python",
   "name": "python3"
  },
  "language_info": {
   "codemirror_mode": {
    "name": "ipython",
    "version": 3
   },
   "file_extension": ".py",
   "mimetype": "text/x-python",
   "name": "python",
   "nbconvert_exporter": "python",
   "pygments_lexer": "ipython3",
   "version": "3.9.13"
  },
  "vscode": {
   "interpreter": {
    "hash": "6405a8b8ab79e80e04a863ac4b9be64f0d13f8b3341f5aa722c7842f75c21e99"
   }
  }
 },
 "nbformat": 4,
 "nbformat_minor": 4
}
