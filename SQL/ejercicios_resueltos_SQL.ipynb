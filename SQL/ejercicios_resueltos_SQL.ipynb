{
 "cells": [
  {
   "cell_type": "markdown",
   "metadata": {},
   "source": [
    "Crea notebook de Jupyter y con la librería de SQLite realiza las siguientes consultas a la base de datos \"Chinook_Sqlite\" (archivo proporcionado junto con los apuntes de SQL)."
   ]
  },
  {
   "cell_type": "code",
   "execution_count": 168,
   "metadata": {},
   "outputs": [],
   "source": [
    "import sqlite3\n",
    "conn = sqlite3.connect('Chinook_Sqlite.sqlite')"
   ]
  },
  {
   "cell_type": "code",
   "execution_count": 169,
   "metadata": {},
   "outputs": [],
   "source": [
    "cursor = conn.cursor()"
   ]
  },
  {
   "cell_type": "markdown",
   "metadata": {},
   "source": [
    "# Actividad 1 (Atencion al cliente)\n",
    "\n",
    "Trabaja con table Customer"
   ]
  },
  {
   "cell_type": "code",
   "execution_count": 170,
   "metadata": {},
   "outputs": [
    {
     "data": {
      "text/plain": [
       "('luisg@embraer.com.br',)"
      ]
     },
     "execution_count": 170,
     "metadata": {},
     "output_type": "execute_result"
    }
   ],
   "source": [
    "# 1)mustra la columna 'Email'\n",
    "res = cursor.execute('SELECT Email FROM Customer')\n",
    "res.fetchone()"
   ]
  },
  {
   "cell_type": "code",
   "execution_count": 171,
   "metadata": {},
   "outputs": [
    {
     "data": {
      "text/plain": [
       "('Luís',)"
      ]
     },
     "execution_count": 171,
     "metadata": {},
     "output_type": "execute_result"
    }
   ],
   "source": [
    "# 2)muestra la columna FirstName\n",
    "res = cursor.execute('SELECT FirstName FROM Customer')\n",
    "res.fetchone()"
   ]
  },
  {
   "cell_type": "code",
   "execution_count": 172,
   "metadata": {},
   "outputs": [
    {
     "data": {
      "text/plain": [
       "('Luís', 'Gonçalves')"
      ]
     },
     "execution_count": 172,
     "metadata": {},
     "output_type": "execute_result"
    }
   ],
   "source": [
    "# 3)muestra la columna FirstName y LastName\n",
    "res = cursor.execute('SELECT FirstName , LastName FROM Customer')\n",
    "res.fetchone()"
   ]
  },
  {
   "cell_type": "code",
   "execution_count": 173,
   "metadata": {},
   "outputs": [
    {
     "data": {
      "text/plain": [
       "('Luís',\n",
       " 'Av. Brigadeiro Faria Lima, 2170',\n",
       " '+55 (12) 3923-5555',\n",
       " '+55 (12) 3923-5566')"
      ]
     },
     "execution_count": 173,
     "metadata": {},
     "output_type": "execute_result"
    }
   ],
   "source": [
    "# 4) muestra la columna Address, Phone, Fax\n",
    "res = cursor.execute('SELECT FirstName, Address, Phone, Fax FROM Customer')\n",
    "res.fetchone()"
   ]
  },
  {
   "cell_type": "code",
   "execution_count": 174,
   "metadata": {},
   "outputs": [
    {
     "data": {
      "text/plain": [
       "(1,\n",
       " 'Luís',\n",
       " 'Gonçalves',\n",
       " 'Embraer - Empresa Brasileira de Aeronáutica S.A.',\n",
       " 'Av. Brigadeiro Faria Lima, 2170',\n",
       " 'São José dos Campos',\n",
       " 'SP',\n",
       " 'Brazil',\n",
       " '12227-000',\n",
       " '+55 (12) 3923-5555',\n",
       " '+55 (12) 3923-5566',\n",
       " 'luisg@embraer.com.br',\n",
       " 3)"
      ]
     },
     "execution_count": 174,
     "metadata": {},
     "output_type": "execute_result"
    }
   ],
   "source": [
    "# 5) muestra todas las columnas\n",
    "res = cursor.execute('SELECT * FROM Customer')\n",
    "res.fetchone()"
   ]
  },
  {
   "cell_type": "markdown",
   "metadata": {},
   "source": [
    "# Actividad 2(Ordenando a mi manera) "
   ]
  },
  {
   "cell_type": "code",
   "execution_count": 175,
   "metadata": {},
   "outputs": [
    {
     "name": "stdout",
     "output_type": "stream",
     "text": [
      "0 (23, 'Alternative')\n",
      "1 (4, 'Alternative & Punk')\n",
      "2 (6, 'Blues')\n",
      "3 (11, 'Bossa Nova')\n",
      "4 (24, 'Classical')\n",
      "5 (22, 'Comedy')\n",
      "6 (21, 'Drama')\n",
      "7 (12, 'Easy Listening')\n",
      "8 (15, 'Electronica/Dance')\n",
      "9 (13, 'Heavy Metal')\n",
      "10 (17, 'Hip Hop/Rap')\n",
      "11 (2, 'Jazz')\n",
      "12 (7, 'Latin')\n",
      "13 (3, 'Metal')\n",
      "14 (25, 'Opera')\n",
      "15 (9, 'Pop')\n",
      "16 (14, 'R&B/Soul')\n",
      "17 (8, 'Reggae')\n",
      "18 (1, 'Rock')\n",
      "19 (5, 'Rock And Roll')\n",
      "20 (20, 'Sci Fi & Fantasy')\n",
      "21 (18, 'Science Fiction')\n",
      "22 (10, 'Soundtrack')\n",
      "23 (19, 'TV Shows')\n",
      "24 (16, 'World')\n"
     ]
    }
   ],
   "source": [
    "# 1) ordena la tabla 'Genre' por orden alfabetico \n",
    "res1 = cursor.execute('SELECT * FROM Genre ORDER BY Name')\n",
    "for i, j in enumerate(res):\n",
    "    print(i, j)"
   ]
  },
  {
   "cell_type": "code",
   "execution_count": 176,
   "metadata": {},
   "outputs": [
    {
     "name": "stdout",
     "output_type": "stream",
     "text": [
      "0 (23, 'Alternative')\n",
      "1 (4, 'Alternative & Punk')\n",
      "2 (6, 'Blues')\n",
      "3 (11, 'Bossa Nova')\n",
      "4 (24, 'Classical')\n",
      "5 (22, 'Comedy')\n"
     ]
    }
   ],
   "source": [
    "# 2) corta los resultados para que solo se muestren los 6 primeros \n",
    "res = cursor.execute('SELECT * FROM Genre ORDER BY Name LIMIT 6')\n",
    "for i, j in enumerate(res):\n",
    "    print(i, j)"
   ]
  },
  {
   "cell_type": "code",
   "execution_count": 177,
   "metadata": {},
   "outputs": [
    {
     "name": "stdout",
     "output_type": "stream",
     "text": [
      "0 (16, 'World')\n",
      "1 (19, 'TV Shows')\n"
     ]
    }
   ],
   "source": [
    "# 3) muestra las ultimas 2 filas de la tabla\n",
    "res = cursor.execute('SELECT * FROM (SELECT * FROM Genre ORDER BY Name) ORDER BY Name DESC LIMIT 2')\n",
    "for i, j in enumerate(res):\n",
    "    print(i, j)\n"
   ]
  },
  {
   "cell_type": "code",
   "execution_count": null,
   "metadata": {},
   "outputs": [],
   "source": []
  },
  {
   "cell_type": "markdown",
   "metadata": {},
   "source": [
    "# Actividad 3 (En busca del peor cliente)\n",
    "\n",
    "Usamos la tabla Customer"
   ]
  },
  {
   "cell_type": "code",
   "execution_count": 178,
   "metadata": {},
   "outputs": [
    {
     "data": {
      "text/plain": [
       "(4, 'Bjørn', 'Hansen', 'Norway')"
      ]
     },
     "execution_count": 178,
     "metadata": {},
     "output_type": "execute_result"
    }
   ],
   "source": [
    "# 1) muestra los usuarios que han reportado mas de 3 incidencias (columna donde de cuenta es 'SupportRepid')\n",
    "\n",
    "res = cursor.execute('SELECT CustomerId, FirstName, LastName, Country FROM Customer WHERE SupportRepid > 3')\n",
    "res.fetchone()\n",
    "    "
   ]
  },
  {
   "cell_type": "code",
   "execution_count": 179,
   "metadata": {},
   "outputs": [
    {
     "data": {
      "text/plain": [
       "[(10, 'Eduardo', 'Martins', 'Brazil'),\n",
       " (13, 'Fernanda', 'Ramos', 'Brazil'),\n",
       " (11, 'Alexandre', 'Rocha', 'Brazil')]"
      ]
     },
     "execution_count": 179,
     "metadata": {},
     "output_type": "execute_result"
    }
   ],
   "source": [
    "# 2) filtra los resultados anteriores por los que viven en 'Brasil'\n",
    "res = cursor.execute('SELECT CustomerId, FirstName, LastName, Country FROM Customer WHERE (SupportRepid > 3 and Country = \"Brazil\")')\n",
    "res.fetchall()"
   ]
  },
  {
   "cell_type": "code",
   "execution_count": 180,
   "metadata": {},
   "outputs": [
    {
     "data": {
      "text/plain": [
       "[('Leonie', 'Köhler', 'Germany', '70174'),\n",
       " ('Fernanda', 'Ramos', 'Brazil', '71020-677'),\n",
       " ('Richard', 'Cunningham', 'USA', '76110'),\n",
       " ('Camille', 'Bernard', 'France', '75009'),\n",
       " ('Dominique', 'Lefebvre', 'France', '75002')]"
      ]
     },
     "execution_count": 180,
     "metadata": {},
     "output_type": "execute_result"
    }
   ],
   "source": [
    "# 3) muestra los usuarios que tengan un codico postal empezando con 7\n",
    "res = cursor.execute('SELECT FirstName, LastName, Country, PostalCode From Customer WHERE PostalCode LIKE \"7%\"')\n",
    "res.fetchall()\n"
   ]
  },
  {
   "cell_type": "code",
   "execution_count": 181,
   "metadata": {},
   "outputs": [],
   "source": [
    "# 4) muestra los usuarios que tengan un email de 'hotmail'\n",
    "cursor.execute('SELECT FirstName, LastName, Email FROM Customer WHERE Email LIKE \"%hotmail%\"')\n",
    "res = cursor.fetchall()\n"
   ]
  },
  {
   "cell_type": "code",
   "execution_count": 182,
   "metadata": {},
   "outputs": [
    {
     "data": {
      "text/plain": [
       "[('Kathy', 'Chase', 'kachase@hotmail.com'),\n",
       " ('Richard', 'Cunningham', 'ricunningham@hotmail.com'),\n",
       " ('Marc', 'Dubois', 'marc.dubois@hotmail.com'),\n",
       " ('Emma', 'Jones', 'emma_jones@hotmail.com')]"
      ]
     },
     "execution_count": 182,
     "metadata": {},
     "output_type": "execute_result"
    }
   ],
   "source": [
    "res"
   ]
  },
  {
   "cell_type": "code",
   "execution_count": 183,
   "metadata": {},
   "outputs": [
    {
     "data": {
      "text/plain": [
       "[('François', 'Tremblay', 'Canada', 'ftremblay@gmail.com'),\n",
       " ('Mark', 'Philips', 'Canada', 'mphilips12@shaw.ca'),\n",
       " ('Jennifer', 'Peterson', 'Canada', 'jenniferp@rogers.ca'),\n",
       " ('Frank', 'Harris', 'USA', 'fharris@google.com'),\n",
       " ('Jack', 'Smith', 'USA', 'jacksmith@microsoft.com'),\n",
       " ('Michelle', 'Brooks', 'USA', 'michelleb@aol.com'),\n",
       " ('Tim', 'Goyer', 'USA', 'tgoyer@apple.com'),\n",
       " ('Dan', 'Miller', 'USA', 'dmiller@comcast.com'),\n",
       " ('Kathy', 'Chase', 'USA', 'kachase@hotmail.com'),\n",
       " ('Heather', 'Leacock', 'USA', 'hleacock@gmail.com'),\n",
       " ('John', 'Gordon', 'USA', 'johngordon22@yahoo.com'),\n",
       " ('Frank', 'Ralston', 'USA', 'fralston@gmail.com'),\n",
       " ('Victor', 'Stevens', 'USA', 'vstevens@yahoo.com'),\n",
       " ('Richard', 'Cunningham', 'USA', 'ricunningham@hotmail.com'),\n",
       " ('Patrick', 'Gray', 'USA', 'patrick.gray@aol.com'),\n",
       " ('Julia', 'Barnett', 'USA', 'jubarnett@gmail.com'),\n",
       " ('Robert', 'Brown', 'Canada', 'robbrown@shaw.ca'),\n",
       " ('Edward', 'Francis', 'Canada', 'edfrancis@yachoo.ca'),\n",
       " ('Martha', 'Silk', 'Canada', 'marthasilk@gmail.com'),\n",
       " ('Aaron', 'Mitchell', 'Canada', 'aaronmitchell@yahoo.ca'),\n",
       " ('Ellie', 'Sullivan', 'Canada', 'ellie.sullivan@shaw.ca')]"
      ]
     },
     "execution_count": 183,
     "metadata": {},
     "output_type": "execute_result"
    }
   ],
   "source": [
    "# 5) muestra los usuarios nacidos en USA o Canada\n",
    "cursor.execute('SELECT FirstName, LastName, Country, Email FROM Customer WHERE Country = \"USA\" OR Country = \"Canada\"')\n",
    "res = cursor.fetchall()\n",
    "res"
   ]
  },
  {
   "cell_type": "code",
   "execution_count": 184,
   "metadata": {},
   "outputs": [
    {
     "data": {
      "text/plain": [
       "[('François', 'Tremblay', 'Canada', 'ftremblay@gmail.com'),\n",
       " ('Heather', 'Leacock', 'USA', 'hleacock@gmail.com'),\n",
       " ('Frank', 'Ralston', 'USA', 'fralston@gmail.com'),\n",
       " ('Julia', 'Barnett', 'USA', 'jubarnett@gmail.com'),\n",
       " ('Martha', 'Silk', 'Canada', 'marthasilk@gmail.com')]"
      ]
     },
     "execution_count": 184,
     "metadata": {},
     "output_type": "execute_result"
    }
   ],
   "source": [
    "# 6) de los resultados anteriores, muestra los que tengan un email de 'gmail'\n",
    "cursor.execute('SELECT FirstName, LastName, Country, Email FROM Customer WHERE Email LIKE \"%@gmail%\" AND (Country = \"USA\" OR Country = \"Canada\")')\n",
    "res = cursor.fetchall()\n",
    "res"
   ]
  },
  {
   "cell_type": "code",
   "execution_count": 185,
   "metadata": {},
   "outputs": [
    {
     "data": {
      "text/plain": [
       "[('Tim', 'Goyer', 'Apple Inc.')]"
      ]
     },
     "execution_count": 185,
     "metadata": {},
     "output_type": "execute_result"
    }
   ],
   "source": [
    "# 6) muestra los usuarios que trabaja en Apple (columna Company)\n",
    "# Aviso: np sabes el formato de la compania, podria ser: Apple SL, Company Apple, APPLE...\n",
    "cursor.execute('SELECT  FirstName, LastName, Company FROM Customer WHERE Company LIKE \"%APPLE%\"')\n",
    "res = cursor.fetchall()\n",
    "res"
   ]
  },
  {
   "cell_type": "code",
   "execution_count": 186,
   "metadata": {},
   "outputs": [
    {
     "data": {
      "text/plain": [
       "[('Luís', 'Gonçalves', 3),\n",
       " ('François', 'Tremblay', 3),\n",
       " ('Roberto', 'Almeida', 3),\n",
       " ('Jennifer', 'Peterson', 3),\n",
       " ('Michelle', 'Brooks', 3),\n",
       " ('Tim', 'Goyer', 3),\n",
       " ('Frank', 'Ralston', 3),\n",
       " ('Robert', 'Brown', 3),\n",
       " ('Edward', 'Francis', 3),\n",
       " ('Ellie', 'Sullivan', 3),\n",
       " ('Fynn', 'Zimmermann', 3),\n",
       " ('Niklas', 'Schröder', 3),\n",
       " ('Wyatt', 'Girard', 3),\n",
       " ('Isabelle', 'Mercier', 3),\n",
       " ('Terhi', 'Hämäläinen', 3),\n",
       " ('Ladislav', 'Kovács', 3),\n",
       " ('Hugh', \"O'Reilly\", 3),\n",
       " ('Emma', 'Jones', 3),\n",
       " ('Phil', 'Hughes', 3),\n",
       " ('Manoj', 'Pareek', 3),\n",
       " ('Puja', 'Srivastava', 3),\n",
       " ('Bjørn', 'Hansen', 4),\n",
       " ('František', 'Wichterlová', 4),\n",
       " ('Daan', 'Peeters', 4),\n",
       " ('Kara', 'Nielsen', 4),\n",
       " ('Eduardo', 'Martins', 4),\n",
       " ('Fernanda', 'Ramos', 4),\n",
       " ('Frank', 'Harris', 4),\n",
       " ('Dan', 'Miller', 4),\n",
       " ('Heather', 'Leacock', 4),\n",
       " ('John', 'Gordon', 4),\n",
       " ('Richard', 'Cunningham', 4),\n",
       " ('Patrick', 'Gray', 4),\n",
       " ('Aaron', 'Mitchell', 4),\n",
       " ('João', 'Fernandes', 4),\n",
       " ('Madalena', 'Sampaio', 4),\n",
       " ('Camille', 'Bernard', 4),\n",
       " ('Dominique', 'Lefebvre', 4),\n",
       " ('Stanisław', 'Wójcik', 4),\n",
       " ('Mark', 'Taylor', 4),\n",
       " ('Diego', 'Gutiérrez', 4)]"
      ]
     },
     "execution_count": 186,
     "metadata": {},
     "output_type": "execute_result"
    }
   ],
   "source": [
    "# 7) muestra los usuarios que han reportado entre 3 y 4 incidencias\n",
    "cursor.execute('SELECT FirstName, LastName, SupportRepid FROM Customer WHERE SupportRepid BETWEEN 3 AND 4')\n",
    "res = cursor.fetchall()\n",
    "res"
   ]
  },
  {
   "cell_type": "markdown",
   "metadata": {},
   "source": [
    "# Actividad 3 (Limpieza de personal)\n",
    "\n",
    "Usaremos la tabla 'Employee'"
   ]
  },
  {
   "cell_type": "code",
   "execution_count": 187,
   "metadata": {},
   "outputs": [
    {
     "data": {
      "text/plain": [
       "[('Calgary', 5), ('Edmonton', 1), ('Lethbridge', 2)]"
      ]
     },
     "execution_count": 187,
     "metadata": {},
     "output_type": "execute_result"
    }
   ],
   "source": [
    "# 1) Cuenta la cantidad de empleados que hay por ciudad\n",
    "cursor.execute('SELECT City, count(EmployeeId) FROM Employee GROUP BY City')\n",
    "cursor.fetchall()"
   ]
  },
  {
   "cell_type": "code",
   "execution_count": 188,
   "metadata": {},
   "outputs": [
    {
     "data": {
      "text/plain": [
       "[('General Manager', 1),\n",
       " ('IT Manager', 1),\n",
       " ('IT Staff', 2),\n",
       " ('Sales Manager', 1),\n",
       " ('Sales Support Agent', 3)]"
      ]
     },
     "execution_count": 188,
     "metadata": {},
     "output_type": "execute_result"
    }
   ],
   "source": [
    "# 2) cuenta la cantidad de empleados que hay por departamento\n",
    "cursor.execute('SELECT  Title, count(EmployeeId) FROM Employee GROUP BY Title')\n",
    "cursor.fetchall()"
   ]
  },
  {
   "cell_type": "code",
   "execution_count": 189,
   "metadata": {},
   "outputs": [
    {
     "data": {
      "text/plain": [
       "[('Andrew', 'Adams', 61),\n",
       " ('Nancy', 'Edwards', 64),\n",
       " ('Jane', 'Peacock', 50),\n",
       " ('Margaret', 'Park', 76),\n",
       " ('Steve', 'Johnson', 58),\n",
       " ('Michael', 'Mitchell', 50),\n",
       " ('Robert', 'King', 53),\n",
       " ('Laura', 'Callahan', 55)]"
      ]
     },
     "execution_count": 189,
     "metadata": {},
     "output_type": "execute_result"
    }
   ],
   "source": [
    "# 3) muestra la edad de cada empleado\n",
    "cursor.execute(\"SELECT FirstName, LastName, (strftime('%Y', 'now') - strftime('%Y', BirthDate)) - (strftime('%m-%d', 'now') < strftime('%m-%d', BirthDate)) AS Age FROM Employee\")\n",
    "cursor.fetchall()"
   ]
  },
  {
   "cell_type": "code",
   "execution_count": 190,
   "metadata": {},
   "outputs": [
    {
     "data": {
      "text/plain": [
       "[('General Manager', 61.0),\n",
       " ('IT Manager', 50.0),\n",
       " ('IT Staff', 54.0),\n",
       " ('Sales Manager', 64.0),\n",
       " ('Sales Support Agent', 61.333333333333336)]"
      ]
     },
     "execution_count": 190,
     "metadata": {},
     "output_type": "execute_result"
    }
   ],
   "source": [
    "# 4) calcula la media de edad por departamento (Title)\n",
    "\n",
    "cursor.execute(\"SELECT Title, AVG((strftime('%Y', 'now') - strftime('%Y', BirthDate)) - (strftime('%m-%d', 'now') < strftime('%m-%d', BirthDate))) FROM Employee GROUP BY Title\")\n",
    "cursor.fetchall()"
   ]
  },
  {
   "cell_type": "code",
   "execution_count": 191,
   "metadata": {},
   "outputs": [
    {
     "data": {
      "text/plain": [
       "[('2002', 3), ('2003', 3), ('2004', 2)]"
      ]
     },
     "execution_count": 191,
     "metadata": {},
     "output_type": "execute_result"
    }
   ],
   "source": [
    "# 5) cuenta los empleados que fueron contratados, de media, por año\n",
    "cursor.execute(\"SELECT strftime('%Y', HireDate), count(HireDate) FROM Employee GROUP BY strftime('%Y', HireDate)\")\n",
    "cursor.fetchall()"
   ]
  },
  {
   "cell_type": "code",
   "execution_count": 192,
   "metadata": {},
   "outputs": [
    {
     "data": {
      "text/plain": [
       "[(2.6666666666666665,)]"
      ]
     },
     "execution_count": 192,
     "metadata": {},
     "output_type": "execute_result"
    }
   ],
   "source": [
    "cursor.execute(\"SELECT AVG(numero) FROM (SELECT strftime('%Y', HireDate) AS anno, count(*) AS numero FROM Employee GROUP BY anno)\")\n",
    "cursor.fetchall()"
   ]
  },
  {
   "cell_type": "markdown",
   "metadata": {},
   "source": [
    "# Actividad 4(Experto en canciones)\n",
    "Volvemos a usar la tabla 'Track'"
   ]
  },
  {
   "cell_type": "code",
   "execution_count": 193,
   "metadata": {},
   "outputs": [
    {
     "data": {
      "text/plain": [
       "[('Balls to the Wall',),\n",
       " ('Fast As a Shark',),\n",
       " ('Restless and Wild',),\n",
       " ('Princess of the Dawn',),\n",
       " ('Welcome to the Jungle',),\n",
       " (\"It's So Easy\",),\n",
       " ('Nightrain',),\n",
       " ('Out Ta Get Me',),\n",
       " ('Mr. Brownstone',),\n",
       " ('Paradise City',),\n",
       " ('My Michelle',),\n",
       " ('Think About You',),\n",
       " (\"Sweet Child O' Mine\",),\n",
       " (\"You're Crazy\",),\n",
       " ('Anything Goes',),\n",
       " ('Rocket Queen',),\n",
       " ('Right Next Door to Hell',),\n",
       " (\"Dust N' Bones\",),\n",
       " ('Live and Let Die',),\n",
       " (\"Don't Cry (Original)\",)]"
      ]
     },
     "execution_count": 193,
     "metadata": {},
     "output_type": "execute_result"
    }
   ],
   "source": [
    "# 1) Muestra todos los canciones con el MediaType Protected AAC audiofile.\n",
    "cursor.execute(\"SELECT Name FROM Track WHERE MediaTypeId = (SELECT MediaTypeId FROM MediaType WHERE Name = 'Protected AAC audio file')\")\n",
    "cursor.fetchmany(20)\n"
   ]
  },
  {
   "cell_type": "code",
   "execution_count": 194,
   "metadata": {},
   "outputs": [
    {
     "data": {
      "text/plain": [
       "[('Balls to the Wall',),\n",
       " ('Fast As a Shark',),\n",
       " ('Restless and Wild',),\n",
       " ('Princess of the Dawn',),\n",
       " ('Welcome to the Jungle',),\n",
       " (\"It's So Easy\",),\n",
       " ('Nightrain',),\n",
       " ('Out Ta Get Me',),\n",
       " ('Mr. Brownstone',),\n",
       " ('Paradise City',),\n",
       " ('My Michelle',),\n",
       " ('Think About You',),\n",
       " (\"Sweet Child O' Mine\",),\n",
       " (\"You're Crazy\",),\n",
       " ('Anything Goes',),\n",
       " ('Rocket Queen',),\n",
       " ('Right Next Door to Hell',),\n",
       " (\"Dust N' Bones\",),\n",
       " ('Live and Let Die',),\n",
       " (\"Don't Cry (Original)\",)]"
      ]
     },
     "execution_count": 194,
     "metadata": {},
     "output_type": "execute_result"
    }
   ],
   "source": [
    "# 2)muestra todas las canciones que contengan algun MediaType con 'AAC'.\n",
    "cursor.execute(\"SELECT Name FROM Track WHERE MediaTypeId = (SELECT MediaTypeId FROM MediaType WHERE Name LIKE '%AAC%')\");\n",
    "cursor.fetchmany(20)"
   ]
  },
  {
   "cell_type": "code",
   "execution_count": 195,
   "metadata": {},
   "outputs": [
    {
     "data": {
      "text/plain": [
       "[('For Those About To Rock (We Salute You)',),\n",
       " ('Balls to the Wall',),\n",
       " ('Fast As a Shark',),\n",
       " ('Restless and Wild',),\n",
       " ('Princess of the Dawn',),\n",
       " ('Put The Finger On You',),\n",
       " (\"Let's Get It Up\",),\n",
       " ('Inject The Venom',),\n",
       " ('Snowballed',),\n",
       " ('Evil Walks',),\n",
       " ('C.O.D.',),\n",
       " ('Breaking The Rules',),\n",
       " ('Night Of The Long Knives',),\n",
       " ('Spellbound',),\n",
       " ('Go Down',),\n",
       " ('Dog Eat Dog',),\n",
       " ('Let There Be Rock',),\n",
       " ('Bad Boy Boogie',),\n",
       " ('Problem Child',),\n",
       " ('Overdose',)]"
      ]
     },
     "execution_count": 195,
     "metadata": {},
     "output_type": "execute_result"
    }
   ],
   "source": [
    "# 3) muestra todas las canciones que duren mas de 2 minutos\n",
    "\n",
    "cursor.execute('SELECT Name FROM Track WHERE Milliseconds > 120000')\n",
    "cursor.fetchmany(20)"
   ]
  },
  {
   "cell_type": "code",
   "execution_count": 196,
   "metadata": {},
   "outputs": [
    {
     "data": {
      "text/plain": [
       "[('Desafinado',),\n",
       " ('Garota De Ipanema',),\n",
       " ('Samba De Uma Nota Só (One Note Samba)',),\n",
       " ('Por Causa De Você',),\n",
       " ('Ligia',),\n",
       " ('Fotografia',),\n",
       " ('Dindi (Dindi)',),\n",
       " ('Se Todos Fossem Iguais A Você (Instrumental)',),\n",
       " ('Falando De Amor',),\n",
       " ('Angela',),\n",
       " ('Corcovado (Quiet Nights Of Quiet Stars)',),\n",
       " ('Outra Vez',),\n",
       " ('O Boto (Bôto)',),\n",
       " ('Canta, Canta Mais',),\n",
       " ('Quadrant',),\n",
       " (\"Snoopy's search-Red baron\",),\n",
       " ('Spanish moss-\"A sound portrait\"-Spanish moss',),\n",
       " ('Moon germs',),\n",
       " ('Stratus',),\n",
       " ('The pleasant pheasant',),\n",
       " ('Solo-Panhandler',),\n",
       " ('Do what cha wanna',),\n",
       " ('Heart of the Night',),\n",
       " ('De La Luz',),\n",
       " ('Westwood Moon',),\n",
       " ('Midnight',),\n",
       " ('Playtime',),\n",
       " ('Surrender',),\n",
       " (\"Valentino's\",),\n",
       " ('Believe',),\n",
       " ('As We Sleep',),\n",
       " ('When Evening Falls',),\n",
       " ('J Squared',),\n",
       " ('Best Thing',),\n",
       " (\"Now's The Time\",),\n",
       " ('Jeru',),\n",
       " ('Compulsion',),\n",
       " ('Tempus Fugit',),\n",
       " (\"Walkin'\",),\n",
       " (\"'Round Midnight\",),\n",
       " ('Bye Bye Blackbird',),\n",
       " ('New Rhumba',),\n",
       " ('Generique',),\n",
       " ('Summertime',),\n",
       " ('So What',),\n",
       " ('The Pan Piper',),\n",
       " ('Someday My Prince Will Come',),\n",
       " ('My Funny Valentine (Live)',),\n",
       " ('E.S.P.',),\n",
       " ('Nefertiti',),\n",
       " ('Petits Machins (Little Stuff)',),\n",
       " ('Miles Runs The Voodoo Down',),\n",
       " ('Little Church (Live)',),\n",
       " ('Black Satin',),\n",
       " ('Jean Pierre (Live)',),\n",
       " ('Time After Time',),\n",
       " ('Portia',),\n",
       " ('Jeepers Creepers',),\n",
       " ('Blue Rythm Fantasy',),\n",
       " ('Drum Boogie',),\n",
       " ('Let Me Off Uptown',),\n",
       " ('Leave Us Leap',),\n",
       " ('Opus No.1',),\n",
       " ('Boogie Blues',),\n",
       " ('How High The Moon',),\n",
       " ('Disc Jockey Jump',),\n",
       " (\"Up An' Atom\",),\n",
       " ('Bop Boogie',),\n",
       " ('Lemon Drop',),\n",
       " ('Coronation Drop',),\n",
       " ('Overtime',),\n",
       " ('Imagination',),\n",
       " (\"Don't Take Your Love From Me\",),\n",
       " ('Midget',),\n",
       " (\"I'm Coming Virginia\",),\n",
       " (\"Payin' Them Dues Blues\",),\n",
       " ('Jungle Drums',),\n",
       " ('Showcase',),\n",
       " ('Swedish Schnapps',),\n",
       " ('Roll Call',),\n",
       " ('Otay',),\n",
       " ('Groovus Interruptus',),\n",
       " ('Paris On Mine',),\n",
       " ('In Time',),\n",
       " ('Plan B',),\n",
       " ('Outbreak',),\n",
       " ('Baltimore, DC',),\n",
       " ('Talkin Loud and Saying Nothin',),\n",
       " ('Doce De Carnaval (Candy All)',),\n",
       " ('Lamento De Carnaval',),\n",
       " ('Pretinha',),\n",
       " ('Colibri',),\n",
       " ('Love Is The Colour',),\n",
       " ('Magnetic Ocean',),\n",
       " ('Deep Waters',),\n",
       " (\"L'Arc En Ciel De Miles\",),\n",
       " ('Gypsy',),\n",
       " ('Journey Into Sunlight',),\n",
       " ('Sunchild',),\n",
       " ('Millenium',),\n",
       " (\"Thinking 'Bout Tomorrow\",),\n",
       " (\"Jacob's Ladder\",),\n",
       " ('She Wears Black',),\n",
       " ('Dark Side Of The Cog',),\n",
       " ('Springsville',),\n",
       " ('The Maids Of Cadiz',),\n",
       " ('The Duke',),\n",
       " ('My Ship',),\n",
       " ('Miles Ahead',),\n",
       " ('Blues For Pablo',),\n",
       " ('New Rhumba',),\n",
       " ('The Meaning Of The Blues',),\n",
       " ('Lament',),\n",
       " (\"I Don't Wanna Be Kissed (By Anyone But You)\",),\n",
       " ('Springsville (Alternate Take)',),\n",
       " ('Blues For Pablo (Alternate Take)',),\n",
       " ('The Meaning Of The Blues/Lament (Alternate Take)',),\n",
       " (\"I Don't Wanna Be Kissed (By Anyone But You) (Alternate Take)\",),\n",
       " ('Morning Dance',),\n",
       " ('Jubilee',),\n",
       " ('Rasul',),\n",
       " ('Song For Lorraine',),\n",
       " ('Starburst',),\n",
       " ('Heliopolis',),\n",
       " (\"It Doesn't Matter\",),\n",
       " ('Little Linda',),\n",
       " ('End Of Romanticism',),\n",
       " ('Amanda',),\n",
       " ('Despertar',),\n",
       " (\"OAM's Blues\",)]"
      ]
     },
     "execution_count": 196,
     "metadata": {},
     "output_type": "execute_result"
    }
   ],
   "source": [
    "# 4) muestra todas las canciones de Jazz\n",
    "cursor.execute('SELECT Name FROM Track WHERE GenreId = (SELECT GenreId FROM Genre WHERE Name = \"Jazz\")')\n",
    "cursor.fetchall()"
   ]
  },
  {
   "cell_type": "code",
   "execution_count": 197,
   "metadata": {},
   "outputs": [
    {
     "data": {
      "text/plain": [
       "(2820, 'Occupation / Precipice', 5286953)"
      ]
     },
     "execution_count": 197,
     "metadata": {},
     "output_type": "execute_result"
    }
   ],
   "source": [
    "# 5) averigua cual es la cancion mas pesada\n",
    "cursor.execute('SELECT TrackId, Name, MAX(Milliseconds) FROM Track')\n",
    "cursor.fetchone()"
   ]
  },
  {
   "cell_type": "code",
   "execution_count": 198,
   "metadata": {},
   "outputs": [
    {
     "data": {
      "text/plain": [
       "[(14,)]"
      ]
     },
     "execution_count": 198,
     "metadata": {},
     "output_type": "execute_result"
    }
   ],
   "source": [
    "# 6) CUANTOS DISCOS TIENE Led Zeppelin ?\n",
    "cursor.execute(\"SELECT count(AlbumId) FROM (SELECT AlbumId FROM Track GROUP BY AlbumId HAVING albumId IN (SELECT AlbumId From Album WHERE ArtistId IN (SELECT ArtistId FROM Artist WHERE Name = 'Led Zeppelin')))\")\n",
    "\n",
    "cursor.fetchall()"
   ]
  },
  {
   "cell_type": "code",
   "execution_count": 199,
   "metadata": {},
   "outputs": [
    {
     "data": {
      "text/plain": [
       "(7.920000000000001,)"
      ]
     },
     "execution_count": 199,
     "metadata": {},
     "output_type": "execute_result"
    }
   ],
   "source": [
    "# 7) DE ENTRE SUS DISCOS, ¿CUANTO CUESTA EL DISCO \"House Of The Holy\"?\n",
    "cursor.execute(\"SELECT sum(UnitPrice) as precio FROM Track WHERE AlbumId = (SELECT AlbumId FROM Album WHERE Title = 'Houses Of The Holy')\")\n",
    "cursor.fetchone()"
   ]
  },
  {
   "cell_type": "markdown",
   "metadata": {},
   "source": [
    "# Actividad 5\n",
    "De la tabla 'Customer' crea una vista 'Customer_with_companies', donde estaran incluidos todos los resultdos salvo cuando Companies' sea 'NULL'. "
   ]
  },
  {
   "cell_type": "code",
   "execution_count": 200,
   "metadata": {},
   "outputs": [
    {
     "data": {
      "text/plain": [
       "<sqlite3.Cursor at 0x7fcab95d45e0>"
      ]
     },
     "execution_count": 200,
     "metadata": {},
     "output_type": "execute_result"
    }
   ],
   "source": [
    "cursor.execute('CREATE TEMP VIEW Customer_with_companies AS SELECT * FROM Customer WHERE Company IS NOT NULL')\n"
   ]
  },
  {
   "cell_type": "markdown",
   "metadata": {},
   "source": [
    "A partir de la vista realiza los siguentes acciones:"
   ]
  },
  {
   "cell_type": "code",
   "execution_count": 201,
   "metadata": {},
   "outputs": [
    {
     "data": {
      "text/plain": [
       "[(19,\n",
       "  'Tim',\n",
       "  'Goyer',\n",
       "  'Apple Inc.',\n",
       "  '1 Infinite Loop',\n",
       "  'Cupertino',\n",
       "  'CA',\n",
       "  'USA',\n",
       "  '95014',\n",
       "  '+1 (408) 996-1010',\n",
       "  '+1 (408) 996-1011',\n",
       "  'tgoyer@apple.com',\n",
       "  3),\n",
       " (11,\n",
       "  'Alexandre',\n",
       "  'Rocha',\n",
       "  'Banco do Brasil S.A.',\n",
       "  'Av. Paulista, 2022',\n",
       "  'São Paulo',\n",
       "  'SP',\n",
       "  'Brazil',\n",
       "  '01310-200',\n",
       "  '+55 (11) 3055-3278',\n",
       "  '+55 (11) 3055-8131',\n",
       "  'alero@uol.com.br',\n",
       "  5),\n",
       " (1,\n",
       "  'Luís',\n",
       "  'Gonçalves',\n",
       "  'Embraer - Empresa Brasileira de Aeronáutica S.A.',\n",
       "  'Av. Brigadeiro Faria Lima, 2170',\n",
       "  'São José dos Campos',\n",
       "  'SP',\n",
       "  'Brazil',\n",
       "  '12227-000',\n",
       "  '+55 (12) 3923-5555',\n",
       "  '+55 (12) 3923-5566',\n",
       "  'luisg@embraer.com.br',\n",
       "  3),\n",
       " (16,\n",
       "  'Frank',\n",
       "  'Harris',\n",
       "  'Google Inc.',\n",
       "  '1600 Amphitheatre Parkway',\n",
       "  'Mountain View',\n",
       "  'CA',\n",
       "  'USA',\n",
       "  '94043-1351',\n",
       "  '+1 (650) 253-0000',\n",
       "  '+1 (650) 253-0000',\n",
       "  'fharris@google.com',\n",
       "  4),\n",
       " (5,\n",
       "  'František',\n",
       "  'Wichterlová',\n",
       "  'JetBrains s.r.o.',\n",
       "  'Klanova 9/506',\n",
       "  'Prague',\n",
       "  None,\n",
       "  'Czech Republic',\n",
       "  '14700',\n",
       "  '+420 2 4172 5555',\n",
       "  '+420 2 4172 5555',\n",
       "  'frantisekw@jetbrains.com',\n",
       "  4),\n",
       " (17,\n",
       "  'Jack',\n",
       "  'Smith',\n",
       "  'Microsoft Corporation',\n",
       "  '1 Microsoft Way',\n",
       "  'Redmond',\n",
       "  'WA',\n",
       "  'USA',\n",
       "  '98052-8300',\n",
       "  '+1 (425) 882-8080',\n",
       "  '+1 (425) 882-8081',\n",
       "  'jacksmith@microsoft.com',\n",
       "  5),\n",
       " (12,\n",
       "  'Roberto',\n",
       "  'Almeida',\n",
       "  'Riotur',\n",
       "  'Praça Pio X, 119',\n",
       "  'Rio de Janeiro',\n",
       "  'RJ',\n",
       "  'Brazil',\n",
       "  '20040-020',\n",
       "  '+55 (21) 2271-7000',\n",
       "  '+55 (21) 2271-7070',\n",
       "  'roberto.almeida@riotur.gov.br',\n",
       "  3),\n",
       " (15,\n",
       "  'Jennifer',\n",
       "  'Peterson',\n",
       "  'Rogers Canada',\n",
       "  '700 W Pender Street',\n",
       "  'Vancouver',\n",
       "  'BC',\n",
       "  'Canada',\n",
       "  'V6C 1G8',\n",
       "  '+1 (604) 688-2255',\n",
       "  '+1 (604) 688-8756',\n",
       "  'jenniferp@rogers.ca',\n",
       "  3),\n",
       " (14,\n",
       "  'Mark',\n",
       "  'Philips',\n",
       "  'Telus',\n",
       "  '8210 111 ST NW',\n",
       "  'Edmonton',\n",
       "  'AB',\n",
       "  'Canada',\n",
       "  'T6G 2C7',\n",
       "  '+1 (780) 434-4554',\n",
       "  '+1 (780) 434-5565',\n",
       "  'mphilips12@shaw.ca',\n",
       "  5),\n",
       " (10,\n",
       "  'Eduardo',\n",
       "  'Martins',\n",
       "  'Woodstock Discos',\n",
       "  'Rua Dr. Falcão Filho, 155',\n",
       "  'São Paulo',\n",
       "  'SP',\n",
       "  'Brazil',\n",
       "  '01007-010',\n",
       "  '+55 (11) 3033-5446',\n",
       "  '+55 (11) 3033-4564',\n",
       "  'eduardo@woodstock.com.br',\n",
       "  4)]"
      ]
     },
     "execution_count": 201,
     "metadata": {},
     "output_type": "execute_result"
    }
   ],
   "source": [
    "# 1) Ordena los resultados por orden alfabetico de 'Company'\n",
    "cursor.execute(\"SELECT * FROM Customer_with_companies ORDER BY Company ASC\")\n",
    "cursor.fetchall()"
   ]
  },
  {
   "cell_type": "code",
   "execution_count": 202,
   "metadata": {},
   "outputs": [],
   "source": [
    "# 2) Muestra que compania son de 'Brasil'\n",
    "cursor.execute(\"SELECT * FROM Customer_with_companies WHERE Country LIKE '%Bra%il%' COLLATE NOCASE\")\n",
    "res = cursor.fetchall()\n"
   ]
  },
  {
   "cell_type": "markdown",
   "metadata": {},
   "source": [
    "# Actividad 6 (Dame la factura)\n",
    "\n",
    "De la tabla *Track* consigue la siguente informacion"
   ]
  },
  {
   "cell_type": "code",
   "execution_count": 203,
   "metadata": {},
   "outputs": [
    {
     "data": {
      "text/plain": [
       "[('É Uma Partida De Futebol', 1071)]"
      ]
     },
     "execution_count": 203,
     "metadata": {},
     "output_type": "execute_result"
    }
   ],
   "source": [
    "# 1) Cual es el titulo de la cancion que menos pesa(Bytes) ?\n",
    "cursor.execute('SELECT Name, Milliseconds FROM Track WHERE Milliseconds = (SELECT MIN(Milliseconds) FROM Track)')\n",
    "cursor.fetchall()"
   ]
  },
  {
   "cell_type": "code",
   "execution_count": 204,
   "metadata": {},
   "outputs": [
    {
     "data": {
      "text/plain": [
       "[('Occupation / Precipice', 5286953)]"
      ]
     },
     "execution_count": 204,
     "metadata": {},
     "output_type": "execute_result"
    }
   ],
   "source": [
    "# 2) Cual es el titulo de cancion que mas dura (Miliseconds).\n",
    "cursor.execute('SELECT Name, Milliseconds FROM Track WHERE Milliseconds = (SELECT MAX(Milliseconds) FROM Track)')\n",
    "cursor.fetchall()"
   ]
  },
  {
   "cell_type": "code",
   "execution_count": 205,
   "metadata": {},
   "outputs": [
    {
     "data": {
      "text/plain": [
       "(213,)"
      ]
     },
     "execution_count": 205,
     "metadata": {},
     "output_type": "execute_result"
    }
   ],
   "source": [
    "# 3) Cuantas canciones cuesta 1$ o mas.\n",
    "cursor.execute('SELECT count(UnitPrice) FROM Track WHERE UnitPrice >= 1')\n",
    "cursor.fetchone()"
   ]
  },
  {
   "cell_type": "code",
   "execution_count": 206,
   "metadata": {},
   "outputs": [
    {
     "data": {
      "text/plain": [
       "[(45,)]"
      ]
     },
     "execution_count": 206,
     "metadata": {},
     "output_type": "execute_result"
    }
   ],
   "source": [
    "# 4) Cuantas canciones hay de Queen.\n",
    "cursor.execute(\"SELECT count(name) FROM Track WHERE AlbumId IN (SELECT AlbumId FROM Album WHERE ArtistId = (SELECT ArtistId FROM Artist WHERE Name = 'QUEEN' COLLATE NOCASE))\")\n",
    "cursor.fetchall()"
   ]
  },
  {
   "cell_type": "code",
   "execution_count": 207,
   "metadata": {},
   "outputs": [
    {
     "data": {
      "text/plain": [
       "(393599.2121039109,)"
      ]
     },
     "execution_count": 207,
     "metadata": {},
     "output_type": "execute_result"
    }
   ],
   "source": [
    "# 5) Cual es la media de duracion entre todas las canciones.\n",
    "cursor.execute('SELECT AVG(Milliseconds) FROM Track')\n",
    "cursor.fetchone()"
   ]
  },
  {
   "cell_type": "code",
   "execution_count": 208,
   "metadata": {},
   "outputs": [
    {
     "data": {
      "text/plain": [
       "[(262385.05925925926,)]"
      ]
     },
     "execution_count": 208,
     "metadata": {},
     "output_type": "execute_result"
    }
   ],
   "source": [
    "# 6) Cual es la media de duracion entre todas las canciones de U2.\n",
    "cursor.execute(\"SELECT AVG(Milliseconds) FROM Track WHERE AlbumId IN (SELECT AlbumId FROM Album WHERE ArtistId = (SELECT ArtistId FROM Artist WHERE Name = 'U2' COLLATE NOCASE))\")\n",
    "cursor.fetchall()"
   ]
  },
  {
   "cell_type": "code",
   "execution_count": 209,
   "metadata": {},
   "outputs": [
    {
     "data": {
      "text/plain": [
       "(36,)"
      ]
     },
     "execution_count": 209,
     "metadata": {},
     "output_type": "execute_result"
    }
   ],
   "source": [
    "# 7) Cuantas canciones esta Bill Berry como 'Composer'(Compositor).\n",
    "cursor.execute('SELECT count(Name) FROM Track WHERE Composer LIKE \"%Bill Berry%\"')\n",
    "cursor.fetchone()"
   ]
  },
  {
   "cell_type": "code",
   "execution_count": 210,
   "metadata": {},
   "outputs": [],
   "source": [
    "# 8) Un Mb son: Bite/1024/1024. Muestra todos los 'Tracks' calculando y renombrando la columna 'Bytes' en 'Mb'."
   ]
  },
  {
   "cell_type": "markdown",
   "metadata": {},
   "source": [
    "# Actividad 7 (Buscando facturas)\n",
    "\n",
    "De la tabla *Invoice* consigue la siguente informacion:"
   ]
  },
  {
   "cell_type": "code",
   "execution_count": 211,
   "metadata": {},
   "outputs": [
    {
     "name": "stdout",
     "output_type": "stream",
     "text": [
      " InvoiceId FirstName     LastName BillingCountry\n",
      "         1    Leonie       Köhler        Germany\n",
      "         2     Bjørn       Hansen         Norway\n",
      "         3      Daan      Peeters        Belgium\n",
      "         4      Mark      Philips         Canada\n",
      "         5      John       Gordon            USA\n",
      "         6      Fynn   Zimmermann        Germany\n",
      "         7    Niklas     Schröder        Germany\n",
      "         8 Dominique     Lefebvre         France\n",
      "         9     Wyatt       Girard         France\n",
      "        10      Hugh     O'Reilly        Ireland\n",
      "        11      Emma        Jones United Kingdom\n",
      "        12    Leonie       Köhler        Germany\n",
      "        13     Frank       Harris            USA\n",
      "        14      Jack        Smith            USA\n",
      "        15       Tim        Goyer            USA\n",
      "        16     Kathy        Chase            USA\n",
      "        17    Victor      Stevens            USA\n",
      "        18    Martha         Silk         Canada\n",
      "        19 Dominique     Lefebvre         France\n",
      "        20     Steve       Murray United Kingdom\n",
      "        21      Mark       Taylor      Australia\n",
      "        22      Luis        Rojas          Chile\n",
      "        23      Puja   Srivastava          India\n",
      "        24     Bjørn       Hansen         Norway\n",
      "        25   Eduardo      Martins         Brazil\n",
      "        26       Tim        Goyer            USA\n",
      "        27     Ellie     Sullivan         Canada\n",
      "        28      João    Fernandes       Portugal\n",
      "        29    Hannah    Schneider        Germany\n",
      "        30    Niklas     Schröder        Germany\n",
      "        31     Wyatt       Girard         France\n",
      "        32  Johannes Van der Berg    Netherlands\n",
      "        33      Luis        Rojas          Chile\n",
      "        34   Roberto      Almeida         Brazil\n",
      "        35  Fernanda        Ramos         Brazil\n",
      "        36  Jennifer     Peterson         Canada\n",
      "        37      Jack        Smith            USA\n",
      "        38     Kathy        Chase            USA\n",
      "        39   Patrick         Gray            USA\n",
      "        40    Hannah    Schneider        Germany\n",
      "        41   Enrique        Muñoz          Spain\n",
      "        42    Joakim    Johansson         Sweden\n",
      "        43      Phil       Hughes United Kingdom\n",
      "        44      Mark       Taylor      Australia\n",
      "        45      Puja   Srivastava          India\n",
      "        46    Helena         Holý Czech Republic\n",
      "        47  Jennifer     Peterson         Canada\n",
      "        48    Robert        Brown         Canada\n",
      "        49    Edward      Francis         Canada\n",
      "        50     Aaron     Mitchell         Canada\n",
      "        51      João    Fernandes       Portugal\n",
      "        52    Niklas     Schröder        Germany\n",
      "        53     Terhi   Hämäläinen        Finland\n",
      "        54      Phil       Hughes United Kingdom\n",
      "        55      Daan      Peeters        Belgium\n",
      "        56      Kara      Nielsen        Denmark\n",
      "        57 Alexandre        Rocha         Brazil\n",
      "        58  Fernanda        Ramos         Brazil\n",
      "        59      Jack        Smith            USA\n",
      "        60      John       Gordon            USA\n",
      "        61     Aaron     Mitchell         Canada\n",
      "        62      Hugh     O'Reilly        Ireland\n",
      "        63     Lucas      Mancini          Italy\n",
      "        64 Stanisław       Wójcik         Poland\n",
      "        65    Joakim    Johansson         Sweden\n",
      "        66      Mark       Taylor      Australia\n",
      "        67    Leonie       Köhler        Germany\n",
      "        68 Alexandre        Rocha         Brazil\n",
      "        69    Victor      Stevens            USA\n",
      "        70   Richard   Cunningham            USA\n",
      "        71     Julia      Barnett            USA\n",
      "        72    Edward      Francis         Canada\n",
      "        73      João    Fernandes       Portugal\n",
      "        74 Dominique     Lefebvre         France\n",
      "        75 Stanisław       Wójcik         Poland\n",
      "        76     Bjørn       Hansen         Norway\n",
      "        77 František  Wichterlová Czech Republic\n",
      "        78    Astrid       Gruber        Austria\n",
      "        79      Kara      Nielsen        Denmark\n",
      "        80  Fernanda        Ramos         Brazil\n",
      "        81       Tim        Goyer            USA\n",
      "        82     Julia      Barnett            USA\n",
      "        83     Wyatt       Girard         France\n",
      "        84  Isabelle      Mercier         France\n",
      "        85  Ladislav       Kovács        Hungary\n",
      "        86     Lucas      Mancini          Italy\n",
      "        87    Joakim    Johansson         Sweden\n",
      "        88      Luis        Rojas          Chile\n",
      "        89    Astrid       Gruber        Austria\n",
      "        90     Kathy        Chase            USA\n",
      "        91   Heather      Leacock            USA\n",
      "        92     Frank      Ralston            USA\n",
      "        93   Richard   Cunningham            USA\n",
      "        94    Edward      Francis         Canada\n",
      "        95    Hannah    Schneider        Germany\n",
      "        96  Ladislav       Kovács        Hungary\n",
      "        97      Puja   Srivastava          India\n",
      "        98      Luís    Gonçalves         Brazil\n",
      "        99  François     Tremblay         Canada\n",
      "       100 František  Wichterlová Czech Republic\n",
      "       101      Kara      Nielsen        Denmark\n",
      "       102  Jennifer     Peterson         Canada\n",
      "       103     Frank      Ralston            USA\n",
      "       104    Niklas     Schröder        Germany\n",
      "       105   Camille      Bernard         France\n",
      "       106      Marc       Dubois         France\n",
      "       107  Isabelle      Mercier         France\n",
      "       108     Lucas      Mancini          Italy\n",
      "       109      Phil       Hughes United Kingdom\n",
      "       110  François     Tremblay         Canada\n",
      "       111      Jack        Smith            USA\n",
      "       112  Michelle       Brooks            USA\n",
      "       113       Dan       Miller            USA\n",
      "       114   Heather      Leacock            USA\n",
      "       115   Richard   Cunningham            USA\n",
      "       116     Aaron     Mitchell         Canada\n",
      "       117      Marc       Dubois         France\n",
      "       118      Mark       Taylor      Australia\n",
      "       119     Diego    Gutiérrez      Argentina\n",
      "       120     Manoj       Pareek          India\n",
      "       121      Luís    Gonçalves         Brazil\n",
      "       122 František  Wichterlová Czech Republic\n",
      "       123 Alexandre        Rocha         Brazil\n",
      "       124       Dan       Miller            USA\n",
      "       125      João    Fernandes       Portugal\n",
      "       126  Madalena      Sampaio       Portugal\n",
      "       127      Fynn   Zimmermann        Germany\n",
      "       128   Camille      Bernard         France\n",
      "       129  Isabelle      Mercier         France\n",
      "       130 Stanisław       Wójcik         Poland\n",
      "       131     Manoj       Pareek          India\n",
      "       132  Fernanda        Ramos         Brazil\n",
      "       133      Mark      Philips         Canada\n",
      "       134     Frank       Harris            USA\n",
      "       135  Michelle       Brooks            USA\n",
      "       136   Heather      Leacock            USA\n",
      "       137     Julia      Barnett            USA\n",
      "       138      Fynn   Zimmermann        Germany\n",
      "       139    Joakim    Johansson         Sweden\n",
      "       140      Emma        Jones United Kingdom\n",
      "       141     Steve       Murray United Kingdom\n",
      "       142     Diego    Gutiérrez      Argentina\n",
      "       143      Luís    Gonçalves         Brazil\n",
      "       144    Astrid       Gruber        Austria\n",
      "       145     Frank       Harris            USA\n",
      "       146    Edward      Francis         Canada\n",
      "       147    Martha         Silk         Canada\n",
      "       148     Ellie     Sullivan         Canada\n",
      "       149  Madalena      Sampaio       Portugal\n",
      "       150   Camille      Bernard         France\n",
      "       151  Ladislav       Kovács        Hungary\n",
      "       152     Steve       Murray United Kingdom\n",
      "       153      Kara      Nielsen        Denmark\n",
      "       154   Eduardo      Martins         Brazil\n",
      "       155   Roberto      Almeida         Brazil\n",
      "       156      Mark      Philips         Canada\n",
      "       157  Michelle       Brooks            USA\n",
      "       158     Frank      Ralston            USA\n",
      "       159     Ellie     Sullivan         Canada\n",
      "       160     Lucas      Mancini          Italy\n",
      "       161  Johannes Van der Berg    Netherlands\n",
      "       162   Enrique        Muñoz          Spain\n",
      "       163      Emma        Jones United Kingdom\n",
      "       164     Diego    Gutiérrez      Argentina\n",
      "       165  François     Tremblay         Canada\n",
      "       166   Roberto      Almeida         Brazil\n",
      "       167   Richard   Cunningham            USA\n",
      "       168   Patrick         Gray            USA\n",
      "       169    Robert        Brown         Canada\n",
      "       170    Martha         Silk         Canada\n",
      "       171  Madalena      Sampaio       Portugal\n",
      "       172      Marc       Dubois         France\n",
      "       173   Enrique        Muñoz          Spain\n",
      "       174 František  Wichterlová Czech Republic\n",
      "       175    Helena         Holý Czech Republic\n",
      "       176      Daan      Peeters        Belgium\n",
      "       177   Eduardo      Martins         Brazil\n",
      "       178      Mark      Philips         Canada\n",
      "       179       Dan       Miller            USA\n",
      "       180    Robert        Brown         Canada\n",
      "       181  Isabelle      Mercier         France\n",
      "       182     Terhi   Hämäläinen        Finland\n",
      "       183      Hugh     O'Reilly        Ireland\n",
      "       184  Johannes Van der Berg    Netherlands\n",
      "       185      Emma        Jones United Kingdom\n",
      "       186     Manoj       Pareek          India\n",
      "       187      Daan      Peeters        Belgium\n",
      "       188   Heather      Leacock            USA\n",
      "       189      John       Gordon            USA\n",
      "       190    Victor      Stevens            USA\n",
      "       191   Patrick         Gray            USA\n",
      "       192    Martha         Silk         Canada\n",
      "       193      Fynn   Zimmermann        Germany\n",
      "       194      Hugh     O'Reilly        Ireland\n",
      "       195      Luís    Gonçalves         Brazil\n",
      "       196    Leonie       Köhler        Germany\n",
      "       197     Bjørn       Hansen         Norway\n",
      "       198    Helena         Holý Czech Republic\n",
      "       199   Eduardo      Martins         Brazil\n",
      "       200     Frank       Harris            USA\n",
      "       201    Victor      Stevens            USA\n",
      "       202   Camille      Bernard         France\n",
      "       203 Dominique     Lefebvre         France\n",
      "       204     Wyatt       Girard         France\n",
      "       205     Terhi   Hämäläinen        Finland\n",
      "       206  Johannes Van der Berg    Netherlands\n",
      "       207     Steve       Murray United Kingdom\n",
      "       208     Bjørn       Hansen         Norway\n",
      "       209  Michelle       Brooks            USA\n",
      "       210       Tim        Goyer            USA\n",
      "       211     Kathy        Chase            USA\n",
      "       212      John       Gordon            USA\n",
      "       213   Patrick         Gray            USA\n",
      "       214     Ellie     Sullivan         Canada\n",
      "       215     Wyatt       Girard         France\n",
      "       216     Diego    Gutiérrez      Argentina\n",
      "       217      Luis        Rojas          Chile\n",
      "       218      Puja   Srivastava          India\n",
      "       219    Leonie       Köhler        Germany\n",
      "       220    Helena         Holý Czech Republic\n",
      "       221   Roberto      Almeida         Brazil\n",
      "       222     Kathy        Chase            USA\n",
      "       223  Madalena      Sampaio       Portugal\n",
      "       224    Hannah    Schneider        Germany\n",
      "       225    Niklas     Schröder        Germany\n",
      "       226 Dominique     Lefebvre         France\n",
      "       227     Terhi   Hämäläinen        Finland\n",
      "       228   Enrique        Muñoz          Spain\n",
      "       229      Puja   Srivastava          India\n",
      "       230      Mark      Philips         Canada\n",
      "       231  Jennifer     Peterson         Canada\n",
      "       232      Jack        Smith            USA\n",
      "       233       Tim        Goyer            USA\n",
      "       234      John       Gordon            USA\n",
      "       235    Robert        Brown         Canada\n",
      "       236    Niklas     Schröder        Germany\n",
      "       237      Emma        Jones United Kingdom\n",
      "       238      Phil       Hughes United Kingdom\n",
      "       239      Mark       Taylor      Australia\n",
      "       240      Luis        Rojas          Chile\n",
      "       241    Leonie       Köhler        Germany\n",
      "       242      Daan      Peeters        Belgium\n",
      "       243      Jack        Smith            USA\n",
      "       244    Martha         Silk         Canada\n",
      "       245     Aaron     Mitchell         Canada\n",
      "       246      João    Fernandes       Portugal\n",
      "       247    Hannah    Schneider        Germany\n",
      "       248 Dominique     Lefebvre         France\n",
      "       249      Hugh     O'Reilly        Ireland\n",
      "       250      Mark       Taylor      Australia\n",
      "       251   Eduardo      Martins         Brazil\n",
      "       252 Alexandre        Rocha         Brazil\n",
      "       253  Fernanda        Ramos         Brazil\n",
      "       254  Jennifer     Peterson         Canada\n",
      "       255       Tim        Goyer            USA\n",
      "       256    Victor      Stevens            USA\n",
      "       257      João    Fernandes       Portugal\n",
      "       258  Johannes Van der Berg    Netherlands\n",
      "       259 Stanisław       Wójcik         Poland\n",
      "       260    Joakim    Johansson         Sweden\n",
      "       261      Phil       Hughes United Kingdom\n",
      "       262      Luis        Rojas          Chile\n",
      "       263     Bjørn       Hansen         Norway\n",
      "       264  Fernanda        Ramos         Brazil\n",
      "       265   Patrick         Gray            USA\n",
      "       266     Julia      Barnett            USA\n",
      "       267    Edward      Francis         Canada\n",
      "       268     Aaron     Mitchell         Canada\n",
      "       269    Hannah    Schneider        Germany\n",
      "       270     Wyatt       Girard         France\n",
      "       271    Joakim    Johansson         Sweden\n",
      "       272    Helena         Holý Czech Republic\n",
      "       273    Astrid       Gruber        Austria\n",
      "       274      Kara      Nielsen        Denmark\n",
      "       275 Alexandre        Rocha         Brazil\n",
      "       276  Jennifer     Peterson         Canada\n",
      "       277     Kathy        Chase            USA\n",
      "       278    Edward      Francis         Canada\n",
      "       279     Terhi   Hämäläinen        Finland\n",
      "       280  Ladislav       Kovács        Hungary\n",
      "       281     Lucas      Mancini          Italy\n",
      "       282 Stanisław       Wójcik         Poland\n",
      "       283      Phil       Hughes United Kingdom\n",
      "       284      Puja   Srivastava          India\n",
      "       285      Kara      Nielsen        Denmark\n",
      "       286      John       Gordon            USA\n",
      "       287     Frank      Ralston            USA\n",
      "       288   Richard   Cunningham            USA\n",
      "       289     Julia      Barnett            USA\n",
      "       290     Aaron     Mitchell         Canada\n",
      "       291    Niklas     Schröder        Germany\n",
      "       292     Lucas      Mancini          Italy\n",
      "       293    Leonie       Köhler        Germany\n",
      "       294  François     Tremblay         Canada\n",
      "       295 František  Wichterlová Czech Republic\n",
      "       296    Astrid       Gruber        Austria\n",
      "       297 Alexandre        Rocha         Brazil\n",
      "       298      Jack        Smith            USA\n",
      "       299   Richard   Cunningham            USA\n",
      "       300 Dominique     Lefebvre         France\n",
      "       301      Marc       Dubois         France\n",
      "       302  Isabelle      Mercier         France\n",
      "       303  Ladislav       Kovács        Hungary\n",
      "       304 Stanisław       Wójcik         Poland\n",
      "       305      Mark       Taylor      Australia\n",
      "       306 František  Wichterlová Czech Republic\n",
      "       307       Tim        Goyer            USA\n",
      "       308       Dan       Miller            USA\n",
      "       309   Heather      Leacock            USA\n",
      "       310     Frank      Ralston            USA\n",
      "       311     Julia      Barnett            USA\n",
      "       312      João    Fernandes       Portugal\n",
      "       313  Isabelle      Mercier         France\n",
      "       314      Luis        Rojas          Chile\n",
      "       315     Manoj       Pareek          India\n",
      "       316      Luís    Gonçalves         Brazil\n",
      "       317  François     Tremblay         Canada\n",
      "       318    Astrid       Gruber        Austria\n",
      "       319  Fernanda        Ramos         Brazil\n",
      "       320   Heather      Leacock            USA\n",
      "       321    Hannah    Schneider        Germany\n",
      "       322      Fynn   Zimmermann        Germany\n",
      "       323   Camille      Bernard         France\n",
      "       324      Marc       Dubois         France\n",
      "       325  Ladislav       Kovács        Hungary\n",
      "       326    Joakim    Johansson         Sweden\n",
      "       327      Luís    Gonçalves         Brazil\n",
      "       328  Jennifer     Peterson         Canada\n",
      "       329     Frank       Harris            USA\n",
      "       330  Michelle       Brooks            USA\n",
      "       331       Dan       Miller            USA\n",
      "       332     Frank      Ralston            USA\n",
      "       333    Edward      Francis         Canada\n",
      "       334   Camille      Bernard         France\n",
      "       335      Phil       Hughes United Kingdom\n",
      "       336     Steve       Murray United Kingdom\n",
      "       337     Diego    Gutiérrez      Argentina\n",
      "       338     Manoj       Pareek          India\n",
      "       339  François     Tremblay         Canada\n",
      "       340      Kara      Nielsen        Denmark\n",
      "       341  Michelle       Brooks            USA\n",
      "       342     Aaron     Mitchell         Canada\n",
      "       343     Ellie     Sullivan         Canada\n",
      "       344  Madalena      Sampaio       Portugal\n",
      "       345      Fynn   Zimmermann        Germany\n",
      "       346      Marc       Dubois         France\n",
      "       347     Lucas      Mancini          Italy\n",
      "       348     Diego    Gutiérrez      Argentina\n",
      "       349 Alexandre        Rocha         Brazil\n",
      "       350   Roberto      Almeida         Brazil\n",
      "       351      Mark      Philips         Canada\n",
      "       352     Frank       Harris            USA\n",
      "       353       Dan       Miller            USA\n",
      "       354   Richard   Cunningham            USA\n",
      "       355  Madalena      Sampaio       Portugal\n",
      "       356 Stanisław       Wójcik         Poland\n",
      "       357   Enrique        Muñoz          Spain\n",
      "       358      Emma        Jones United Kingdom\n",
      "       359     Steve       Murray United Kingdom\n",
      "       360     Manoj       Pareek          India\n",
      "       361 František  Wichterlová Czech Republic\n",
      "       362      Mark      Philips         Canada\n",
      "       363     Julia      Barnett            USA\n",
      "       364    Robert        Brown         Canada\n",
      "       365    Martha         Silk         Canada\n",
      "       366     Ellie     Sullivan         Canada\n",
      "       367      Fynn   Zimmermann        Germany\n",
      "       368  Isabelle      Mercier         France\n",
      "       369      Emma        Jones United Kingdom\n",
      "       370    Astrid       Gruber        Austria\n",
      "       371      Daan      Peeters        Belgium\n",
      "       372   Eduardo      Martins         Brazil\n",
      "       373   Roberto      Almeida         Brazil\n",
      "       374     Frank       Harris            USA\n",
      "       375   Heather      Leacock            USA\n",
      "       376    Martha         Silk         Canada\n",
      "       377  Ladislav       Kovács        Hungary\n",
      "       378      Hugh     O'Reilly        Ireland\n",
      "       379  Johannes Van der Berg    Netherlands\n",
      "       380   Enrique        Muñoz          Spain\n",
      "       381     Steve       Murray United Kingdom\n",
      "       382      Luís    Gonçalves         Brazil\n",
      "       383   Eduardo      Martins         Brazil\n",
      "       384     Frank      Ralston            USA\n",
      "       385    Victor      Stevens            USA\n",
      "       386   Patrick         Gray            USA\n",
      "       387    Robert        Brown         Canada\n",
      "       388     Ellie     Sullivan         Canada\n",
      "       389   Camille      Bernard         France\n",
      "       390  Johannes Van der Berg    Netherlands\n",
      "       391  François     Tremblay         Canada\n",
      "       392     Bjørn       Hansen         Norway\n",
      "       393    Helena         Holý Czech Republic\n",
      "       394      Daan      Peeters        Belgium\n",
      "       395   Roberto      Almeida         Brazil\n",
      "       396  Michelle       Brooks            USA\n",
      "       397   Patrick         Gray            USA\n",
      "       398      Marc       Dubois         France\n",
      "       399     Wyatt       Girard         France\n",
      "       400     Terhi   Hämäläinen        Finland\n",
      "       401      Hugh     O'Reilly        Ireland\n",
      "       402   Enrique        Muñoz          Spain\n",
      "       403     Diego    Gutiérrez      Argentina\n",
      "       404    Helena         Holý Czech Republic\n",
      "       405       Dan       Miller            USA\n",
      "       406     Kathy        Chase            USA\n",
      "       407      John       Gordon            USA\n",
      "       408    Victor      Stevens            USA\n",
      "       409    Robert        Brown         Canada\n",
      "       410  Madalena      Sampaio       Portugal\n",
      "       411     Terhi   Hämäläinen        Finland\n",
      "       412     Manoj       Pareek          India\n"
     ]
    }
   ],
   "source": [
    "# 1) Muestra: 'InvoiceId', nombre del cliente, 'BillingCountry'.\n",
    "cursor.execute(\"SELECT InvoiceId, FirstName, LastName, BillingCountry FROM Customer JOIN Invoice ON Customer.CustomerId = Invoice.CustomerId\")\n",
    "registros = cursor.fetchall()\n",
    "registros\n",
    "import pandas as pd\n",
    "df = pd.DataFrame(registros, columns = ['InvoiceId', 'FirstName', 'LastName', 'BillingCountry'])\n",
    "#blankIndex = ['']*len(df)\n",
    "#df.index = blankIndex\n",
    "#df\n",
    "print(df.to_string(index=False))"
   ]
  },
  {
   "cell_type": "code",
   "execution_count": 212,
   "metadata": {},
   "outputs": [
    {
     "name": "stdout",
     "output_type": "stream",
     "text": [
      "(404, 6, '2013-11-13 00:00:00', 'Rilská 3174/6', 'Prague', None, 'Czech Republic', '14300', 25.86)\n",
      "(299, 26, '2012-08-05 00:00:00', '2211 W Berry Street', 'Fort Worth', 'TX', 'USA', '76110', 23.86)\n",
      "(96, 45, '2010-02-18 00:00:00', 'Erzsébet krt. 58.', 'Budapest', None, 'Hungary', 'H-1073', 21.86)\n",
      "(194, 46, '2011-04-28 00:00:00', '3 Chatham Street', 'Dublin', 'Dublin', 'Ireland', None, 21.86)\n",
      "(89, 7, '2010-01-18 00:00:00', 'Rotenturmstraße 4, 1010 Innere Stadt', 'Vienne', None, 'Austria', '1010', 18.86)\n",
      "(201, 25, '2011-05-29 00:00:00', '319 N. Frances Street', 'Madison', 'WI', 'USA', '53703', 18.86)\n",
      "(88, 57, '2010-01-13 00:00:00', 'Calle Lira, 198', 'Santiago', None, 'Chile', None, 17.91)\n",
      "(306, 5, '2012-09-05 00:00:00', 'Klanova 9/506', 'Prague', None, 'Czech Republic', '14700', 16.86)\n",
      "(313, 43, '2012-10-06 00:00:00', '68, Rue Jouvence', 'Dijon', None, 'France', '21000', 16.86)\n",
      "(103, 24, '2010-03-21 00:00:00', '162 E Superior Street', 'Chicago', 'IL', 'USA', '60611', 15.86)\n",
      "(208, 4, '2011-06-29 00:00:00', 'Ullevålsveien 14', 'Oslo', None, 'Norway', '0171', 15.86)\n",
      "(193, 37, '2011-04-23 00:00:00', 'Berger Straße 10', 'Frankfurt', None, 'Germany', '60316', 14.91)\n",
      "(5, 23, '2009-01-11 00:00:00', '69 Salem Street', 'Boston', 'MA', 'USA', '2113', 13.86)\n",
      "(12, 2, '2009-02-11 00:00:00', 'Theodor-Heuss-Straße 34', 'Stuttgart', None, 'Germany', '70174', 13.86)\n",
      "(19, 40, '2009-03-14 00:00:00', '8, Rue Hanovre', 'Paris', None, 'France', '75002', 13.86)\n",
      "(26, 19, '2009-04-14 00:00:00', '1 Infinite Loop', 'Cupertino', 'CA', 'USA', '95014', 13.86)\n",
      "(33, 57, '2009-05-15 00:00:00', 'Calle Lira, 198', 'Santiago', None, 'Chile', None, 13.86)\n",
      "(40, 36, '2009-06-15 00:00:00', 'Tauentzienstraße 8', 'Berlin', None, 'Germany', '10789', 13.86)\n",
      "(47, 15, '2009-07-16 00:00:00', '700 W Pender Street', 'Vancouver', 'BC', 'Canada', 'V6C 1G8', 13.86)\n",
      "(54, 53, '2009-08-16 00:00:00', '113 Lupus St', 'London', None, 'United Kingdom', 'SW1V 3EN', 13.86)\n",
      "(61, 32, '2009-09-16 00:00:00', '696 Osborne Street', 'Winnipeg', 'MB', 'Canada', 'R3L 2B9', 13.86)\n",
      "(68, 11, '2009-10-17 00:00:00', 'Av. Paulista, 2022', 'São Paulo', 'SP', 'Brazil', '01310-200', 13.86)\n",
      "(75, 49, '2009-11-17 00:00:00', 'Ordynacka 10', 'Warsaw', None, 'Poland', '00-358', 13.86)\n",
      "(82, 28, '2009-12-18 00:00:00', '302 S 700 E', 'Salt Lake City', 'UT', 'USA', '84102', 13.86)\n",
      "(110, 3, '2010-04-21 00:00:00', '1498 rue Bélanger', 'Montréal', 'QC', 'Canada', 'H2G 1A7', 13.86)\n",
      "(117, 41, '2010-05-22 00:00:00', '11, Place Bellecour', 'Lyon', None, 'France', '69002', 13.86)\n",
      "(124, 20, '2010-06-22 00:00:00', '541 Del Medio Avenue', 'Mountain View', 'CA', 'USA', '94040-111', 13.86)\n",
      "(131, 58, '2010-07-23 00:00:00', '12,Community Centre', 'Delhi', None, 'India', '110017', 13.86)\n",
      "(138, 37, '2010-08-23 00:00:00', 'Berger Straße 10', 'Frankfurt', None, 'Germany', '60316', 13.86)\n",
      "(145, 16, '2010-09-23 00:00:00', '1600 Amphitheatre Parkway', 'Mountain View', 'CA', 'USA', '94043-1351', 13.86)\n",
      "(152, 54, '2010-10-24 00:00:00', '110 Raeburn Pl', 'Edinburgh ', None, 'United Kingdom', 'EH4 1HH', 13.86)\n",
      "(159, 33, '2010-11-24 00:00:00', '5112 48 Street', 'Yellowknife', 'NT', 'Canada', 'X1A 1N6', 13.86)\n",
      "(166, 12, '2010-12-25 00:00:00', 'Praça Pio X, 119', 'Rio de Janeiro', 'RJ', 'Brazil', '20040-020', 13.86)\n",
      "(173, 50, '2011-01-25 00:00:00', 'C/ San Bernardo 85', 'Madrid', None, 'Spain', '28015', 13.86)\n",
      "(180, 29, '2011-02-25 00:00:00', '796 Dundas Street West', 'Toronto', 'ON', 'Canada', 'M6J 1V1', 13.86)\n",
      "(187, 8, '2011-03-28 00:00:00', 'Grétrystraat 63', 'Brussels', None, 'Belgium', '1000', 13.86)\n",
      "(215, 42, '2011-07-30 00:00:00', '9, Place Louis Barthou', 'Bordeaux', None, 'France', '33000', 13.86)\n",
      "(222, 21, '2011-08-30 00:00:00', '801 W 4th Street', 'Reno', 'NV', 'USA', '89503', 13.86)\n",
      "(229, 59, '2011-09-30 00:00:00', '3,Raj Bhavan Road', 'Bangalore', None, 'India', '560001', 13.86)\n",
      "(236, 38, '2011-10-31 00:00:00', 'Barbarossastraße 19', 'Berlin', None, 'Germany', '10779', 13.86)\n",
      "(243, 17, '2011-12-01 00:00:00', '1 Microsoft Way', 'Redmond', 'WA', 'USA', '98052-8300', 13.86)\n",
      "(250, 55, '2012-01-01 00:00:00', '421 Bourke Street', 'Sidney', 'NSW', 'Australia', '2010', 13.86)\n",
      "(257, 34, '2012-02-01 00:00:00', 'Rua da Assunção 53', 'Lisbon', None, 'Portugal', None, 13.86)\n",
      "(264, 13, '2012-03-03 00:00:00', 'Qe 7 Bloco G', 'Brasília', 'DF', 'Brazil', '71020-677', 13.86)\n",
      "(271, 51, '2012-04-03 00:00:00', 'Celsiusg. 9', 'Stockholm', None, 'Sweden', '11230', 13.86)\n",
      "(278, 30, '2012-05-04 00:00:00', '230 Elgin Street', 'Ottawa', 'ON', 'Canada', 'K2P 1L7', 13.86)\n",
      "(285, 9, '2012-06-04 00:00:00', 'Sønder Boulevard 51', 'Copenhagen', None, 'Denmark', '1720', 13.86)\n",
      "(292, 47, '2012-07-05 00:00:00', 'Via Degli Scipioni, 43', 'Rome', 'RM', 'Italy', '00192', 13.86)\n",
      "(320, 22, '2012-11-06 00:00:00', '120 S Orange Ave', 'Orlando', 'FL', 'USA', '32801', 13.86)\n",
      "(327, 1, '2012-12-07 00:00:00', 'Av. Brigadeiro Faria Lima, 2170', 'São José dos Campos', 'SP', 'Brazil', '12227-000', 13.86)\n",
      "(334, 39, '2013-01-07 00:00:00', '4, Rue Milton', 'Paris', None, 'France', '75009', 13.86)\n",
      "(341, 18, '2013-02-07 00:00:00', '627 Broadway', 'New York', 'NY', 'USA', '10012-2612', 13.86)\n",
      "(348, 56, '2013-03-10 00:00:00', '307 Macacha Güemes', 'Buenos Aires', None, 'Argentina', '1106', 13.86)\n",
      "(355, 35, '2013-04-10 00:00:00', 'Rua dos Campeões Europeus de Viena, 4350', 'Porto', None, 'Portugal', None, 13.86)\n",
      "(362, 14, '2013-05-11 00:00:00', '8210 111 ST NW', 'Edmonton', 'AB', 'Canada', 'T6G 2C7', 13.86)\n",
      "(369, 52, '2013-06-11 00:00:00', '202 Hoxton Street', 'London', None, 'United Kingdom', 'N1 5LH', 13.86)\n",
      "(376, 31, '2013-07-12 00:00:00', '194A Chain Lake Drive', 'Halifax', 'NS', 'Canada', 'B3S 1C5', 13.86)\n",
      "(383, 10, '2013-08-12 00:00:00', 'Rua Dr. Falcão Filho, 155', 'São Paulo', 'SP', 'Brazil', '01007-010', 13.86)\n",
      "(390, 48, '2013-09-12 00:00:00', 'Lijnbaansgracht 120bg', 'Amsterdam', 'VV', 'Netherlands', '1016', 13.86)\n",
      "(397, 27, '2013-10-13 00:00:00', '1033 N Park Ave', 'Tucson', 'AZ', 'USA', '85719', 13.86)\n",
      "(411, 44, '2013-12-14 00:00:00', 'Porthaninkatu 9', 'Helsinki', None, 'Finland', '00530', 13.86)\n",
      "(311, 28, '2012-09-28 00:00:00', '302 S 700 E', 'Salt Lake City', 'UT', 'USA', '84102', 11.94)\n",
      "(298, 17, '2012-07-31 00:00:00', '1 Microsoft Way', 'Redmond', 'WA', 'USA', '98052-8300', 10.91)\n",
      "(312, 34, '2012-10-01 00:00:00', 'Rua da Assunção 53', 'Lisbon', None, 'Portugal', None, 10.91)\n",
      "(102, 15, '2010-03-16 00:00:00', '700 W Pender Street', 'Vancouver', 'BC', 'Canada', 'V6C 1G8', 9.91)\n",
      "(206, 48, '2011-06-21 00:00:00', 'Lijnbaansgracht 120bg', 'Amsterdam', 'VV', 'Netherlands', '1016', 8.94)\n",
      "(4, 14, '2009-01-06 00:00:00', '8210 111 ST NW', 'Edmonton', 'AB', 'Canada', 'T6G 2C7', 8.91)\n",
      "(11, 52, '2009-02-06 00:00:00', '202 Hoxton Street', 'London', None, 'United Kingdom', 'N1 5LH', 8.91)\n",
      "(18, 31, '2009-03-09 00:00:00', '194A Chain Lake Drive', 'Halifax', 'NS', 'Canada', 'B3S 1C5', 8.91)\n",
      "(25, 10, '2009-04-09 00:00:00', 'Rua Dr. Falcão Filho, 155', 'São Paulo', 'SP', 'Brazil', '01007-010', 8.91)\n",
      "(32, 48, '2009-05-10 00:00:00', 'Lijnbaansgracht 120bg', 'Amsterdam', 'VV', 'Netherlands', '1016', 8.91)\n",
      "(39, 27, '2009-06-10 00:00:00', '1033 N Park Ave', 'Tucson', 'AZ', 'USA', '85719', 8.91)\n",
      "(46, 6, '2009-07-11 00:00:00', 'Rilská 3174/6', 'Prague', None, 'Czech Republic', '14300', 8.91)\n",
      "(53, 44, '2009-08-11 00:00:00', 'Porthaninkatu 9', 'Helsinki', None, 'Finland', '00530', 8.91)\n",
      "(60, 23, '2009-09-11 00:00:00', '69 Salem Street', 'Boston', 'MA', 'USA', '2113', 8.91)\n",
      "(67, 2, '2009-10-12 00:00:00', 'Theodor-Heuss-Straße 34', 'Stuttgart', None, 'Germany', '70174', 8.91)\n",
      "(74, 40, '2009-11-12 00:00:00', '8, Rue Hanovre', 'Paris', None, 'France', '75002', 8.91)\n",
      "(81, 19, '2009-12-13 00:00:00', '1 Infinite Loop', 'Cupertino', 'CA', 'USA', '95014', 8.91)\n",
      "(95, 36, '2010-02-13 00:00:00', 'Tauentzienstraße 8', 'Berlin', None, 'Germany', '10789', 8.91)\n",
      "(109, 53, '2010-04-16 00:00:00', '113 Lupus St', 'London', None, 'United Kingdom', 'SW1V 3EN', 8.91)\n",
      "(116, 32, '2010-05-17 00:00:00', '696 Osborne Street', 'Winnipeg', 'MB', 'Canada', 'R3L 2B9', 8.91)\n",
      "(123, 11, '2010-06-17 00:00:00', 'Av. Paulista, 2022', 'São Paulo', 'SP', 'Brazil', '01310-200', 8.91)\n",
      "(130, 49, '2010-07-18 00:00:00', 'Ordynacka 10', 'Warsaw', None, 'Poland', '00-358', 8.91)\n",
      "(137, 28, '2010-08-18 00:00:00', '302 S 700 E', 'Salt Lake City', 'UT', 'USA', '84102', 8.91)\n",
      "(144, 7, '2010-09-18 00:00:00', 'Rotenturmstraße 4, 1010 Innere Stadt', 'Vienne', None, 'Austria', '1010', 8.91)\n",
      "(151, 45, '2010-10-19 00:00:00', 'Erzsébet krt. 58.', 'Budapest', None, 'Hungary', 'H-1073', 8.91)\n",
      "(158, 24, '2010-11-19 00:00:00', '162 E Superior Street', 'Chicago', 'IL', 'USA', '60611', 8.91)\n",
      "(165, 3, '2010-12-20 00:00:00', '1498 rue Bélanger', 'Montréal', 'QC', 'Canada', 'H2G 1A7', 8.91)\n",
      "(172, 41, '2011-01-20 00:00:00', '11, Place Bellecour', 'Lyon', None, 'France', '69002', 8.91)\n",
      "(179, 20, '2011-02-20 00:00:00', '541 Del Medio Avenue', 'Mountain View', 'CA', 'USA', '94040-111', 8.91)\n",
      "(186, 58, '2011-03-23 00:00:00', '12,Community Centre', 'Delhi', None, 'India', '110017', 8.91)\n",
      "(200, 16, '2011-05-24 00:00:00', '1600 Amphitheatre Parkway', 'Mountain View', 'CA', 'USA', '94043-1351', 8.91)\n",
      "(207, 54, '2011-06-24 00:00:00', '110 Raeburn Pl', 'Edinburgh ', None, 'United Kingdom', 'EH4 1HH', 8.91)\n",
      "(214, 33, '2011-07-25 00:00:00', '5112 48 Street', 'Yellowknife', 'NT', 'Canada', 'X1A 1N6', 8.91)\n",
      "(221, 12, '2011-08-25 00:00:00', 'Praça Pio X, 119', 'Rio de Janeiro', 'RJ', 'Brazil', '20040-020', 8.91)\n",
      "(228, 50, '2011-09-25 00:00:00', 'C/ San Bernardo 85', 'Madrid', None, 'Spain', '28015', 8.91)\n",
      "(235, 29, '2011-10-26 00:00:00', '796 Dundas Street West', 'Toronto', 'ON', 'Canada', 'M6J 1V1', 8.91)\n",
      "(242, 8, '2011-11-26 00:00:00', 'Grétrystraat 63', 'Brussels', None, 'Belgium', '1000', 8.91)\n",
      "(249, 46, '2011-12-27 00:00:00', '3 Chatham Street', 'Dublin', 'Dublin', 'Ireland', None, 8.91)\n",
      "(256, 25, '2012-01-27 00:00:00', '319 N. Frances Street', 'Madison', 'WI', 'USA', '53703', 8.91)\n",
      "(263, 4, '2012-02-27 00:00:00', 'Ullevålsveien 14', 'Oslo', None, 'Norway', '0171', 8.91)\n",
      "(270, 42, '2012-03-29 00:00:00', '9, Place Louis Barthou', 'Bordeaux', None, 'France', '33000', 8.91)\n",
      "(277, 21, '2012-04-29 00:00:00', '801 W 4th Street', 'Reno', 'NV', 'USA', '89503', 8.91)\n",
      "(284, 59, '2012-05-30 00:00:00', '3,Raj Bhavan Road', 'Bangalore', None, 'India', '560001', 8.91)\n",
      "(291, 38, '2012-06-30 00:00:00', 'Barbarossastraße 19', 'Berlin', None, 'Germany', '10779', 8.91)\n",
      "(305, 55, '2012-08-31 00:00:00', '421 Bourke Street', 'Sidney', 'NSW', 'Australia', '2010', 8.91)\n",
      "(319, 13, '2012-11-01 00:00:00', 'Qe 7 Bloco G', 'Brasília', 'DF', 'Brazil', '71020-677', 8.91)\n",
      "(326, 51, '2012-12-02 00:00:00', 'Celsiusg. 9', 'Stockholm', None, 'Sweden', '11230', 8.91)\n",
      "(333, 30, '2013-01-02 00:00:00', '230 Elgin Street', 'Ottawa', 'ON', 'Canada', 'K2P 1L7', 8.91)\n",
      "(340, 9, '2013-02-02 00:00:00', 'Sønder Boulevard 51', 'Copenhagen', None, 'Denmark', '1720', 8.91)\n",
      "(347, 47, '2013-03-05 00:00:00', 'Via Degli Scipioni, 43', 'Rome', 'RM', 'Italy', '00192', 8.91)\n",
      "(354, 26, '2013-04-05 00:00:00', '2211 W Berry Street', 'Fort Worth', 'TX', 'USA', '76110', 8.91)\n",
      "(361, 5, '2013-05-06 00:00:00', 'Klanova 9/506', 'Prague', None, 'Czech Republic', '14700', 8.91)\n",
      "(368, 43, '2013-06-06 00:00:00', '68, Rue Jouvence', 'Dijon', None, 'France', '21000', 8.91)\n",
      "(375, 22, '2013-07-07 00:00:00', '120 S Orange Ave', 'Orlando', 'FL', 'USA', '32801', 8.91)\n",
      "(382, 1, '2013-08-07 00:00:00', 'Av. Brigadeiro Faria Lima, 2170', 'São José dos Campos', 'SP', 'Brazil', '12227-000', 8.91)\n",
      "(389, 39, '2013-09-07 00:00:00', '4, Rue Milton', 'Paris', None, 'France', '75009', 8.91)\n",
      "(396, 18, '2013-10-08 00:00:00', '627 Broadway', 'New York', 'NY', 'USA', '10012-2612', 8.91)\n",
      "(403, 56, '2013-11-08 00:00:00', '307 Macacha Güemes', 'Buenos Aires', None, 'Argentina', '1106', 8.91)\n",
      "(410, 35, '2013-12-09 00:00:00', 'Rua dos Campeões Europeus de Viena, 4350', 'Porto', None, 'Portugal', None, 8.91)\n",
      "(205, 44, '2011-06-20 00:00:00', 'Porthaninkatu 9', 'Helsinki', None, 'Finland', '00530', 7.96)\n",
      "(310, 24, '2012-09-27 00:00:00', '162 E Superior Street', 'Chicago', 'IL', 'USA', '60611', 7.96)\n",
      "(87, 51, '2010-01-10 00:00:00', 'Celsiusg. 9', 'Stockholm', None, 'Sweden', '11230', 6.94)\n",
      "(3, 8, '2009-01-03 00:00:00', 'Grétrystraat 63', 'Brussels', None, 'Belgium', '1000', 5.94)\n",
      "(10, 46, '2009-02-03 00:00:00', '3 Chatham Street', 'Dublin', 'Dublin', 'Ireland', None, 5.94)\n",
      "(17, 25, '2009-03-06 00:00:00', '319 N. Frances Street', 'Madison', 'WI', 'USA', '53703', 5.94)\n",
      "(24, 4, '2009-04-06 00:00:00', 'Ullevålsveien 14', 'Oslo', None, 'Norway', '0171', 5.94)\n",
      "(31, 42, '2009-05-07 00:00:00', '9, Place Louis Barthou', 'Bordeaux', None, 'France', '33000', 5.94)\n",
      "(38, 21, '2009-06-07 00:00:00', '801 W 4th Street', 'Reno', 'NV', 'USA', '89503', 5.94)\n",
      "(45, 59, '2009-07-08 00:00:00', '3,Raj Bhavan Road', 'Bangalore', None, 'India', '560001', 5.94)\n",
      "(52, 38, '2009-08-08 00:00:00', 'Barbarossastraße 19', 'Berlin', None, 'Germany', '10779', 5.94)\n",
      "(59, 17, '2009-09-08 00:00:00', '1 Microsoft Way', 'Redmond', 'WA', 'USA', '98052-8300', 5.94)\n",
      "(66, 55, '2009-10-09 00:00:00', '421 Bourke Street', 'Sidney', 'NSW', 'Australia', '2010', 5.94)\n",
      "(73, 34, '2009-11-09 00:00:00', 'Rua da Assunção 53', 'Lisbon', None, 'Portugal', None, 5.94)\n",
      "(80, 13, '2009-12-10 00:00:00', 'Qe 7 Bloco G', 'Brasília', 'DF', 'Brazil', '71020-677', 5.94)\n",
      "(94, 30, '2010-02-10 00:00:00', '230 Elgin Street', 'Ottawa', 'ON', 'Canada', 'K2P 1L7', 5.94)\n",
      "(101, 9, '2010-03-13 00:00:00', 'Sønder Boulevard 51', 'Copenhagen', None, 'Denmark', '1720', 5.94)\n",
      "(108, 47, '2010-04-13 00:00:00', 'Via Degli Scipioni, 43', 'Rome', 'RM', 'Italy', '00192', 5.94)\n",
      "(115, 26, '2010-05-14 00:00:00', '2211 W Berry Street', 'Fort Worth', 'TX', 'USA', '76110', 5.94)\n",
      "(122, 5, '2010-06-14 00:00:00', 'Klanova 9/506', 'Prague', None, 'Czech Republic', '14700', 5.94)\n",
      "(129, 43, '2010-07-15 00:00:00', '68, Rue Jouvence', 'Dijon', None, 'France', '21000', 5.94)\n",
      "(136, 22, '2010-08-15 00:00:00', '120 S Orange Ave', 'Orlando', 'FL', 'USA', '32801', 5.94)\n",
      "(143, 1, '2010-09-15 00:00:00', 'Av. Brigadeiro Faria Lima, 2170', 'São José dos Campos', 'SP', 'Brazil', '12227-000', 5.94)\n",
      "(150, 39, '2010-10-16 00:00:00', '4, Rue Milton', 'Paris', None, 'France', '75009', 5.94)\n",
      "(157, 18, '2010-11-16 00:00:00', '627 Broadway', 'New York', 'NY', 'USA', '10012-2612', 5.94)\n",
      "(164, 56, '2010-12-17 00:00:00', '307 Macacha Güemes', 'Buenos Aires', None, 'Argentina', '1106', 5.94)\n",
      "(171, 35, '2011-01-17 00:00:00', 'Rua dos Campeões Europeus de Viena, 4350', 'Porto', None, 'Portugal', None, 5.94)\n",
      "(178, 14, '2011-02-17 00:00:00', '8210 111 ST NW', 'Edmonton', 'AB', 'Canada', 'T6G 2C7', 5.94)\n",
      "(185, 52, '2011-03-20 00:00:00', '202 Hoxton Street', 'London', None, 'United Kingdom', 'N1 5LH', 5.94)\n",
      "(192, 31, '2011-04-20 00:00:00', '194A Chain Lake Drive', 'Halifax', 'NS', 'Canada', 'B3S 1C5', 5.94)\n",
      "(199, 10, '2011-05-21 00:00:00', 'Rua Dr. Falcão Filho, 155', 'São Paulo', 'SP', 'Brazil', '01007-010', 5.94)\n",
      "(213, 27, '2011-07-22 00:00:00', '1033 N Park Ave', 'Tucson', 'AZ', 'USA', '85719', 5.94)\n",
      "(220, 6, '2011-08-22 00:00:00', 'Rilská 3174/6', 'Prague', None, 'Czech Republic', '14300', 5.94)\n",
      "(227, 44, '2011-09-22 00:00:00', 'Porthaninkatu 9', 'Helsinki', None, 'Finland', '00530', 5.94)\n",
      "(234, 23, '2011-10-23 00:00:00', '69 Salem Street', 'Boston', 'MA', 'USA', '2113', 5.94)\n",
      "(241, 2, '2011-11-23 00:00:00', 'Theodor-Heuss-Straße 34', 'Stuttgart', None, 'Germany', '70174', 5.94)\n",
      "(248, 40, '2011-12-24 00:00:00', '8, Rue Hanovre', 'Paris', None, 'France', '75002', 5.94)\n",
      "(255, 19, '2012-01-24 00:00:00', '1 Infinite Loop', 'Cupertino', 'CA', 'USA', '95014', 5.94)\n",
      "(262, 57, '2012-02-24 00:00:00', 'Calle Lira, 198', 'Santiago', None, 'Chile', None, 5.94)\n",
      "(269, 36, '2012-03-26 00:00:00', 'Tauentzienstraße 8', 'Berlin', None, 'Germany', '10789', 5.94)\n",
      "(276, 15, '2012-04-26 00:00:00', '700 W Pender Street', 'Vancouver', 'BC', 'Canada', 'V6C 1G8', 5.94)\n",
      "(283, 53, '2012-05-27 00:00:00', '113 Lupus St', 'London', None, 'United Kingdom', 'SW1V 3EN', 5.94)\n",
      "(290, 32, '2012-06-27 00:00:00', '696 Osborne Street', 'Winnipeg', 'MB', 'Canada', 'R3L 2B9', 5.94)\n",
      "(297, 11, '2012-07-28 00:00:00', 'Av. Paulista, 2022', 'São Paulo', 'SP', 'Brazil', '01310-200', 5.94)\n",
      "(304, 49, '2012-08-28 00:00:00', 'Ordynacka 10', 'Warsaw', None, 'Poland', '00-358', 5.94)\n",
      "(318, 7, '2012-10-29 00:00:00', 'Rotenturmstraße 4, 1010 Innere Stadt', 'Vienne', None, 'Austria', '1010', 5.94)\n",
      "(325, 45, '2012-11-29 00:00:00', 'Erzsébet krt. 58.', 'Budapest', None, 'Hungary', 'H-1073', 5.94)\n",
      "(332, 24, '2012-12-30 00:00:00', '162 E Superior Street', 'Chicago', 'IL', 'USA', '60611', 5.94)\n",
      "(339, 3, '2013-01-30 00:00:00', '1498 rue Bélanger', 'Montréal', 'QC', 'Canada', 'H2G 1A7', 5.94)\n",
      "(346, 41, '2013-03-02 00:00:00', '11, Place Bellecour', 'Lyon', None, 'France', '69002', 5.94)\n",
      "(353, 20, '2013-04-02 00:00:00', '541 Del Medio Avenue', 'Mountain View', 'CA', 'USA', '94040-111', 5.94)\n",
      "(360, 58, '2013-05-03 00:00:00', '12,Community Centre', 'Delhi', None, 'India', '110017', 5.94)\n",
      "(367, 37, '2013-06-03 00:00:00', 'Berger Straße 10', 'Frankfurt', None, 'Germany', '60316', 5.94)\n",
      "(374, 16, '2013-07-04 00:00:00', '1600 Amphitheatre Parkway', 'Mountain View', 'CA', 'USA', '94043-1351', 5.94)\n",
      "(381, 54, '2013-08-04 00:00:00', '110 Raeburn Pl', 'Edinburgh ', None, 'United Kingdom', 'EH4 1HH', 5.94)\n",
      "(388, 33, '2013-09-04 00:00:00', '5112 48 Street', 'Yellowknife', 'NT', 'Canada', 'X1A 1N6', 5.94)\n",
      "(395, 12, '2013-10-05 00:00:00', 'Praça Pio X, 119', 'Rio de Janeiro', 'RJ', 'Brazil', '20040-020', 5.94)\n",
      "(402, 50, '2013-11-05 00:00:00', 'C/ San Bernardo 85', 'Madrid', None, 'Spain', '28015', 5.94)\n",
      "(409, 29, '2013-12-06 00:00:00', '796 Dundas Street West', 'Toronto', 'ON', 'Canada', 'M6J 1V1', 5.94)\n",
      "(98, 1, '2010-03-11 00:00:00', 'Av. Brigadeiro Faria Lima, 2170', 'São José dos Campos', 'SP', 'Brazil', '12227-000', 3.98)\n",
      "(99, 3, '2010-03-11 00:00:00', '1498 rue Bélanger', 'Montréal', 'QC', 'Canada', 'H2G 1A7', 3.98)\n",
      "(204, 42, '2011-06-19 00:00:00', '9, Place Louis Barthou', 'Bordeaux', None, 'France', '33000', 3.98)\n",
      "(308, 20, '2012-09-26 00:00:00', '541 Del Medio Avenue', 'Mountain View', 'CA', 'USA', '94040-111', 3.98)\n",
      "(309, 22, '2012-09-26 00:00:00', '120 S Orange Ave', 'Orlando', 'FL', 'USA', '32801', 3.98)\n",
      "(2, 4, '2009-01-02 00:00:00', 'Ullevålsveien 14', 'Oslo', None, 'Norway', '0171', 3.96)\n",
      "(9, 42, '2009-02-02 00:00:00', '9, Place Louis Barthou', 'Bordeaux', None, 'France', '33000', 3.96)\n",
      "(16, 21, '2009-03-05 00:00:00', '801 W 4th Street', 'Reno', 'NV', 'USA', '89503', 3.96)\n",
      "(23, 59, '2009-04-05 00:00:00', '3,Raj Bhavan Road', 'Bangalore', None, 'India', '560001', 3.96)\n",
      "(30, 38, '2009-05-06 00:00:00', 'Barbarossastraße 19', 'Berlin', None, 'Germany', '10779', 3.96)\n",
      "(37, 17, '2009-06-06 00:00:00', '1 Microsoft Way', 'Redmond', 'WA', 'USA', '98052-8300', 3.96)\n",
      "(44, 55, '2009-07-07 00:00:00', '421 Bourke Street', 'Sidney', 'NSW', 'Australia', '2010', 3.96)\n",
      "(51, 34, '2009-08-07 00:00:00', 'Rua da Assunção 53', 'Lisbon', None, 'Portugal', None, 3.96)\n",
      "(58, 13, '2009-09-07 00:00:00', 'Qe 7 Bloco G', 'Brasília', 'DF', 'Brazil', '71020-677', 3.96)\n",
      "(65, 51, '2009-10-08 00:00:00', 'Celsiusg. 9', 'Stockholm', None, 'Sweden', '11230', 3.96)\n",
      "(72, 30, '2009-11-08 00:00:00', '230 Elgin Street', 'Ottawa', 'ON', 'Canada', 'K2P 1L7', 3.96)\n",
      "(79, 9, '2009-12-09 00:00:00', 'Sønder Boulevard 51', 'Copenhagen', None, 'Denmark', '1720', 3.96)\n",
      "(86, 47, '2010-01-09 00:00:00', 'Via Degli Scipioni, 43', 'Rome', 'RM', 'Italy', '00192', 3.96)\n",
      "(93, 26, '2010-02-09 00:00:00', '2211 W Berry Street', 'Fort Worth', 'TX', 'USA', '76110', 3.96)\n",
      "(100, 5, '2010-03-12 00:00:00', 'Klanova 9/506', 'Prague', None, 'Czech Republic', '14700', 3.96)\n",
      "(107, 43, '2010-04-12 00:00:00', '68, Rue Jouvence', 'Dijon', None, 'France', '21000', 3.96)\n",
      "(114, 22, '2010-05-13 00:00:00', '120 S Orange Ave', 'Orlando', 'FL', 'USA', '32801', 3.96)\n",
      "(121, 1, '2010-06-13 00:00:00', 'Av. Brigadeiro Faria Lima, 2170', 'São José dos Campos', 'SP', 'Brazil', '12227-000', 3.96)\n",
      "(128, 39, '2010-07-14 00:00:00', '4, Rue Milton', 'Paris', None, 'France', '75009', 3.96)\n",
      "(135, 18, '2010-08-14 00:00:00', '627 Broadway', 'New York', 'NY', 'USA', '10012-2612', 3.96)\n",
      "(142, 56, '2010-09-14 00:00:00', '307 Macacha Güemes', 'Buenos Aires', None, 'Argentina', '1106', 3.96)\n",
      "(149, 35, '2010-10-15 00:00:00', 'Rua dos Campeões Europeus de Viena, 4350', 'Porto', None, 'Portugal', None, 3.96)\n",
      "(156, 14, '2010-11-15 00:00:00', '8210 111 ST NW', 'Edmonton', 'AB', 'Canada', 'T6G 2C7', 3.96)\n",
      "(163, 52, '2010-12-16 00:00:00', '202 Hoxton Street', 'London', None, 'United Kingdom', 'N1 5LH', 3.96)\n",
      "(170, 31, '2011-01-16 00:00:00', '194A Chain Lake Drive', 'Halifax', 'NS', 'Canada', 'B3S 1C5', 3.96)\n",
      "(177, 10, '2011-02-16 00:00:00', 'Rua Dr. Falcão Filho, 155', 'São Paulo', 'SP', 'Brazil', '01007-010', 3.96)\n",
      "(184, 48, '2011-03-19 00:00:00', 'Lijnbaansgracht 120bg', 'Amsterdam', 'VV', 'Netherlands', '1016', 3.96)\n",
      "(191, 27, '2011-04-19 00:00:00', '1033 N Park Ave', 'Tucson', 'AZ', 'USA', '85719', 3.96)\n",
      "(198, 6, '2011-05-20 00:00:00', 'Rilská 3174/6', 'Prague', None, 'Czech Republic', '14300', 3.96)\n",
      "(212, 23, '2011-07-21 00:00:00', '69 Salem Street', 'Boston', 'MA', 'USA', '2113', 3.96)\n",
      "(219, 2, '2011-08-21 00:00:00', 'Theodor-Heuss-Straße 34', 'Stuttgart', None, 'Germany', '70174', 3.96)\n",
      "(226, 40, '2011-09-21 00:00:00', '8, Rue Hanovre', 'Paris', None, 'France', '75002', 3.96)\n",
      "(233, 19, '2011-10-22 00:00:00', '1 Infinite Loop', 'Cupertino', 'CA', 'USA', '95014', 3.96)\n",
      "(240, 57, '2011-11-22 00:00:00', 'Calle Lira, 198', 'Santiago', None, 'Chile', None, 3.96)\n",
      "(247, 36, '2011-12-23 00:00:00', 'Tauentzienstraße 8', 'Berlin', None, 'Germany', '10789', 3.96)\n",
      "(254, 15, '2012-01-23 00:00:00', '700 W Pender Street', 'Vancouver', 'BC', 'Canada', 'V6C 1G8', 3.96)\n",
      "(261, 53, '2012-02-23 00:00:00', '113 Lupus St', 'London', None, 'United Kingdom', 'SW1V 3EN', 3.96)\n",
      "(268, 32, '2012-03-25 00:00:00', '696 Osborne Street', 'Winnipeg', 'MB', 'Canada', 'R3L 2B9', 3.96)\n",
      "(275, 11, '2012-04-25 00:00:00', 'Av. Paulista, 2022', 'São Paulo', 'SP', 'Brazil', '01310-200', 3.96)\n",
      "(282, 49, '2012-05-26 00:00:00', 'Ordynacka 10', 'Warsaw', None, 'Poland', '00-358', 3.96)\n",
      "(289, 28, '2012-06-26 00:00:00', '302 S 700 E', 'Salt Lake City', 'UT', 'USA', '84102', 3.96)\n",
      "(296, 7, '2012-07-27 00:00:00', 'Rotenturmstraße 4, 1010 Innere Stadt', 'Vienne', None, 'Austria', '1010', 3.96)\n",
      "(303, 45, '2012-08-27 00:00:00', 'Erzsébet krt. 58.', 'Budapest', None, 'Hungary', 'H-1073', 3.96)\n",
      "(317, 3, '2012-10-28 00:00:00', '1498 rue Bélanger', 'Montréal', 'QC', 'Canada', 'H2G 1A7', 3.96)\n",
      "(324, 41, '2012-11-28 00:00:00', '11, Place Bellecour', 'Lyon', None, 'France', '69002', 3.96)\n",
      "(331, 20, '2012-12-29 00:00:00', '541 Del Medio Avenue', 'Mountain View', 'CA', 'USA', '94040-111', 3.96)\n",
      "(338, 58, '2013-01-29 00:00:00', '12,Community Centre', 'Delhi', None, 'India', '110017', 3.96)\n",
      "(345, 37, '2013-03-01 00:00:00', 'Berger Straße 10', 'Frankfurt', None, 'Germany', '60316', 3.96)\n",
      "(352, 16, '2013-04-01 00:00:00', '1600 Amphitheatre Parkway', 'Mountain View', 'CA', 'USA', '94043-1351', 3.96)\n",
      "(359, 54, '2013-05-02 00:00:00', '110 Raeburn Pl', 'Edinburgh ', None, 'United Kingdom', 'EH4 1HH', 3.96)\n",
      "(366, 33, '2013-06-02 00:00:00', '5112 48 Street', 'Yellowknife', 'NT', 'Canada', 'X1A 1N6', 3.96)\n",
      "(373, 12, '2013-07-03 00:00:00', 'Praça Pio X, 119', 'Rio de Janeiro', 'RJ', 'Brazil', '20040-020', 3.96)\n",
      "(380, 50, '2013-08-03 00:00:00', 'C/ San Bernardo 85', 'Madrid', None, 'Spain', '28015', 3.96)\n",
      "(387, 29, '2013-09-03 00:00:00', '796 Dundas Street West', 'Toronto', 'ON', 'Canada', 'M6J 1V1', 3.96)\n",
      "(394, 8, '2013-10-04 00:00:00', 'Grétrystraat 63', 'Brussels', None, 'Belgium', '1000', 3.96)\n",
      "(401, 46, '2013-11-04 00:00:00', '3 Chatham Street', 'Dublin', 'Dublin', 'Ireland', None, 3.96)\n",
      "(408, 25, '2013-12-05 00:00:00', '319 N. Frances Street', 'Madison', 'WI', 'USA', '53703', 3.96)\n",
      "(203, 40, '2011-06-19 00:00:00', '8, Rue Hanovre', 'Paris', None, 'France', '75002', 2.98)\n",
      "(97, 59, '2010-02-26 00:00:00', '3,Raj Bhavan Road', 'Bangalore', None, 'India', '560001', 1.99)\n",
      "(202, 39, '2011-06-06 00:00:00', '4, Rue Milton', 'Paris', None, 'France', '75009', 1.99)\n",
      "(307, 19, '2012-09-13 00:00:00', '1 Infinite Loop', 'Cupertino', 'CA', 'USA', '95014', 1.99)\n",
      "(412, 58, '2013-12-22 00:00:00', '12,Community Centre', 'Delhi', None, 'India', '110017', 1.99)\n",
      "(1, 2, '2009-01-01 00:00:00', 'Theodor-Heuss-Straße 34', 'Stuttgart', None, 'Germany', '70174', 1.98)\n",
      "(7, 38, '2009-02-01 00:00:00', 'Barbarossastraße 19', 'Berlin', None, 'Germany', '10779', 1.98)\n",
      "(8, 40, '2009-02-01 00:00:00', '8, Rue Hanovre', 'Paris', None, 'France', '75002', 1.98)\n",
      "(14, 17, '2009-03-04 00:00:00', '1 Microsoft Way', 'Redmond', 'WA', 'USA', '98052-8300', 1.98)\n",
      "(15, 19, '2009-03-04 00:00:00', '1 Infinite Loop', 'Cupertino', 'CA', 'USA', '95014', 1.98)\n",
      "(21, 55, '2009-04-04 00:00:00', '421 Bourke Street', 'Sidney', 'NSW', 'Australia', '2010', 1.98)\n",
      "(22, 57, '2009-04-04 00:00:00', 'Calle Lira, 198', 'Santiago', None, 'Chile', None, 1.98)\n",
      "(28, 34, '2009-05-05 00:00:00', 'Rua da Assunção 53', 'Lisbon', None, 'Portugal', None, 1.98)\n",
      "(29, 36, '2009-05-05 00:00:00', 'Tauentzienstraße 8', 'Berlin', None, 'Germany', '10789', 1.98)\n",
      "(35, 13, '2009-06-05 00:00:00', 'Qe 7 Bloco G', 'Brasília', 'DF', 'Brazil', '71020-677', 1.98)\n",
      "(36, 15, '2009-06-05 00:00:00', '700 W Pender Street', 'Vancouver', 'BC', 'Canada', 'V6C 1G8', 1.98)\n",
      "(42, 51, '2009-07-06 00:00:00', 'Celsiusg. 9', 'Stockholm', None, 'Sweden', '11230', 1.98)\n",
      "(43, 53, '2009-07-06 00:00:00', '113 Lupus St', 'London', None, 'United Kingdom', 'SW1V 3EN', 1.98)\n",
      "(49, 30, '2009-08-06 00:00:00', '230 Elgin Street', 'Ottawa', 'ON', 'Canada', 'K2P 1L7', 1.98)\n",
      "(50, 32, '2009-08-06 00:00:00', '696 Osborne Street', 'Winnipeg', 'MB', 'Canada', 'R3L 2B9', 1.98)\n",
      "(56, 9, '2009-09-06 00:00:00', 'Sønder Boulevard 51', 'Copenhagen', None, 'Denmark', '1720', 1.98)\n",
      "(57, 11, '2009-09-06 00:00:00', 'Av. Paulista, 2022', 'São Paulo', 'SP', 'Brazil', '01310-200', 1.98)\n",
      "(63, 47, '2009-10-07 00:00:00', 'Via Degli Scipioni, 43', 'Rome', 'RM', 'Italy', '00192', 1.98)\n",
      "(64, 49, '2009-10-07 00:00:00', 'Ordynacka 10', 'Warsaw', None, 'Poland', '00-358', 1.98)\n",
      "(70, 26, '2009-11-07 00:00:00', '2211 W Berry Street', 'Fort Worth', 'TX', 'USA', '76110', 1.98)\n",
      "(71, 28, '2009-11-07 00:00:00', '302 S 700 E', 'Salt Lake City', 'UT', 'USA', '84102', 1.98)\n",
      "(77, 5, '2009-12-08 00:00:00', 'Klanova 9/506', 'Prague', None, 'Czech Republic', '14700', 1.98)\n",
      "(78, 7, '2009-12-08 00:00:00', 'Rotenturmstraße 4, 1010 Innere Stadt', 'Vienne', None, 'Austria', '1010', 1.98)\n",
      "(84, 43, '2010-01-08 00:00:00', '68, Rue Jouvence', 'Dijon', None, 'France', '21000', 1.98)\n",
      "(85, 45, '2010-01-08 00:00:00', 'Erzsébet krt. 58.', 'Budapest', None, 'Hungary', 'H-1073', 1.98)\n",
      "(91, 22, '2010-02-08 00:00:00', '120 S Orange Ave', 'Orlando', 'FL', 'USA', '32801', 1.98)\n",
      "(92, 24, '2010-02-08 00:00:00', '162 E Superior Street', 'Chicago', 'IL', 'USA', '60611', 1.98)\n",
      "(105, 39, '2010-04-11 00:00:00', '4, Rue Milton', 'Paris', None, 'France', '75009', 1.98)\n",
      "(106, 41, '2010-04-11 00:00:00', '11, Place Bellecour', 'Lyon', None, 'France', '69002', 1.98)\n",
      "(112, 18, '2010-05-12 00:00:00', '627 Broadway', 'New York', 'NY', 'USA', '10012-2612', 1.98)\n",
      "(113, 20, '2010-05-12 00:00:00', '541 Del Medio Avenue', 'Mountain View', 'CA', 'USA', '94040-111', 1.98)\n",
      "(119, 56, '2010-06-12 00:00:00', '307 Macacha Güemes', 'Buenos Aires', None, 'Argentina', '1106', 1.98)\n",
      "(120, 58, '2010-06-12 00:00:00', '12,Community Centre', 'Delhi', None, 'India', '110017', 1.98)\n",
      "(126, 35, '2010-07-13 00:00:00', 'Rua dos Campeões Europeus de Viena, 4350', 'Porto', None, 'Portugal', None, 1.98)\n",
      "(127, 37, '2010-07-13 00:00:00', 'Berger Straße 10', 'Frankfurt', None, 'Germany', '60316', 1.98)\n",
      "(133, 14, '2010-08-13 00:00:00', '8210 111 ST NW', 'Edmonton', 'AB', 'Canada', 'T6G 2C7', 1.98)\n",
      "(134, 16, '2010-08-13 00:00:00', '1600 Amphitheatre Parkway', 'Mountain View', 'CA', 'USA', '94043-1351', 1.98)\n",
      "(140, 52, '2010-09-13 00:00:00', '202 Hoxton Street', 'London', None, 'United Kingdom', 'N1 5LH', 1.98)\n",
      "(141, 54, '2010-09-13 00:00:00', '110 Raeburn Pl', 'Edinburgh ', None, 'United Kingdom', 'EH4 1HH', 1.98)\n",
      "(147, 31, '2010-10-14 00:00:00', '194A Chain Lake Drive', 'Halifax', 'NS', 'Canada', 'B3S 1C5', 1.98)\n",
      "(148, 33, '2010-10-14 00:00:00', '5112 48 Street', 'Yellowknife', 'NT', 'Canada', 'X1A 1N6', 1.98)\n",
      "(154, 10, '2010-11-14 00:00:00', 'Rua Dr. Falcão Filho, 155', 'São Paulo', 'SP', 'Brazil', '01007-010', 1.98)\n",
      "(155, 12, '2010-11-14 00:00:00', 'Praça Pio X, 119', 'Rio de Janeiro', 'RJ', 'Brazil', '20040-020', 1.98)\n",
      "(161, 48, '2010-12-15 00:00:00', 'Lijnbaansgracht 120bg', 'Amsterdam', 'VV', 'Netherlands', '1016', 1.98)\n",
      "(162, 50, '2010-12-15 00:00:00', 'C/ San Bernardo 85', 'Madrid', None, 'Spain', '28015', 1.98)\n",
      "(168, 27, '2011-01-15 00:00:00', '1033 N Park Ave', 'Tucson', 'AZ', 'USA', '85719', 1.98)\n",
      "(169, 29, '2011-01-15 00:00:00', '796 Dundas Street West', 'Toronto', 'ON', 'Canada', 'M6J 1V1', 1.98)\n",
      "(175, 6, '2011-02-15 00:00:00', 'Rilská 3174/6', 'Prague', None, 'Czech Republic', '14300', 1.98)\n",
      "(176, 8, '2011-02-15 00:00:00', 'Grétrystraat 63', 'Brussels', None, 'Belgium', '1000', 1.98)\n",
      "(182, 44, '2011-03-18 00:00:00', 'Porthaninkatu 9', 'Helsinki', None, 'Finland', '00530', 1.98)\n",
      "(183, 46, '2011-03-18 00:00:00', '3 Chatham Street', 'Dublin', 'Dublin', 'Ireland', None, 1.98)\n",
      "(189, 23, '2011-04-18 00:00:00', '69 Salem Street', 'Boston', 'MA', 'USA', '2113', 1.98)\n",
      "(190, 25, '2011-04-18 00:00:00', '319 N. Frances Street', 'Madison', 'WI', 'USA', '53703', 1.98)\n",
      "(196, 2, '2011-05-19 00:00:00', 'Theodor-Heuss-Straße 34', 'Stuttgart', None, 'Germany', '70174', 1.98)\n",
      "(197, 4, '2011-05-19 00:00:00', 'Ullevålsveien 14', 'Oslo', None, 'Norway', '0171', 1.98)\n",
      "(210, 19, '2011-07-20 00:00:00', '1 Infinite Loop', 'Cupertino', 'CA', 'USA', '95014', 1.98)\n",
      "(211, 21, '2011-07-20 00:00:00', '801 W 4th Street', 'Reno', 'NV', 'USA', '89503', 1.98)\n",
      "(217, 57, '2011-08-20 00:00:00', 'Calle Lira, 198', 'Santiago', None, 'Chile', None, 1.98)\n",
      "(218, 59, '2011-08-20 00:00:00', '3,Raj Bhavan Road', 'Bangalore', None, 'India', '560001', 1.98)\n",
      "(224, 36, '2011-09-20 00:00:00', 'Tauentzienstraße 8', 'Berlin', None, 'Germany', '10789', 1.98)\n",
      "(225, 38, '2011-09-20 00:00:00', 'Barbarossastraße 19', 'Berlin', None, 'Germany', '10779', 1.98)\n",
      "(231, 15, '2011-10-21 00:00:00', '700 W Pender Street', 'Vancouver', 'BC', 'Canada', 'V6C 1G8', 1.98)\n",
      "(232, 17, '2011-10-21 00:00:00', '1 Microsoft Way', 'Redmond', 'WA', 'USA', '98052-8300', 1.98)\n",
      "(238, 53, '2011-11-21 00:00:00', '113 Lupus St', 'London', None, 'United Kingdom', 'SW1V 3EN', 1.98)\n",
      "(239, 55, '2011-11-21 00:00:00', '421 Bourke Street', 'Sidney', 'NSW', 'Australia', '2010', 1.98)\n",
      "(245, 32, '2011-12-22 00:00:00', '696 Osborne Street', 'Winnipeg', 'MB', 'Canada', 'R3L 2B9', 1.98)\n",
      "(246, 34, '2011-12-22 00:00:00', 'Rua da Assunção 53', 'Lisbon', None, 'Portugal', None, 1.98)\n",
      "(252, 11, '2012-01-22 00:00:00', 'Av. Paulista, 2022', 'São Paulo', 'SP', 'Brazil', '01310-200', 1.98)\n",
      "(253, 13, '2012-01-22 00:00:00', 'Qe 7 Bloco G', 'Brasília', 'DF', 'Brazil', '71020-677', 1.98)\n",
      "(259, 49, '2012-02-22 00:00:00', 'Ordynacka 10', 'Warsaw', None, 'Poland', '00-358', 1.98)\n",
      "(260, 51, '2012-02-22 00:00:00', 'Celsiusg. 9', 'Stockholm', None, 'Sweden', '11230', 1.98)\n",
      "(266, 28, '2012-03-24 00:00:00', '302 S 700 E', 'Salt Lake City', 'UT', 'USA', '84102', 1.98)\n",
      "(267, 30, '2012-03-24 00:00:00', '230 Elgin Street', 'Ottawa', 'ON', 'Canada', 'K2P 1L7', 1.98)\n",
      "(273, 7, '2012-04-24 00:00:00', 'Rotenturmstraße 4, 1010 Innere Stadt', 'Vienne', None, 'Austria', '1010', 1.98)\n",
      "(274, 9, '2012-04-24 00:00:00', 'Sønder Boulevard 51', 'Copenhagen', None, 'Denmark', '1720', 1.98)\n",
      "(280, 45, '2012-05-25 00:00:00', 'Erzsébet krt. 58.', 'Budapest', None, 'Hungary', 'H-1073', 1.98)\n",
      "(281, 47, '2012-05-25 00:00:00', 'Via Degli Scipioni, 43', 'Rome', 'RM', 'Italy', '00192', 1.98)\n",
      "(287, 24, '2012-06-25 00:00:00', '162 E Superior Street', 'Chicago', 'IL', 'USA', '60611', 1.98)\n",
      "(288, 26, '2012-06-25 00:00:00', '2211 W Berry Street', 'Fort Worth', 'TX', 'USA', '76110', 1.98)\n",
      "(294, 3, '2012-07-26 00:00:00', '1498 rue Bélanger', 'Montréal', 'QC', 'Canada', 'H2G 1A7', 1.98)\n",
      "(295, 5, '2012-07-26 00:00:00', 'Klanova 9/506', 'Prague', None, 'Czech Republic', '14700', 1.98)\n",
      "(301, 41, '2012-08-26 00:00:00', '11, Place Bellecour', 'Lyon', None, 'France', '69002', 1.98)\n",
      "(302, 43, '2012-08-26 00:00:00', '68, Rue Jouvence', 'Dijon', None, 'France', '21000', 1.98)\n",
      "(315, 58, '2012-10-27 00:00:00', '12,Community Centre', 'Delhi', None, 'India', '110017', 1.98)\n",
      "(316, 1, '2012-10-27 00:00:00', 'Av. Brigadeiro Faria Lima, 2170', 'São José dos Campos', 'SP', 'Brazil', '12227-000', 1.98)\n",
      "(322, 37, '2012-11-27 00:00:00', 'Berger Straße 10', 'Frankfurt', None, 'Germany', '60316', 1.98)\n",
      "(323, 39, '2012-11-27 00:00:00', '4, Rue Milton', 'Paris', None, 'France', '75009', 1.98)\n",
      "(329, 16, '2012-12-28 00:00:00', '1600 Amphitheatre Parkway', 'Mountain View', 'CA', 'USA', '94043-1351', 1.98)\n",
      "(330, 18, '2012-12-28 00:00:00', '627 Broadway', 'New York', 'NY', 'USA', '10012-2612', 1.98)\n",
      "(336, 54, '2013-01-28 00:00:00', '110 Raeburn Pl', 'Edinburgh ', None, 'United Kingdom', 'EH4 1HH', 1.98)\n",
      "(337, 56, '2013-01-28 00:00:00', '307 Macacha Güemes', 'Buenos Aires', None, 'Argentina', '1106', 1.98)\n",
      "(343, 33, '2013-02-28 00:00:00', '5112 48 Street', 'Yellowknife', 'NT', 'Canada', 'X1A 1N6', 1.98)\n",
      "(344, 35, '2013-02-28 00:00:00', 'Rua dos Campeões Europeus de Viena, 4350', 'Porto', None, 'Portugal', None, 1.98)\n",
      "(350, 12, '2013-03-31 00:00:00', 'Praça Pio X, 119', 'Rio de Janeiro', 'RJ', 'Brazil', '20040-020', 1.98)\n",
      "(351, 14, '2013-03-31 00:00:00', '8210 111 ST NW', 'Edmonton', 'AB', 'Canada', 'T6G 2C7', 1.98)\n",
      "(357, 50, '2013-05-01 00:00:00', 'C/ San Bernardo 85', 'Madrid', None, 'Spain', '28015', 1.98)\n",
      "(358, 52, '2013-05-01 00:00:00', '202 Hoxton Street', 'London', None, 'United Kingdom', 'N1 5LH', 1.98)\n",
      "(364, 29, '2013-06-01 00:00:00', '796 Dundas Street West', 'Toronto', 'ON', 'Canada', 'M6J 1V1', 1.98)\n",
      "(365, 31, '2013-06-01 00:00:00', '194A Chain Lake Drive', 'Halifax', 'NS', 'Canada', 'B3S 1C5', 1.98)\n",
      "(371, 8, '2013-07-02 00:00:00', 'Grétrystraat 63', 'Brussels', None, 'Belgium', '1000', 1.98)\n",
      "(372, 10, '2013-07-02 00:00:00', 'Rua Dr. Falcão Filho, 155', 'São Paulo', 'SP', 'Brazil', '01007-010', 1.98)\n",
      "(378, 46, '2013-08-02 00:00:00', '3 Chatham Street', 'Dublin', 'Dublin', 'Ireland', None, 1.98)\n",
      "(379, 48, '2013-08-02 00:00:00', 'Lijnbaansgracht 120bg', 'Amsterdam', 'VV', 'Netherlands', '1016', 1.98)\n",
      "(385, 25, '2013-09-02 00:00:00', '319 N. Frances Street', 'Madison', 'WI', 'USA', '53703', 1.98)\n",
      "(386, 27, '2013-09-02 00:00:00', '1033 N Park Ave', 'Tucson', 'AZ', 'USA', '85719', 1.98)\n",
      "(392, 4, '2013-10-03 00:00:00', 'Ullevålsveien 14', 'Oslo', None, 'Norway', '0171', 1.98)\n",
      "(393, 6, '2013-10-03 00:00:00', 'Rilská 3174/6', 'Prague', None, 'Czech Republic', '14300', 1.98)\n",
      "(399, 42, '2013-11-03 00:00:00', '9, Place Louis Barthou', 'Bordeaux', None, 'France', '33000', 1.98)\n",
      "(400, 44, '2013-11-03 00:00:00', 'Porthaninkatu 9', 'Helsinki', None, 'Finland', '00530', 1.98)\n",
      "(406, 21, '2013-12-04 00:00:00', '801 W 4th Street', 'Reno', 'NV', 'USA', '89503', 1.98)\n",
      "(407, 23, '2013-12-04 00:00:00', '69 Salem Street', 'Boston', 'MA', 'USA', '2113', 1.98)\n",
      "(6, 37, '2009-01-19 00:00:00', 'Berger Straße 10', 'Frankfurt', None, 'Germany', '60316', 0.99)\n",
      "(13, 16, '2009-02-19 00:00:00', '1600 Amphitheatre Parkway', 'Mountain View', 'CA', 'USA', '94043-1351', 0.99)\n",
      "(20, 54, '2009-03-22 00:00:00', '110 Raeburn Pl', 'Edinburgh ', None, 'United Kingdom', 'EH4 1HH', 0.99)\n",
      "(27, 33, '2009-04-22 00:00:00', '5112 48 Street', 'Yellowknife', 'NT', 'Canada', 'X1A 1N6', 0.99)\n",
      "(34, 12, '2009-05-23 00:00:00', 'Praça Pio X, 119', 'Rio de Janeiro', 'RJ', 'Brazil', '20040-020', 0.99)\n",
      "(41, 50, '2009-06-23 00:00:00', 'C/ San Bernardo 85', 'Madrid', None, 'Spain', '28015', 0.99)\n",
      "(48, 29, '2009-07-24 00:00:00', '796 Dundas Street West', 'Toronto', 'ON', 'Canada', 'M6J 1V1', 0.99)\n",
      "(55, 8, '2009-08-24 00:00:00', 'Grétrystraat 63', 'Brussels', None, 'Belgium', '1000', 0.99)\n",
      "(62, 46, '2009-09-24 00:00:00', '3 Chatham Street', 'Dublin', 'Dublin', 'Ireland', None, 0.99)\n",
      "(69, 25, '2009-10-25 00:00:00', '319 N. Frances Street', 'Madison', 'WI', 'USA', '53703', 0.99)\n",
      "(76, 4, '2009-11-25 00:00:00', 'Ullevålsveien 14', 'Oslo', None, 'Norway', '0171', 0.99)\n",
      "(83, 42, '2009-12-26 00:00:00', '9, Place Louis Barthou', 'Bordeaux', None, 'France', '33000', 0.99)\n",
      "(90, 21, '2010-01-26 00:00:00', '801 W 4th Street', 'Reno', 'NV', 'USA', '89503', 0.99)\n",
      "(104, 38, '2010-03-29 00:00:00', 'Barbarossastraße 19', 'Berlin', None, 'Germany', '10779', 0.99)\n",
      "(111, 17, '2010-04-29 00:00:00', '1 Microsoft Way', 'Redmond', 'WA', 'USA', '98052-8300', 0.99)\n",
      "(118, 55, '2010-05-30 00:00:00', '421 Bourke Street', 'Sidney', 'NSW', 'Australia', '2010', 0.99)\n",
      "(125, 34, '2010-06-30 00:00:00', 'Rua da Assunção 53', 'Lisbon', None, 'Portugal', None, 0.99)\n",
      "(132, 13, '2010-07-31 00:00:00', 'Qe 7 Bloco G', 'Brasília', 'DF', 'Brazil', '71020-677', 0.99)\n",
      "(139, 51, '2010-08-31 00:00:00', 'Celsiusg. 9', 'Stockholm', None, 'Sweden', '11230', 0.99)\n",
      "(146, 30, '2010-10-01 00:00:00', '230 Elgin Street', 'Ottawa', 'ON', 'Canada', 'K2P 1L7', 0.99)\n",
      "(153, 9, '2010-11-01 00:00:00', 'Sønder Boulevard 51', 'Copenhagen', None, 'Denmark', '1720', 0.99)\n",
      "(160, 47, '2010-12-02 00:00:00', 'Via Degli Scipioni, 43', 'Rome', 'RM', 'Italy', '00192', 0.99)\n",
      "(167, 26, '2011-01-02 00:00:00', '2211 W Berry Street', 'Fort Worth', 'TX', 'USA', '76110', 0.99)\n",
      "(174, 5, '2011-02-02 00:00:00', 'Klanova 9/506', 'Prague', None, 'Czech Republic', '14700', 0.99)\n",
      "(181, 43, '2011-03-05 00:00:00', '68, Rue Jouvence', 'Dijon', None, 'France', '21000', 0.99)\n",
      "(188, 22, '2011-04-05 00:00:00', '120 S Orange Ave', 'Orlando', 'FL', 'USA', '32801', 0.99)\n",
      "(195, 1, '2011-05-06 00:00:00', 'Av. Brigadeiro Faria Lima, 2170', 'São José dos Campos', 'SP', 'Brazil', '12227-000', 0.99)\n",
      "(209, 18, '2011-07-07 00:00:00', '627 Broadway', 'New York', 'NY', 'USA', '10012-2612', 0.99)\n",
      "(216, 56, '2011-08-07 00:00:00', '307 Macacha Güemes', 'Buenos Aires', None, 'Argentina', '1106', 0.99)\n",
      "(223, 35, '2011-09-07 00:00:00', 'Rua dos Campeões Europeus de Viena, 4350', 'Porto', None, 'Portugal', None, 0.99)\n",
      "(230, 14, '2011-10-08 00:00:00', '8210 111 ST NW', 'Edmonton', 'AB', 'Canada', 'T6G 2C7', 0.99)\n",
      "(237, 52, '2011-11-08 00:00:00', '202 Hoxton Street', 'London', None, 'United Kingdom', 'N1 5LH', 0.99)\n",
      "(244, 31, '2011-12-09 00:00:00', '194A Chain Lake Drive', 'Halifax', 'NS', 'Canada', 'B3S 1C5', 0.99)\n",
      "(251, 10, '2012-01-09 00:00:00', 'Rua Dr. Falcão Filho, 155', 'São Paulo', 'SP', 'Brazil', '01007-010', 0.99)\n",
      "(258, 48, '2012-02-09 00:00:00', 'Lijnbaansgracht 120bg', 'Amsterdam', 'VV', 'Netherlands', '1016', 0.99)\n",
      "(265, 27, '2012-03-11 00:00:00', '1033 N Park Ave', 'Tucson', 'AZ', 'USA', '85719', 0.99)\n",
      "(272, 6, '2012-04-11 00:00:00', 'Rilská 3174/6', 'Prague', None, 'Czech Republic', '14300', 0.99)\n",
      "(279, 44, '2012-05-12 00:00:00', 'Porthaninkatu 9', 'Helsinki', None, 'Finland', '00530', 0.99)\n",
      "(286, 23, '2012-06-12 00:00:00', '69 Salem Street', 'Boston', 'MA', 'USA', '2113', 0.99)\n",
      "(293, 2, '2012-07-13 00:00:00', 'Theodor-Heuss-Straße 34', 'Stuttgart', None, 'Germany', '70174', 0.99)\n",
      "(300, 40, '2012-08-13 00:00:00', '8, Rue Hanovre', 'Paris', None, 'France', '75002', 0.99)\n",
      "(314, 57, '2012-10-14 00:00:00', 'Calle Lira, 198', 'Santiago', None, 'Chile', None, 0.99)\n",
      "(321, 36, '2012-11-14 00:00:00', 'Tauentzienstraße 8', 'Berlin', None, 'Germany', '10789', 0.99)\n",
      "(328, 15, '2012-12-15 00:00:00', '700 W Pender Street', 'Vancouver', 'BC', 'Canada', 'V6C 1G8', 0.99)\n",
      "(335, 53, '2013-01-15 00:00:00', '113 Lupus St', 'London', None, 'United Kingdom', 'SW1V 3EN', 0.99)\n",
      "(342, 32, '2013-02-15 00:00:00', '696 Osborne Street', 'Winnipeg', 'MB', 'Canada', 'R3L 2B9', 0.99)\n",
      "(349, 11, '2013-03-18 00:00:00', 'Av. Paulista, 2022', 'São Paulo', 'SP', 'Brazil', '01310-200', 0.99)\n",
      "(356, 49, '2013-04-18 00:00:00', 'Ordynacka 10', 'Warsaw', None, 'Poland', '00-358', 0.99)\n",
      "(363, 28, '2013-05-19 00:00:00', '302 S 700 E', 'Salt Lake City', 'UT', 'USA', '84102', 0.99)\n",
      "(370, 7, '2013-06-19 00:00:00', 'Rotenturmstraße 4, 1010 Innere Stadt', 'Vienne', None, 'Austria', '1010', 0.99)\n",
      "(377, 45, '2013-07-20 00:00:00', 'Erzsébet krt. 58.', 'Budapest', None, 'Hungary', 'H-1073', 0.99)\n",
      "(384, 24, '2013-08-20 00:00:00', '162 E Superior Street', 'Chicago', 'IL', 'USA', '60611', 0.99)\n",
      "(391, 3, '2013-09-20 00:00:00', '1498 rue Bélanger', 'Montréal', 'QC', 'Canada', 'H2G 1A7', 0.99)\n",
      "(398, 41, '2013-10-21 00:00:00', '11, Place Bellecour', 'Lyon', None, 'France', '69002', 0.99)\n",
      "(405, 20, '2013-11-21 00:00:00', '541 Del Medio Avenue', 'Mountain View', 'CA', 'USA', '94040-111', 0.99)\n"
     ]
    }
   ],
   "source": [
    "# 2) Ordena de mayor a menor por 'Total'\n",
    "cursor.execute('SELECT * FROM Invoice ORDER BY Total DESC')\n",
    "registros = cursor.fetchall()\n",
    "for registro in registros:\n",
    "    print(registro)"
   ]
  },
  {
   "cell_type": "code",
   "execution_count": 213,
   "metadata": {},
   "outputs": [
    {
     "data": {
      "text/plain": [
       "[('USA', 523.0600000000003)]"
      ]
     },
     "execution_count": 213,
     "metadata": {},
     "output_type": "execute_result"
    }
   ],
   "source": [
    "# 3) Cual es el pais que mas a facturado.\n",
    "cursor.execute('SELECT BillingCountry, max(Totsum) FROM (SELECT BillingCountry, sum(Total) AS Totsum FROM Invoice GROUP BY BillingCountry)')\n",
    "cursor.fetchall()"
   ]
  },
  {
   "cell_type": "markdown",
   "metadata": {},
   "source": [
    "# Actividad 8 (Alimentando la productora)"
   ]
  },
  {
   "cell_type": "code",
   "execution_count": 214,
   "metadata": {},
   "outputs": [
    {
     "ename": "OperationalError",
     "evalue": "database is locked",
     "output_type": "error",
     "traceback": [
      "\u001b[0;31m---------------------------------------------------------------------------\u001b[0m",
      "\u001b[0;31mOperationalError\u001b[0m                          Traceback (most recent call last)",
      "\u001b[0;32m/var/folders/x5/gbyfr4dd4lj_zxznt5y8s9rh0000gn/T/ipykernel_1392/2231208542.py\u001b[0m in \u001b[0;36m<module>\u001b[0;34m\u001b[0m\n\u001b[1;32m      1\u001b[0m \u001b[0;31m# 1) Añade 5 artistas que te gusten en la tabla 'Artist'.\u001b[0m\u001b[0;34m\u001b[0m\u001b[0;34m\u001b[0m\u001b[0m\n\u001b[1;32m      2\u001b[0m \u001b[0;34m\u001b[0m\u001b[0m\n\u001b[0;32m----> 3\u001b[0;31m \u001b[0mcursor\u001b[0m\u001b[0;34m.\u001b[0m\u001b[0mexecute\u001b[0m\u001b[0;34m(\u001b[0m\u001b[0;34m'INSERT INTO Artist VALUES (NULL, \"Nuevo1\"), (NULL, \"Nuevo2\"), (NULL, \"Nuevo3\"), (NULL, \"Nuevo4\"), (NULL, \"Nuevo5\")'\u001b[0m\u001b[0;34m)\u001b[0m\u001b[0;34m\u001b[0m\u001b[0;34m\u001b[0m\u001b[0m\n\u001b[0m\u001b[1;32m      4\u001b[0m \u001b[0mcursor\u001b[0m\u001b[0;34m.\u001b[0m\u001b[0mexecute\u001b[0m\u001b[0;34m(\u001b[0m\u001b[0;34m'SELECT ArtistId, Name FROM Artist ORDER BY ArtistId DESC'\u001b[0m\u001b[0;34m)\u001b[0m\u001b[0;34m\u001b[0m\u001b[0;34m\u001b[0m\u001b[0m\n\u001b[1;32m      5\u001b[0m \u001b[0mcursor\u001b[0m\u001b[0;34m.\u001b[0m\u001b[0mfetchmany\u001b[0m\u001b[0;34m(\u001b[0m\u001b[0;36m10\u001b[0m\u001b[0;34m)\u001b[0m\u001b[0;34m\u001b[0m\u001b[0;34m\u001b[0m\u001b[0m\n",
      "\u001b[0;31mOperationalError\u001b[0m: database is locked"
     ]
    }
   ],
   "source": [
    "# 1) Añade 5 artistas que te gusten en la tabla 'Artist'.\n",
    "\n",
    "cursor.execute('INSERT INTO Artist VALUES (NULL, \"Nuevo1\"), (NULL, \"Nuevo2\"), (NULL, \"Nuevo3\"), (NULL, \"Nuevo4\"), (NULL, \"Nuevo5\")')\n",
    "cursor.execute('SELECT ArtistId, Name FROM Artist ORDER BY ArtistId DESC')\n",
    "cursor.fetchmany(10)"
   ]
  },
  {
   "cell_type": "code",
   "execution_count": null,
   "metadata": {},
   "outputs": [
    {
     "data": {
      "text/plain": [
       "[(1, 'MPEG audio file'),\n",
       " (2, 'Protected AAC audio file'),\n",
       " (3, 'Protected MPEG-4 video file'),\n",
       " (4, 'Purchased AAC audio file'),\n",
       " (5, 'AAC audio file'),\n",
       " (6, 'Wav file'),\n",
       " (7, 'Wav file')]"
      ]
     },
     "execution_count": 165,
     "metadata": {},
     "output_type": "execute_result"
    }
   ],
   "source": [
    "# 2) Introduce el MediaType Wav\n",
    "cursor.execute('INSERT INTO MediaType Values (NULL, \"Wav file\")')\n",
    "cursor.execute('SELECT * FROM MediaType')\n",
    "conn.commit()\n",
    "cursor.fetchall()"
   ]
  },
  {
   "cell_type": "code",
   "execution_count": null,
   "metadata": {},
   "outputs": [
    {
     "ename": "OperationalError",
     "evalue": "incomplete input",
     "output_type": "error",
     "traceback": [
      "\u001b[0;31m---------------------------------------------------------------------------\u001b[0m",
      "\u001b[0;31mOperationalError\u001b[0m                          Traceback (most recent call last)",
      "\u001b[0;32m/var/folders/x5/gbyfr4dd4lj_zxznt5y8s9rh0000gn/T/ipykernel_1392/2396928389.py\u001b[0m in \u001b[0;36m<module>\u001b[0;34m\u001b[0m\n\u001b[1;32m      1\u001b[0m \u001b[0;31m# 3) Crea 2 discos que esten relacionados con los artistas que has creado.\u001b[0m\u001b[0;34m\u001b[0m\u001b[0;34m\u001b[0m\u001b[0m\n\u001b[0;32m----> 2\u001b[0;31m \u001b[0mcursor\u001b[0m\u001b[0;34m.\u001b[0m\u001b[0mexecute\u001b[0m\u001b[0;34m(\u001b[0m\u001b[0;34m\"INSERT\"\u001b[0m\u001b[0;34m)\u001b[0m\u001b[0;34m\u001b[0m\u001b[0;34m\u001b[0m\u001b[0m\n\u001b[0m",
      "\u001b[0;31mOperationalError\u001b[0m: incomplete input"
     ]
    }
   ],
   "source": [
    "# 3) Crea 2 discos que esten relacionados con los artistas que has creado.\n",
    "cursor.execute(\"INSERT INTO Album (Name) \")"
   ]
  },
  {
   "cell_type": "markdown",
   "metadata": {},
   "source": [
    "# Actividad 9 (Artistas desaparecidos)\n",
    "\n",
    "Volver a usar la tabla *Artist* (cantante). (usa *PRAGMA foreign key = OFF* para desactivar la comprobacion)"
   ]
  },
  {
   "cell_type": "code",
   "execution_count": null,
   "metadata": {},
   "outputs": [
    {
     "ename": "OperationalError",
     "evalue": "near \"U2\": syntax error",
     "output_type": "error",
     "traceback": [
      "\u001b[0;31m---------------------------------------------------------------------------\u001b[0m",
      "\u001b[0;31mOperationalError\u001b[0m                          Traceback (most recent call last)",
      "\u001b[0;32m/var/folders/x5/gbyfr4dd4lj_zxznt5y8s9rh0000gn/T/ipykernel_1392/1705818674.py\u001b[0m in \u001b[0;36m<module>\u001b[0;34m\u001b[0m\n\u001b[1;32m      1\u001b[0m \u001b[0;31m# 1) Borra a U2\u001b[0m\u001b[0;34m\u001b[0m\u001b[0;34m\u001b[0m\u001b[0m\n\u001b[0;32m----> 2\u001b[0;31m \u001b[0mcursor\u001b[0m\u001b[0;34m.\u001b[0m\u001b[0mexecute\u001b[0m\u001b[0;34m(\u001b[0m\u001b[0;34m'DELETE U2 FROM Artist'\u001b[0m\u001b[0;34m)\u001b[0m\u001b[0;34m\u001b[0m\u001b[0;34m\u001b[0m\u001b[0m\n\u001b[0m\u001b[1;32m      3\u001b[0m \u001b[0mconn\u001b[0m\u001b[0;34m.\u001b[0m\u001b[0mcommit\u001b[0m\u001b[0;34m(\u001b[0m\u001b[0;34m)\u001b[0m\u001b[0;34m\u001b[0m\u001b[0;34m\u001b[0m\u001b[0m\n",
      "\u001b[0;31mOperationalError\u001b[0m: near \"U2\": syntax error"
     ]
    }
   ],
   "source": [
    "# 1) Borra a U2\n",
    "cursor.execute('DELETE  FROM Artist')\n",
    "conn.commit()"
   ]
  },
  {
   "cell_type": "code",
   "execution_count": null,
   "metadata": {},
   "outputs": [],
   "source": [
    "# 2) Borra los artistas que tengan en su nombre el simbolo *&*."
   ]
  },
  {
   "cell_type": "code",
   "execution_count": null,
   "metadata": {},
   "outputs": [],
   "source": [
    "# 3) Borra los artistas con una ID entre 201 y 230."
   ]
  },
  {
   "cell_type": "code",
   "execution_count": null,
   "metadata": {},
   "outputs": [],
   "source": [
    "# 4) Borra toda la tabla de *Track*."
   ]
  },
  {
   "cell_type": "markdown",
   "metadata": {},
   "source": [
    "# Actividad 10 (Se acabaron las rebajas)\n",
    "\n",
    "Volvemos a usar la tabla *Track* (cancion)."
   ]
  },
  {
   "cell_type": "code",
   "execution_count": null,
   "metadata": {},
   "outputs": [],
   "source": [
    "# 1) Sube el precio de todas las canciones de 0.99 a 2.99"
   ]
  },
  {
   "cell_type": "code",
   "execution_count": null,
   "metadata": {},
   "outputs": [],
   "source": [
    "# 2) sube el precio de todas las canciones de 1.99 a 4.99."
   ]
  },
  {
   "cell_type": "code",
   "execution_count": null,
   "metadata": {},
   "outputs": [],
   "source": [
    "# 3) cambia el compositor (Composer) por 'Sara' del 'TrackId' numero 2000."
   ]
  },
  {
   "cell_type": "code",
   "execution_count": null,
   "metadata": {},
   "outputs": [],
   "source": [
    "# 4) cambia el compositor(Composer) por 'clasico' de todas las canciones que empiecen con el nombre 'Concerto'."
   ]
  }
 ],
 "metadata": {
  "kernelspec": {
   "display_name": "Python 3 (ipykernel)",
   "language": "python",
   "name": "python3"
  },
  "language_info": {
   "codemirror_mode": {
    "name": "ipython",
    "version": 3
   },
   "file_extension": ".py",
   "mimetype": "text/x-python",
   "name": "python",
   "nbconvert_exporter": "python",
   "pygments_lexer": "ipython3",
   "version": "3.9.13"
  },
  "vscode": {
   "interpreter": {
    "hash": "6405a8b8ab79e80e04a863ac4b9be64f0d13f8b3341f5aa722c7842f75c21e99"
   }
  }
 },
 "nbformat": 4,
 "nbformat_minor": 4
}
