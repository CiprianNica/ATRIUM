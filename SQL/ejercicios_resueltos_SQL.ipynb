{
 "cells": [
  {
   "cell_type": "markdown",
   "metadata": {},
   "source": [
    "Crea notebook de Jupyter y con la librería de SQLite realiza las siguientes consultas a la base de datos \"Chinook_Sqlite\" (archivo proporcionado junto con los apuntes de SQL)."
   ]
  },
  {
   "cell_type": "code",
   "execution_count": 60,
   "metadata": {},
   "outputs": [],
   "source": [
    "import sqlite3\n",
    "conn = sqlite3.connect('Chinook_Sqlite.sqlite')"
   ]
  },
  {
   "cell_type": "code",
   "execution_count": 61,
   "metadata": {},
   "outputs": [],
   "source": [
    "cur = conn.cursor()"
   ]
  },
  {
   "cell_type": "markdown",
   "metadata": {},
   "source": [
    "Trabaja con table Customer"
   ]
  },
  {
   "cell_type": "code",
   "execution_count": 62,
   "metadata": {},
   "outputs": [
    {
     "data": {
      "text/plain": [
       "('luisg@embraer.com.br',)"
      ]
     },
     "execution_count": 62,
     "metadata": {},
     "output_type": "execute_result"
    }
   ],
   "source": [
    "# mustra la columna 'Email'\n",
    "res = cur.execute('SELECT Email FROM Customer')\n",
    "res.fetchone()"
   ]
  },
  {
   "cell_type": "code",
   "execution_count": 63,
   "metadata": {},
   "outputs": [
    {
     "data": {
      "text/plain": [
       "('Luís',)"
      ]
     },
     "execution_count": 63,
     "metadata": {},
     "output_type": "execute_result"
    }
   ],
   "source": [
    "# muestra la columna FirstName\n",
    "res = cur.execute('SELECT FirstName FROM Customer')\n",
    "res.fetchone()"
   ]
  },
  {
   "cell_type": "code",
   "execution_count": 64,
   "metadata": {},
   "outputs": [
    {
     "data": {
      "text/plain": [
       "('Luís', 'Gonçalves')"
      ]
     },
     "execution_count": 64,
     "metadata": {},
     "output_type": "execute_result"
    }
   ],
   "source": [
    "# muestra la columna FirstName y LastName\n",
    "res = cur.execute('SELECT FirstName , LastName FROM Customer')\n",
    "res.fetchone()"
   ]
  },
  {
   "cell_type": "code",
   "execution_count": 65,
   "metadata": {},
   "outputs": [
    {
     "data": {
      "text/plain": [
       "('Luís',\n",
       " 'Av. Brigadeiro Faria Lima, 2170',\n",
       " '+55 (12) 3923-5555',\n",
       " '+55 (12) 3923-5566')"
      ]
     },
     "execution_count": 65,
     "metadata": {},
     "output_type": "execute_result"
    }
   ],
   "source": [
    "# muestra la columna Address, Phone, Fax\n",
    "res = cur.execute('SELECT FirstName, Address, Phone, Fax FROM Customer')\n",
    "res.fetchone()"
   ]
  },
  {
   "cell_type": "code",
   "execution_count": 66,
   "metadata": {},
   "outputs": [
    {
     "data": {
      "text/plain": [
       "(1,\n",
       " 'Luís',\n",
       " 'Gonçalves',\n",
       " 'Embraer - Empresa Brasileira de Aeronáutica S.A.',\n",
       " 'Av. Brigadeiro Faria Lima, 2170',\n",
       " 'São José dos Campos',\n",
       " 'SP',\n",
       " 'Brazil',\n",
       " '12227-000',\n",
       " '+55 (12) 3923-5555',\n",
       " '+55 (12) 3923-5566',\n",
       " 'luisg@embraer.com.br',\n",
       " 3)"
      ]
     },
     "execution_count": 66,
     "metadata": {},
     "output_type": "execute_result"
    }
   ],
   "source": [
    "# muestra todas las columnas\n",
    "res = cur.execute('SELECT * FROM Customer')\n",
    "res.fetchone()"
   ]
  },
  {
   "cell_type": "markdown",
   "metadata": {},
   "source": [
    "Actividad 3-1(Ordenando a mi manera) "
   ]
  },
  {
   "cell_type": "code",
   "execution_count": 67,
   "metadata": {},
   "outputs": [
    {
     "name": "stdout",
     "output_type": "stream",
     "text": [
      "0 (23, 'Alternative')\n",
      "1 (4, 'Alternative & Punk')\n",
      "2 (6, 'Blues')\n",
      "3 (11, 'Bossa Nova')\n",
      "4 (24, 'Classical')\n",
      "5 (22, 'Comedy')\n",
      "6 (21, 'Drama')\n",
      "7 (12, 'Easy Listening')\n",
      "8 (15, 'Electronica/Dance')\n",
      "9 (13, 'Heavy Metal')\n",
      "10 (17, 'Hip Hop/Rap')\n",
      "11 (2, 'Jazz')\n",
      "12 (7, 'Latin')\n",
      "13 (3, 'Metal')\n",
      "14 (25, 'Opera')\n",
      "15 (9, 'Pop')\n",
      "16 (14, 'R&B/Soul')\n",
      "17 (8, 'Reggae')\n",
      "18 (1, 'Rock')\n",
      "19 (5, 'Rock And Roll')\n",
      "20 (20, 'Sci Fi & Fantasy')\n",
      "21 (18, 'Science Fiction')\n",
      "22 (10, 'Soundtrack')\n",
      "23 (19, 'TV Shows')\n",
      "24 (16, 'World')\n"
     ]
    }
   ],
   "source": [
    "# ordena la tabla 'Genre' por orden alfabetico \n",
    "res1 = cur.execute('SELECT * FROM Genre ORDER BY Name')\n",
    "for i, j in enumerate(res):\n",
    "    print(i, j)"
   ]
  },
  {
   "cell_type": "code",
   "execution_count": 68,
   "metadata": {},
   "outputs": [
    {
     "name": "stdout",
     "output_type": "stream",
     "text": [
      "0 (23, 'Alternative')\n",
      "1 (4, 'Alternative & Punk')\n",
      "2 (6, 'Blues')\n",
      "3 (11, 'Bossa Nova')\n",
      "4 (24, 'Classical')\n",
      "5 (22, 'Comedy')\n"
     ]
    }
   ],
   "source": [
    "# corta los resultados para que solo se muestren los 6 primeros \n",
    "res = cur.execute('SELECT * FROM Genre ORDER BY Name LIMIT 6')\n",
    "for i, j in enumerate(res):\n",
    "    print(i, j)"
   ]
  },
  {
   "cell_type": "code",
   "execution_count": 69,
   "metadata": {},
   "outputs": [
    {
     "name": "stdout",
     "output_type": "stream",
     "text": [
      "0 (16, 'World')\n",
      "1 (19, 'TV Shows')\n"
     ]
    }
   ],
   "source": [
    "# muestra las ultimas 2 filas de la tabla\n",
    "res = cur.execute('SELECT * FROM (SELECT * FROM Genre ORDER BY Name) ORDER BY Name DESC LIMIT 2')\n",
    "for i, j in enumerate(res):\n",
    "    print(i, j)\n"
   ]
  },
  {
   "cell_type": "markdown",
   "metadata": {},
   "source": [
    "Actividad 3-2 (En busca del peor cliente)\n",
    "\n",
    "Usamos la tabla Customer"
   ]
  },
  {
   "cell_type": "code",
   "execution_count": 70,
   "metadata": {},
   "outputs": [
    {
     "data": {
      "text/plain": [
       "(4, 'Bjørn', 'Hansen', 'Norway')"
      ]
     },
     "execution_count": 70,
     "metadata": {},
     "output_type": "execute_result"
    }
   ],
   "source": [
    "# muestra los usuarios que han reportado mas de 3 incidencias\n",
    "# columna donde de cuenta es 'SupportRepid'\n",
    "\n",
    "res = cur.execute('SELECT CustomerId, FirstName, LastName, Country FROM Customer WHERE SupportRepid > 3')\n",
    "res.fetchone()\n",
    "    "
   ]
  },
  {
   "cell_type": "code",
   "execution_count": 71,
   "metadata": {},
   "outputs": [
    {
     "data": {
      "text/plain": [
       "[(10, 'Eduardo', 'Martins', 'Brazil'),\n",
       " (13, 'Fernanda', 'Ramos', 'Brazil'),\n",
       " (11, 'Alexandre', 'Rocha', 'Brazil')]"
      ]
     },
     "execution_count": 71,
     "metadata": {},
     "output_type": "execute_result"
    }
   ],
   "source": [
    "# filtra los resultados anteriores por los que viven en Brasil\n",
    "res = cur.execute('SELECT CustomerId, FirstName, LastName, Country FROM Customer WHERE (SupportRepid > 3 and Country = \"Brazil\")');\n",
    "res.fetchall()\n"
   ]
  },
  {
   "cell_type": "code",
   "execution_count": 72,
   "metadata": {},
   "outputs": [
    {
     "data": {
      "text/plain": [
       "[('Leonie', 'Köhler', 'Germany', '70174'),\n",
       " ('Fernanda', 'Ramos', 'Brazil', '71020-677'),\n",
       " ('Richard', 'Cunningham', 'USA', '76110'),\n",
       " ('Camille', 'Bernard', 'France', '75009'),\n",
       " ('Dominique', 'Lefebvre', 'France', '75002')]"
      ]
     },
     "execution_count": 72,
     "metadata": {},
     "output_type": "execute_result"
    }
   ],
   "source": [
    "# muestra los usuarios que tengan un codico postal empezando con 7\n",
    "res = cur.execute('SELECT FirstName, LastName, Country, PostalCode From Customer WHERE PostalCode LIKE \"7%\"')\n",
    "res.fetchall()\n"
   ]
  },
  {
   "cell_type": "code",
   "execution_count": 73,
   "metadata": {},
   "outputs": [
    {
     "data": {
      "text/plain": [
       "<sqlite3.Cursor at 0x7f9ac2967ce0>"
      ]
     },
     "execution_count": 73,
     "metadata": {},
     "output_type": "execute_result"
    }
   ],
   "source": [
    "res"
   ]
  },
  {
   "cell_type": "code",
   "execution_count": 74,
   "metadata": {},
   "outputs": [],
   "source": [
    "# muestra los usuarios que tengan un email de 'hotmail'\n",
    "cur.execute('SELECT FirstName, LastName, Email FROM Customer WHERE Email LIKE \"%hotmail%\"')\n",
    "res = cur.fetchall()\n"
   ]
  },
  {
   "cell_type": "code",
   "execution_count": 75,
   "metadata": {},
   "outputs": [
    {
     "data": {
      "text/plain": [
       "[('Kathy', 'Chase', 'kachase@hotmail.com'),\n",
       " ('Richard', 'Cunningham', 'ricunningham@hotmail.com'),\n",
       " ('Marc', 'Dubois', 'marc.dubois@hotmail.com'),\n",
       " ('Emma', 'Jones', 'emma_jones@hotmail.com')]"
      ]
     },
     "execution_count": 75,
     "metadata": {},
     "output_type": "execute_result"
    }
   ],
   "source": [
    "res"
   ]
  },
  {
   "cell_type": "code",
   "execution_count": 76,
   "metadata": {},
   "outputs": [
    {
     "data": {
      "text/plain": [
       "[('François', 'Tremblay', 'Canada', 'ftremblay@gmail.com'),\n",
       " ('Mark', 'Philips', 'Canada', 'mphilips12@shaw.ca'),\n",
       " ('Jennifer', 'Peterson', 'Canada', 'jenniferp@rogers.ca'),\n",
       " ('Frank', 'Harris', 'USA', 'fharris@google.com'),\n",
       " ('Jack', 'Smith', 'USA', 'jacksmith@microsoft.com'),\n",
       " ('Michelle', 'Brooks', 'USA', 'michelleb@aol.com'),\n",
       " ('Tim', 'Goyer', 'USA', 'tgoyer@apple.com'),\n",
       " ('Dan', 'Miller', 'USA', 'dmiller@comcast.com'),\n",
       " ('Kathy', 'Chase', 'USA', 'kachase@hotmail.com'),\n",
       " ('Heather', 'Leacock', 'USA', 'hleacock@gmail.com'),\n",
       " ('John', 'Gordon', 'USA', 'johngordon22@yahoo.com'),\n",
       " ('Frank', 'Ralston', 'USA', 'fralston@gmail.com'),\n",
       " ('Victor', 'Stevens', 'USA', 'vstevens@yahoo.com'),\n",
       " ('Richard', 'Cunningham', 'USA', 'ricunningham@hotmail.com'),\n",
       " ('Patrick', 'Gray', 'USA', 'patrick.gray@aol.com'),\n",
       " ('Julia', 'Barnett', 'USA', 'jubarnett@gmail.com'),\n",
       " ('Robert', 'Brown', 'Canada', 'robbrown@shaw.ca'),\n",
       " ('Edward', 'Francis', 'Canada', 'edfrancis@yachoo.ca'),\n",
       " ('Martha', 'Silk', 'Canada', 'marthasilk@gmail.com'),\n",
       " ('Aaron', 'Mitchell', 'Canada', 'aaronmitchell@yahoo.ca'),\n",
       " ('Ellie', 'Sullivan', 'Canada', 'ellie.sullivan@shaw.ca')]"
      ]
     },
     "execution_count": 76,
     "metadata": {},
     "output_type": "execute_result"
    }
   ],
   "source": [
    "# muestra los usuarios nacidos en USA o Canada\n",
    "cur.execute('SELECT FirstName, LastName, Country, Email FROM Customer WHERE Country = \"USA\" OR Country = \"Canada\"')\n",
    "res = cur.fetchall()\n",
    "res"
   ]
  },
  {
   "cell_type": "code",
   "execution_count": 77,
   "metadata": {},
   "outputs": [
    {
     "data": {
      "text/plain": [
       "[('François', 'Tremblay', 'Canada', 'ftremblay@gmail.com'),\n",
       " ('Frank', 'Harris', 'USA', 'fharris@google.com'),\n",
       " ('Jack', 'Smith', 'USA', 'jacksmith@microsoft.com'),\n",
       " ('Michelle', 'Brooks', 'USA', 'michelleb@aol.com'),\n",
       " ('Tim', 'Goyer', 'USA', 'tgoyer@apple.com'),\n",
       " ('Dan', 'Miller', 'USA', 'dmiller@comcast.com'),\n",
       " ('Kathy', 'Chase', 'USA', 'kachase@hotmail.com'),\n",
       " ('Heather', 'Leacock', 'USA', 'hleacock@gmail.com'),\n",
       " ('John', 'Gordon', 'USA', 'johngordon22@yahoo.com'),\n",
       " ('Frank', 'Ralston', 'USA', 'fralston@gmail.com'),\n",
       " ('Victor', 'Stevens', 'USA', 'vstevens@yahoo.com'),\n",
       " ('Richard', 'Cunningham', 'USA', 'ricunningham@hotmail.com'),\n",
       " ('Patrick', 'Gray', 'USA', 'patrick.gray@aol.com'),\n",
       " ('Julia', 'Barnett', 'USA', 'jubarnett@gmail.com'),\n",
       " ('Martha', 'Silk', 'Canada', 'marthasilk@gmail.com')]"
      ]
     },
     "execution_count": 77,
     "metadata": {},
     "output_type": "execute_result"
    }
   ],
   "source": [
    "# de los resultados anteriores, muestra los que tengan un email de 'gmail'\n",
    "cur.execute('SELECT FirstName, LastName, Country, Email FROM Customer WHERE Country = \"USA\" OR Country = \"Canada\" AND Email LIKE \"%@gmail.com\"')\n",
    "res = cur.fetchall()\n",
    "res"
   ]
  }
 ],
 "metadata": {
  "kernelspec": {
   "display_name": "Python 3 (ipykernel)",
   "language": "python",
   "name": "python3"
  },
  "language_info": {
   "codemirror_mode": {
    "name": "ipython",
    "version": 3
   },
   "file_extension": ".py",
   "mimetype": "text/x-python",
   "name": "python",
   "nbconvert_exporter": "python",
   "pygments_lexer": "ipython3",
   "version": "3.9.13"
  },
  "vscode": {
   "interpreter": {
    "hash": "6405a8b8ab79e80e04a863ac4b9be64f0d13f8b3341f5aa722c7842f75c21e99"
   }
  }
 },
 "nbformat": 4,
 "nbformat_minor": 4
}
