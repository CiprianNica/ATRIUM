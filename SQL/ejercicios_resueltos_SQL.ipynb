{
 "cells": [
  {
   "cell_type": "markdown",
   "metadata": {},
   "source": [
    "Crea notebook de Jupyter y con la librería de SQLite realiza las siguientes consultas a la base de datos \"Chinook_Sqlite\" (archivo proporcionado junto con los apuntes de SQL)."
   ]
  },
  {
   "cell_type": "code",
   "execution_count": 669,
   "metadata": {},
   "outputs": [],
   "source": [
    "import sqlite3\n",
    "conn = sqlite3.connect('Chinook_Sqlite.sqlite')"
   ]
  },
  {
   "cell_type": "code",
   "execution_count": 670,
   "metadata": {},
   "outputs": [],
   "source": [
    "cursor = conn.cursor()"
   ]
  },
  {
   "cell_type": "markdown",
   "metadata": {},
   "source": [
    "# Actividad 1 (Atencion al cliente)\n",
    "\n",
    "Trabaja con table Customer"
   ]
  },
  {
   "cell_type": "code",
   "execution_count": 671,
   "metadata": {},
   "outputs": [
    {
     "data": {
      "text/plain": [
       "('luisg@embraer.com.br',)"
      ]
     },
     "execution_count": 671,
     "metadata": {},
     "output_type": "execute_result"
    }
   ],
   "source": [
    "# 1)mustra la columna 'Email'\n",
    "res = cursor.execute('SELECT Email FROM Customer')\n",
    "res.fetchone()"
   ]
  },
  {
   "cell_type": "code",
   "execution_count": 672,
   "metadata": {},
   "outputs": [
    {
     "data": {
      "text/plain": [
       "('Luís',)"
      ]
     },
     "execution_count": 672,
     "metadata": {},
     "output_type": "execute_result"
    }
   ],
   "source": [
    "# 2)muestra la columna FirstName\n",
    "res = cursor.execute('SELECT FirstName FROM Customer')\n",
    "res.fetchone()"
   ]
  },
  {
   "cell_type": "code",
   "execution_count": 673,
   "metadata": {},
   "outputs": [
    {
     "data": {
      "text/plain": [
       "('Luís', 'Gonçalves')"
      ]
     },
     "execution_count": 673,
     "metadata": {},
     "output_type": "execute_result"
    }
   ],
   "source": [
    "# 3)muestra la columna FirstName y LastName\n",
    "res = cursor.execute('SELECT FirstName , LastName FROM Customer')\n",
    "res.fetchone()"
   ]
  },
  {
   "cell_type": "code",
   "execution_count": 674,
   "metadata": {},
   "outputs": [
    {
     "data": {
      "text/plain": [
       "('Luís',\n",
       " 'Av. Brigadeiro Faria Lima, 2170',\n",
       " '+55 (12) 3923-5555',\n",
       " '+55 (12) 3923-5566')"
      ]
     },
     "execution_count": 674,
     "metadata": {},
     "output_type": "execute_result"
    }
   ],
   "source": [
    "# 4) muestra la columna Address, Phone, Fax\n",
    "res = cursor.execute('SELECT FirstName, Address, Phone, Fax FROM Customer')\n",
    "res.fetchone()"
   ]
  },
  {
   "cell_type": "code",
   "execution_count": 675,
   "metadata": {},
   "outputs": [
    {
     "data": {
      "text/plain": [
       "(1,\n",
       " 'Luís',\n",
       " 'Gonçalves',\n",
       " 'Embraer - Empresa Brasileira de Aeronáutica S.A.',\n",
       " 'Av. Brigadeiro Faria Lima, 2170',\n",
       " 'São José dos Campos',\n",
       " 'SP',\n",
       " 'Brazil',\n",
       " '12227-000',\n",
       " '+55 (12) 3923-5555',\n",
       " '+55 (12) 3923-5566',\n",
       " 'luisg@embraer.com.br',\n",
       " 3)"
      ]
     },
     "execution_count": 675,
     "metadata": {},
     "output_type": "execute_result"
    }
   ],
   "source": [
    "# 5) muestra todas las columnas\n",
    "res = cursor.execute('SELECT * FROM Customer')\n",
    "res.fetchone()"
   ]
  },
  {
   "cell_type": "markdown",
   "metadata": {},
   "source": [
    "# Actividad 2(Ordenando a mi manera) "
   ]
  },
  {
   "cell_type": "code",
   "execution_count": 676,
   "metadata": {},
   "outputs": [
    {
     "name": "stdout",
     "output_type": "stream",
     "text": [
      "0 (23, 'Alternative')\n",
      "1 (4, 'Alternative & Punk')\n",
      "2 (6, 'Blues')\n",
      "3 (11, 'Bossa Nova')\n",
      "4 (24, 'Classical')\n",
      "5 (22, 'Comedy')\n",
      "6 (21, 'Drama')\n",
      "7 (12, 'Easy Listening')\n",
      "8 (15, 'Electronica/Dance')\n",
      "9 (13, 'Heavy Metal')\n",
      "10 (17, 'Hip Hop/Rap')\n",
      "11 (2, 'Jazz')\n",
      "12 (7, 'Latin')\n",
      "13 (3, 'Metal')\n",
      "14 (25, 'Opera')\n",
      "15 (9, 'Pop')\n",
      "16 (14, 'R&B/Soul')\n",
      "17 (8, 'Reggae')\n",
      "18 (1, 'Rock')\n",
      "19 (5, 'Rock And Roll')\n",
      "20 (20, 'Sci Fi & Fantasy')\n",
      "21 (18, 'Science Fiction')\n",
      "22 (10, 'Soundtrack')\n",
      "23 (19, 'TV Shows')\n",
      "24 (16, 'World')\n"
     ]
    }
   ],
   "source": [
    "# 1) ordena la tabla 'Genre' por orden alfabetico \n",
    "res1 = cursor.execute('SELECT * FROM Genre ORDER BY Name')\n",
    "for i, j in enumerate(res):\n",
    "    print(i, j)"
   ]
  },
  {
   "cell_type": "code",
   "execution_count": 677,
   "metadata": {},
   "outputs": [
    {
     "name": "stdout",
     "output_type": "stream",
     "text": [
      "0 (23, 'Alternative')\n",
      "1 (4, 'Alternative & Punk')\n",
      "2 (6, 'Blues')\n",
      "3 (11, 'Bossa Nova')\n",
      "4 (24, 'Classical')\n",
      "5 (22, 'Comedy')\n"
     ]
    }
   ],
   "source": [
    "# 2) corta los resultados para que solo se muestren los 6 primeros \n",
    "res = cursor.execute('SELECT * FROM Genre ORDER BY Name LIMIT 6')\n",
    "for i, j in enumerate(res):\n",
    "    print(i, j)"
   ]
  },
  {
   "cell_type": "code",
   "execution_count": 678,
   "metadata": {},
   "outputs": [
    {
     "name": "stdout",
     "output_type": "stream",
     "text": [
      "0 (16, 'World')\n",
      "1 (19, 'TV Shows')\n"
     ]
    }
   ],
   "source": [
    "# 3) muestra las ultimas 2 filas de la tabla\n",
    "res = cursor.execute('SELECT * FROM (SELECT * FROM Genre ORDER BY Name) ORDER BY Name DESC LIMIT 2')\n",
    "for i, j in enumerate(res):\n",
    "    print(i, j)\n"
   ]
  },
  {
   "cell_type": "code",
   "execution_count": null,
   "metadata": {},
   "outputs": [],
   "source": []
  },
  {
   "cell_type": "markdown",
   "metadata": {},
   "source": [
    "# Actividad 3 (En busca del peor cliente)\n",
    "\n",
    "Usamos la tabla Customer"
   ]
  },
  {
   "cell_type": "code",
   "execution_count": 679,
   "metadata": {},
   "outputs": [
    {
     "data": {
      "text/plain": [
       "(4, 'Bjørn', 'Hansen', 'Norway')"
      ]
     },
     "execution_count": 679,
     "metadata": {},
     "output_type": "execute_result"
    }
   ],
   "source": [
    "# 1) muestra los usuarios que han reportado mas de 3 incidencias (columna donde de cuenta es 'SupportRepid')\n",
    "\n",
    "res = cursor.execute('SELECT CustomerId, FirstName, LastName, Country FROM Customer WHERE SupportRepid > 3')\n",
    "res.fetchone()\n",
    "    "
   ]
  },
  {
   "cell_type": "code",
   "execution_count": 680,
   "metadata": {},
   "outputs": [
    {
     "data": {
      "text/plain": [
       "[(10, 'Eduardo', 'Martins', 'Brazil'),\n",
       " (13, 'Fernanda', 'Ramos', 'Brazil'),\n",
       " (11, 'Alexandre', 'Rocha', 'Brazil')]"
      ]
     },
     "execution_count": 680,
     "metadata": {},
     "output_type": "execute_result"
    }
   ],
   "source": [
    "# 2) filtra los resultados anteriores por los que viven en 'Brasil'\n",
    "res = cursor.execute('SELECT CustomerId, FirstName, LastName, Country FROM Customer WHERE (SupportRepid > 3 and Country = \"Brazil\")')\n",
    "res.fetchall()"
   ]
  },
  {
   "cell_type": "code",
   "execution_count": 681,
   "metadata": {},
   "outputs": [
    {
     "data": {
      "text/plain": [
       "[('Leonie', 'Köhler', 'Germany', '70174'),\n",
       " ('Fernanda', 'Ramos', 'Brazil', '71020-677'),\n",
       " ('Richard', 'Cunningham', 'USA', '76110'),\n",
       " ('Camille', 'Bernard', 'France', '75009'),\n",
       " ('Dominique', 'Lefebvre', 'France', '75002')]"
      ]
     },
     "execution_count": 681,
     "metadata": {},
     "output_type": "execute_result"
    }
   ],
   "source": [
    "# 3) muestra los usuarios que tengan un codico postal empezando con 7\n",
    "res = cursor.execute('SELECT FirstName, LastName, Country, PostalCode From Customer WHERE PostalCode LIKE \"7%\"')\n",
    "res.fetchall()\n"
   ]
  },
  {
   "cell_type": "code",
   "execution_count": 682,
   "metadata": {},
   "outputs": [],
   "source": [
    "# 4) muestra los usuarios que tengan un email de 'hotmail'\n",
    "cursor.execute('SELECT FirstName, LastName, Email FROM Customer WHERE Email LIKE \"%hotmail%\"')\n",
    "res = cursor.fetchall()\n"
   ]
  },
  {
   "cell_type": "code",
   "execution_count": 683,
   "metadata": {},
   "outputs": [
    {
     "data": {
      "text/plain": [
       "[('Kathy', 'Chase', 'kachase@hotmail.com'),\n",
       " ('Richard', 'Cunningham', 'ricunningham@hotmail.com'),\n",
       " ('Marc', 'Dubois', 'marc.dubois@hotmail.com'),\n",
       " ('Emma', 'Jones', 'emma_jones@hotmail.com')]"
      ]
     },
     "execution_count": 683,
     "metadata": {},
     "output_type": "execute_result"
    }
   ],
   "source": [
    "res"
   ]
  },
  {
   "cell_type": "code",
   "execution_count": 684,
   "metadata": {},
   "outputs": [
    {
     "data": {
      "text/plain": [
       "[('François', 'Tremblay', 'Canada', 'ftremblay@gmail.com'),\n",
       " ('Mark', 'Philips', 'Canada', 'mphilips12@shaw.ca'),\n",
       " ('Jennifer', 'Peterson', 'Canada', 'jenniferp@rogers.ca'),\n",
       " ('Frank', 'Harris', 'USA', 'fharris@google.com'),\n",
       " ('Jack', 'Smith', 'USA', 'jacksmith@microsoft.com'),\n",
       " ('Michelle', 'Brooks', 'USA', 'michelleb@aol.com'),\n",
       " ('Tim', 'Goyer', 'USA', 'tgoyer@apple.com'),\n",
       " ('Dan', 'Miller', 'USA', 'dmiller@comcast.com'),\n",
       " ('Kathy', 'Chase', 'USA', 'kachase@hotmail.com'),\n",
       " ('Heather', 'Leacock', 'USA', 'hleacock@gmail.com'),\n",
       " ('John', 'Gordon', 'USA', 'johngordon22@yahoo.com'),\n",
       " ('Frank', 'Ralston', 'USA', 'fralston@gmail.com'),\n",
       " ('Victor', 'Stevens', 'USA', 'vstevens@yahoo.com'),\n",
       " ('Richard', 'Cunningham', 'USA', 'ricunningham@hotmail.com'),\n",
       " ('Patrick', 'Gray', 'USA', 'patrick.gray@aol.com'),\n",
       " ('Julia', 'Barnett', 'USA', 'jubarnett@gmail.com'),\n",
       " ('Robert', 'Brown', 'Canada', 'robbrown@shaw.ca'),\n",
       " ('Edward', 'Francis', 'Canada', 'edfrancis@yachoo.ca'),\n",
       " ('Martha', 'Silk', 'Canada', 'marthasilk@gmail.com'),\n",
       " ('Aaron', 'Mitchell', 'Canada', 'aaronmitchell@yahoo.ca'),\n",
       " ('Ellie', 'Sullivan', 'Canada', 'ellie.sullivan@shaw.ca')]"
      ]
     },
     "execution_count": 684,
     "metadata": {},
     "output_type": "execute_result"
    }
   ],
   "source": [
    "# 5) muestra los usuarios nacidos en USA o Canada\n",
    "cursor.execute('SELECT FirstName, LastName, Country, Email FROM Customer WHERE Country = \"USA\" OR Country = \"Canada\"')\n",
    "res = cursor.fetchall()\n",
    "res"
   ]
  },
  {
   "cell_type": "code",
   "execution_count": 685,
   "metadata": {},
   "outputs": [
    {
     "data": {
      "text/plain": [
       "[('François', 'Tremblay', 'Canada', 'ftremblay@gmail.com'),\n",
       " ('Heather', 'Leacock', 'USA', 'hleacock@gmail.com'),\n",
       " ('Frank', 'Ralston', 'USA', 'fralston@gmail.com'),\n",
       " ('Julia', 'Barnett', 'USA', 'jubarnett@gmail.com'),\n",
       " ('Martha', 'Silk', 'Canada', 'marthasilk@gmail.com')]"
      ]
     },
     "execution_count": 685,
     "metadata": {},
     "output_type": "execute_result"
    }
   ],
   "source": [
    "# 6) de los resultados anteriores, muestra los que tengan un email de 'gmail'\n",
    "cursor.execute('SELECT FirstName, LastName, Country, Email FROM Customer WHERE Email LIKE \"%@gmail%\" AND (Country = \"USA\" OR Country = \"Canada\")')\n",
    "res = cursor.fetchall()\n",
    "res"
   ]
  },
  {
   "cell_type": "code",
   "execution_count": 686,
   "metadata": {},
   "outputs": [
    {
     "data": {
      "text/plain": [
       "[('Tim', 'Goyer', 'Apple Inc.')]"
      ]
     },
     "execution_count": 686,
     "metadata": {},
     "output_type": "execute_result"
    }
   ],
   "source": [
    "# 6) muestra los usuarios que trabaja en Apple (columna Company)\n",
    "# Aviso: np sabes el formato de la compania, podria ser: Apple SL, Company Apple, APPLE...\n",
    "cursor.execute('SELECT  FirstName, LastName, Company FROM Customer WHERE Company LIKE \"%APPLE%\"')\n",
    "res = cursor.fetchall()\n",
    "res"
   ]
  },
  {
   "cell_type": "code",
   "execution_count": 687,
   "metadata": {},
   "outputs": [
    {
     "data": {
      "text/plain": [
       "[('Luís', 'Gonçalves', 3),\n",
       " ('François', 'Tremblay', 3),\n",
       " ('Roberto', 'Almeida', 3),\n",
       " ('Jennifer', 'Peterson', 3),\n",
       " ('Michelle', 'Brooks', 3),\n",
       " ('Tim', 'Goyer', 3),\n",
       " ('Frank', 'Ralston', 3),\n",
       " ('Robert', 'Brown', 3),\n",
       " ('Edward', 'Francis', 3),\n",
       " ('Ellie', 'Sullivan', 3),\n",
       " ('Fynn', 'Zimmermann', 3),\n",
       " ('Niklas', 'Schröder', 3),\n",
       " ('Wyatt', 'Girard', 3),\n",
       " ('Isabelle', 'Mercier', 3),\n",
       " ('Terhi', 'Hämäläinen', 3),\n",
       " ('Ladislav', 'Kovács', 3),\n",
       " ('Hugh', \"O'Reilly\", 3),\n",
       " ('Emma', 'Jones', 3),\n",
       " ('Phil', 'Hughes', 3),\n",
       " ('Manoj', 'Pareek', 3),\n",
       " ('Puja', 'Srivastava', 3),\n",
       " ('Bjørn', 'Hansen', 4),\n",
       " ('František', 'Wichterlová', 4),\n",
       " ('Daan', 'Peeters', 4),\n",
       " ('Kara', 'Nielsen', 4),\n",
       " ('Eduardo', 'Martins', 4),\n",
       " ('Fernanda', 'Ramos', 4),\n",
       " ('Frank', 'Harris', 4),\n",
       " ('Dan', 'Miller', 4),\n",
       " ('Heather', 'Leacock', 4),\n",
       " ('John', 'Gordon', 4),\n",
       " ('Richard', 'Cunningham', 4),\n",
       " ('Patrick', 'Gray', 4),\n",
       " ('Aaron', 'Mitchell', 4),\n",
       " ('João', 'Fernandes', 4),\n",
       " ('Madalena', 'Sampaio', 4),\n",
       " ('Camille', 'Bernard', 4),\n",
       " ('Dominique', 'Lefebvre', 4),\n",
       " ('Stanisław', 'Wójcik', 4),\n",
       " ('Mark', 'Taylor', 4),\n",
       " ('Diego', 'Gutiérrez', 4)]"
      ]
     },
     "execution_count": 687,
     "metadata": {},
     "output_type": "execute_result"
    }
   ],
   "source": [
    "# 7) muestra los usuarios que han reportado entre 3 y 4 incidencias\n",
    "cursor.execute('SELECT FirstName, LastName, SupportRepid FROM Customer WHERE SupportRepid BETWEEN 3 AND 4')\n",
    "res = cursor.fetchall()\n",
    "res"
   ]
  },
  {
   "cell_type": "markdown",
   "metadata": {},
   "source": [
    "# Actividad 3 (Limpieza de personal)\n",
    "\n",
    "Usaremos la tabla 'Employee'"
   ]
  },
  {
   "cell_type": "code",
   "execution_count": 688,
   "metadata": {},
   "outputs": [
    {
     "data": {
      "text/plain": [
       "[('Calgary', 5), ('Edmonton', 1), ('Lethbridge', 2)]"
      ]
     },
     "execution_count": 688,
     "metadata": {},
     "output_type": "execute_result"
    }
   ],
   "source": [
    "# 1) Cuenta la cantidad de empleados que hay por ciudad\n",
    "cursor.execute('SELECT City, count(EmployeeId) FROM Employee GROUP BY City')\n",
    "cursor.fetchall()"
   ]
  },
  {
   "cell_type": "code",
   "execution_count": 689,
   "metadata": {},
   "outputs": [
    {
     "data": {
      "text/plain": [
       "[('General Manager', 1),\n",
       " ('IT Manager', 1),\n",
       " ('IT Staff', 2),\n",
       " ('Sales Manager', 1),\n",
       " ('Sales Support Agent', 3)]"
      ]
     },
     "execution_count": 689,
     "metadata": {},
     "output_type": "execute_result"
    }
   ],
   "source": [
    "# 2) cuenta la cantidad de empleados que hay por departamento\n",
    "cursor.execute('SELECT  Title, count(EmployeeId) FROM Employee GROUP BY Title')\n",
    "cursor.fetchall()"
   ]
  },
  {
   "cell_type": "code",
   "execution_count": 690,
   "metadata": {},
   "outputs": [
    {
     "data": {
      "text/plain": [
       "[('Andrew', 'Adams', 61),\n",
       " ('Nancy', 'Edwards', 64),\n",
       " ('Jane', 'Peacock', 50),\n",
       " ('Margaret', 'Park', 76),\n",
       " ('Steve', 'Johnson', 58),\n",
       " ('Michael', 'Mitchell', 50),\n",
       " ('Robert', 'King', 53),\n",
       " ('Laura', 'Callahan', 55)]"
      ]
     },
     "execution_count": 690,
     "metadata": {},
     "output_type": "execute_result"
    }
   ],
   "source": [
    "# 3) muestra la edad de cada empleado\n",
    "cursor.execute(\"SELECT FirstName, LastName, (strftime('%Y', 'now') - strftime('%Y', BirthDate)) - (strftime('%m-%d', 'now') < strftime('%m-%d', BirthDate)) AS Age FROM Employee\")\n",
    "cursor.fetchall()"
   ]
  },
  {
   "cell_type": "code",
   "execution_count": 691,
   "metadata": {},
   "outputs": [
    {
     "data": {
      "text/plain": [
       "[('General Manager', 61.0),\n",
       " ('IT Manager', 50.0),\n",
       " ('IT Staff', 54.0),\n",
       " ('Sales Manager', 64.0),\n",
       " ('Sales Support Agent', 61.333333333333336)]"
      ]
     },
     "execution_count": 691,
     "metadata": {},
     "output_type": "execute_result"
    }
   ],
   "source": [
    "# 4) calcula la media de edad por departamento (Title)\n",
    "\n",
    "cursor.execute(\"SELECT Title, AVG((strftime('%Y', 'now') - strftime('%Y', BirthDate)) - (strftime('%m-%d', 'now') < strftime('%m-%d', BirthDate))) FROM Employee GROUP BY Title\")\n",
    "cursor.fetchall()"
   ]
  },
  {
   "cell_type": "code",
   "execution_count": 692,
   "metadata": {},
   "outputs": [
    {
     "data": {
      "text/plain": [
       "[('2002', 3), ('2003', 3), ('2004', 2)]"
      ]
     },
     "execution_count": 692,
     "metadata": {},
     "output_type": "execute_result"
    }
   ],
   "source": [
    "# 5) cuenta los empleados que fueron contratados, de media, por año\n",
    "cursor.execute(\"SELECT strftime('%Y', HireDate), count(HireDate) FROM Employee GROUP BY strftime('%Y', HireDate)\")\n",
    "cursor.fetchall()"
   ]
  },
  {
   "cell_type": "code",
   "execution_count": 693,
   "metadata": {},
   "outputs": [
    {
     "data": {
      "text/plain": [
       "[(2.6666666666666665,)]"
      ]
     },
     "execution_count": 693,
     "metadata": {},
     "output_type": "execute_result"
    }
   ],
   "source": [
    "cursor.execute(\"SELECT AVG(numero) FROM (SELECT strftime('%Y', HireDate) AS anno, count(*) AS numero FROM Employee GROUP BY anno)\")\n",
    "cursor.fetchall()"
   ]
  },
  {
   "cell_type": "markdown",
   "metadata": {},
   "source": [
    "# Actividad 4(Experto en canciones)\n",
    "Volvemos a usar la tabla 'Track'"
   ]
  },
  {
   "cell_type": "code",
   "execution_count": 694,
   "metadata": {},
   "outputs": [
    {
     "data": {
      "text/plain": [
       "[('Balls to the Wall',),\n",
       " ('Fast As a Shark',),\n",
       " ('Restless and Wild',),\n",
       " ('Princess of the Dawn',),\n",
       " ('Welcome to the Jungle',),\n",
       " (\"It's So Easy\",),\n",
       " ('Nightrain',),\n",
       " ('Out Ta Get Me',),\n",
       " ('Mr. Brownstone',),\n",
       " ('Paradise City',),\n",
       " ('My Michelle',),\n",
       " ('Think About You',),\n",
       " (\"Sweet Child O' Mine\",),\n",
       " (\"You're Crazy\",),\n",
       " ('Anything Goes',),\n",
       " ('Rocket Queen',),\n",
       " ('Right Next Door to Hell',),\n",
       " (\"Dust N' Bones\",),\n",
       " ('Live and Let Die',),\n",
       " (\"Don't Cry (Original)\",)]"
      ]
     },
     "execution_count": 694,
     "metadata": {},
     "output_type": "execute_result"
    }
   ],
   "source": [
    "# 1) Muestra todos los canciones con el MediaType Protected AAC audiofile.\n",
    "cursor.execute(\"SELECT Name FROM Track WHERE MediaTypeId = (SELECT MediaTypeId FROM MediaType WHERE Name = 'Protected AAC audio file')\")\n",
    "cursor.fetchmany(20)\n"
   ]
  },
  {
   "cell_type": "code",
   "execution_count": 695,
   "metadata": {},
   "outputs": [
    {
     "data": {
      "text/plain": [
       "[('Balls to the Wall',),\n",
       " ('Fast As a Shark',),\n",
       " ('Restless and Wild',),\n",
       " ('Princess of the Dawn',),\n",
       " ('Welcome to the Jungle',),\n",
       " (\"It's So Easy\",),\n",
       " ('Nightrain',),\n",
       " ('Out Ta Get Me',),\n",
       " ('Mr. Brownstone',),\n",
       " ('Paradise City',),\n",
       " ('My Michelle',),\n",
       " ('Think About You',),\n",
       " (\"Sweet Child O' Mine\",),\n",
       " (\"You're Crazy\",),\n",
       " ('Anything Goes',),\n",
       " ('Rocket Queen',),\n",
       " ('Right Next Door to Hell',),\n",
       " (\"Dust N' Bones\",),\n",
       " ('Live and Let Die',),\n",
       " (\"Don't Cry (Original)\",)]"
      ]
     },
     "execution_count": 695,
     "metadata": {},
     "output_type": "execute_result"
    }
   ],
   "source": [
    "# 2)muestra todas las canciones que contengan algun MediaType con 'AAC'.\n",
    "cursor.execute(\"SELECT Name FROM Track WHERE MediaTypeId = (SELECT MediaTypeId FROM MediaType WHERE Name LIKE '%AAC%')\");\n",
    "cursor.fetchmany(20)"
   ]
  },
  {
   "cell_type": "code",
   "execution_count": 696,
   "metadata": {},
   "outputs": [
    {
     "data": {
      "text/plain": [
       "[('For Those About To Rock (We Salute You)',),\n",
       " ('Balls to the Wall',),\n",
       " ('Fast As a Shark',),\n",
       " ('Restless and Wild',),\n",
       " ('Princess of the Dawn',),\n",
       " ('Put The Finger On You',),\n",
       " (\"Let's Get It Up\",),\n",
       " ('Inject The Venom',),\n",
       " ('Snowballed',),\n",
       " ('Evil Walks',),\n",
       " ('C.O.D.',),\n",
       " ('Breaking The Rules',),\n",
       " ('Night Of The Long Knives',),\n",
       " ('Spellbound',),\n",
       " ('Go Down',),\n",
       " ('Dog Eat Dog',),\n",
       " ('Let There Be Rock',),\n",
       " ('Bad Boy Boogie',),\n",
       " ('Problem Child',),\n",
       " ('Overdose',)]"
      ]
     },
     "execution_count": 696,
     "metadata": {},
     "output_type": "execute_result"
    }
   ],
   "source": [
    "# 3) muestra todas las canciones que duren mas de 2 minutos\n",
    "\n",
    "cursor.execute('SELECT Name FROM Track WHERE Milliseconds > 120000')\n",
    "cursor.fetchmany(20)"
   ]
  },
  {
   "cell_type": "code",
   "execution_count": 697,
   "metadata": {},
   "outputs": [
    {
     "data": {
      "text/plain": [
       "[('Desafinado',),\n",
       " ('Garota De Ipanema',),\n",
       " ('Samba De Uma Nota Só (One Note Samba)',),\n",
       " ('Por Causa De Você',),\n",
       " ('Ligia',),\n",
       " ('Fotografia',),\n",
       " ('Dindi (Dindi)',),\n",
       " ('Se Todos Fossem Iguais A Você (Instrumental)',),\n",
       " ('Falando De Amor',),\n",
       " ('Angela',),\n",
       " ('Corcovado (Quiet Nights Of Quiet Stars)',),\n",
       " ('Outra Vez',),\n",
       " ('O Boto (Bôto)',),\n",
       " ('Canta, Canta Mais',),\n",
       " ('Quadrant',),\n",
       " (\"Snoopy's search-Red baron\",),\n",
       " ('Spanish moss-\"A sound portrait\"-Spanish moss',),\n",
       " ('Moon germs',),\n",
       " ('Stratus',),\n",
       " ('The pleasant pheasant',),\n",
       " ('Solo-Panhandler',),\n",
       " ('Do what cha wanna',),\n",
       " ('Heart of the Night',),\n",
       " ('De La Luz',),\n",
       " ('Westwood Moon',),\n",
       " ('Midnight',),\n",
       " ('Playtime',),\n",
       " ('Surrender',),\n",
       " (\"Valentino's\",),\n",
       " ('Believe',),\n",
       " ('As We Sleep',),\n",
       " ('When Evening Falls',),\n",
       " ('J Squared',),\n",
       " ('Best Thing',),\n",
       " (\"Now's The Time\",),\n",
       " ('Jeru',),\n",
       " ('Compulsion',),\n",
       " ('Tempus Fugit',),\n",
       " (\"Walkin'\",),\n",
       " (\"'Round Midnight\",),\n",
       " ('Bye Bye Blackbird',),\n",
       " ('New Rhumba',),\n",
       " ('Generique',),\n",
       " ('Summertime',),\n",
       " ('So What',),\n",
       " ('The Pan Piper',),\n",
       " ('Someday My Prince Will Come',),\n",
       " ('My Funny Valentine (Live)',),\n",
       " ('E.S.P.',),\n",
       " ('Nefertiti',),\n",
       " ('Petits Machins (Little Stuff)',),\n",
       " ('Miles Runs The Voodoo Down',),\n",
       " ('Little Church (Live)',),\n",
       " ('Black Satin',),\n",
       " ('Jean Pierre (Live)',),\n",
       " ('Time After Time',),\n",
       " ('Portia',),\n",
       " ('Jeepers Creepers',),\n",
       " ('Blue Rythm Fantasy',),\n",
       " ('Drum Boogie',),\n",
       " ('Let Me Off Uptown',),\n",
       " ('Leave Us Leap',),\n",
       " ('Opus No.1',),\n",
       " ('Boogie Blues',),\n",
       " ('How High The Moon',),\n",
       " ('Disc Jockey Jump',),\n",
       " (\"Up An' Atom\",),\n",
       " ('Bop Boogie',),\n",
       " ('Lemon Drop',),\n",
       " ('Coronation Drop',),\n",
       " ('Overtime',),\n",
       " ('Imagination',),\n",
       " (\"Don't Take Your Love From Me\",),\n",
       " ('Midget',),\n",
       " (\"I'm Coming Virginia\",),\n",
       " (\"Payin' Them Dues Blues\",),\n",
       " ('Jungle Drums',),\n",
       " ('Showcase',),\n",
       " ('Swedish Schnapps',),\n",
       " ('Roll Call',),\n",
       " ('Otay',),\n",
       " ('Groovus Interruptus',),\n",
       " ('Paris On Mine',),\n",
       " ('In Time',),\n",
       " ('Plan B',),\n",
       " ('Outbreak',),\n",
       " ('Baltimore, DC',),\n",
       " ('Talkin Loud and Saying Nothin',),\n",
       " ('Doce De Carnaval (Candy All)',),\n",
       " ('Lamento De Carnaval',),\n",
       " ('Pretinha',),\n",
       " ('Colibri',),\n",
       " ('Love Is The Colour',),\n",
       " ('Magnetic Ocean',),\n",
       " ('Deep Waters',),\n",
       " (\"L'Arc En Ciel De Miles\",),\n",
       " ('Gypsy',),\n",
       " ('Journey Into Sunlight',),\n",
       " ('Sunchild',),\n",
       " ('Millenium',),\n",
       " (\"Thinking 'Bout Tomorrow\",),\n",
       " (\"Jacob's Ladder\",),\n",
       " ('She Wears Black',),\n",
       " ('Dark Side Of The Cog',),\n",
       " ('Springsville',),\n",
       " ('The Maids Of Cadiz',),\n",
       " ('The Duke',),\n",
       " ('My Ship',),\n",
       " ('Miles Ahead',),\n",
       " ('Blues For Pablo',),\n",
       " ('New Rhumba',),\n",
       " ('The Meaning Of The Blues',),\n",
       " ('Lament',),\n",
       " (\"I Don't Wanna Be Kissed (By Anyone But You)\",),\n",
       " ('Springsville (Alternate Take)',),\n",
       " ('Blues For Pablo (Alternate Take)',),\n",
       " ('The Meaning Of The Blues/Lament (Alternate Take)',),\n",
       " (\"I Don't Wanna Be Kissed (By Anyone But You) (Alternate Take)\",),\n",
       " ('Morning Dance',),\n",
       " ('Jubilee',),\n",
       " ('Rasul',),\n",
       " ('Song For Lorraine',),\n",
       " ('Starburst',),\n",
       " ('Heliopolis',),\n",
       " (\"It Doesn't Matter\",),\n",
       " ('Little Linda',),\n",
       " ('End Of Romanticism',),\n",
       " ('Amanda',),\n",
       " ('Despertar',),\n",
       " (\"OAM's Blues\",)]"
      ]
     },
     "execution_count": 697,
     "metadata": {},
     "output_type": "execute_result"
    }
   ],
   "source": [
    "# 4) muestra todas las canciones de Jazz\n",
    "cursor.execute('SELECT Name FROM Track WHERE GenreId = (SELECT GenreId FROM Genre WHERE Name = \"Jazz\")')\n",
    "cursor.fetchall()"
   ]
  },
  {
   "cell_type": "code",
   "execution_count": 698,
   "metadata": {},
   "outputs": [
    {
     "data": {
      "text/plain": [
       "(2820, 'Occupation / Precipice', 5286953)"
      ]
     },
     "execution_count": 698,
     "metadata": {},
     "output_type": "execute_result"
    }
   ],
   "source": [
    "# 5) averigua cual es la cancion mas pesada\n",
    "cursor.execute('SELECT TrackId, Name, MAX(Milliseconds) FROM Track')\n",
    "cursor.fetchone()"
   ]
  },
  {
   "cell_type": "code",
   "execution_count": 699,
   "metadata": {},
   "outputs": [
    {
     "data": {
      "text/plain": [
       "[(14,)]"
      ]
     },
     "execution_count": 699,
     "metadata": {},
     "output_type": "execute_result"
    }
   ],
   "source": [
    "# 6) CUANTOS DISCOS TIENE Led Zeppelin ?\n",
    "cursor.execute(\"SELECT count(AlbumId) FROM (SELECT AlbumId FROM Track GROUP BY AlbumId HAVING albumId IN (SELECT AlbumId From Album WHERE ArtistId IN (SELECT ArtistId FROM Artist WHERE Name = 'Led Zeppelin')))\")\n",
    "\n",
    "cursor.fetchall()"
   ]
  },
  {
   "cell_type": "code",
   "execution_count": 700,
   "metadata": {},
   "outputs": [
    {
     "data": {
      "text/plain": [
       "(7.920000000000001,)"
      ]
     },
     "execution_count": 700,
     "metadata": {},
     "output_type": "execute_result"
    }
   ],
   "source": [
    "# 7) DE ENTRE SUS DISCOS, ¿CUANTO CUESTA EL DISCO \"House Of The Holy\"?\n",
    "cursor.execute(\"SELECT sum(UnitPrice) as precio FROM Track WHERE AlbumId = (SELECT AlbumId FROM Album WHERE Title = 'Houses Of The Holy')\")\n",
    "cursor.fetchone()"
   ]
  },
  {
   "cell_type": "markdown",
   "metadata": {},
   "source": [
    "# Actividad 5\n",
    "De la tabla 'Customer' crea una vista 'Customer_with_companies', donde estaran incluidos todos los resultdos salvo cuando Companies' sea 'NULL'. "
   ]
  },
  {
   "cell_type": "code",
   "execution_count": 701,
   "metadata": {},
   "outputs": [
    {
     "data": {
      "text/plain": [
       "<sqlite3.Cursor at 0x7fec566d0a40>"
      ]
     },
     "execution_count": 701,
     "metadata": {},
     "output_type": "execute_result"
    }
   ],
   "source": [
    "cursor.execute('CREATE TEMP VIEW Customer_with_companies AS SELECT * FROM Customer WHERE Company IS NOT NULL')\n"
   ]
  },
  {
   "cell_type": "markdown",
   "metadata": {},
   "source": [
    "A partir de la vista realiza los siguentes acciones:"
   ]
  },
  {
   "cell_type": "code",
   "execution_count": 702,
   "metadata": {},
   "outputs": [
    {
     "data": {
      "text/plain": [
       "[(19,\n",
       "  'Tim',\n",
       "  'Goyer',\n",
       "  'Apple Inc.',\n",
       "  '1 Infinite Loop',\n",
       "  'Cupertino',\n",
       "  'CA',\n",
       "  'USA',\n",
       "  '95014',\n",
       "  '+1 (408) 996-1010',\n",
       "  '+1 (408) 996-1011',\n",
       "  'tgoyer@apple.com',\n",
       "  3),\n",
       " (11,\n",
       "  'Alexandre',\n",
       "  'Rocha',\n",
       "  'Banco do Brasil S.A.',\n",
       "  'Av. Paulista, 2022',\n",
       "  'São Paulo',\n",
       "  'SP',\n",
       "  'Brazil',\n",
       "  '01310-200',\n",
       "  '+55 (11) 3055-3278',\n",
       "  '+55 (11) 3055-8131',\n",
       "  'alero@uol.com.br',\n",
       "  5),\n",
       " (1,\n",
       "  'Luís',\n",
       "  'Gonçalves',\n",
       "  'Embraer - Empresa Brasileira de Aeronáutica S.A.',\n",
       "  'Av. Brigadeiro Faria Lima, 2170',\n",
       "  'São José dos Campos',\n",
       "  'SP',\n",
       "  'Brazil',\n",
       "  '12227-000',\n",
       "  '+55 (12) 3923-5555',\n",
       "  '+55 (12) 3923-5566',\n",
       "  'luisg@embraer.com.br',\n",
       "  3),\n",
       " (16,\n",
       "  'Frank',\n",
       "  'Harris',\n",
       "  'Google Inc.',\n",
       "  '1600 Amphitheatre Parkway',\n",
       "  'Mountain View',\n",
       "  'CA',\n",
       "  'USA',\n",
       "  '94043-1351',\n",
       "  '+1 (650) 253-0000',\n",
       "  '+1 (650) 253-0000',\n",
       "  'fharris@google.com',\n",
       "  4),\n",
       " (5,\n",
       "  'František',\n",
       "  'Wichterlová',\n",
       "  'JetBrains s.r.o.',\n",
       "  'Klanova 9/506',\n",
       "  'Prague',\n",
       "  None,\n",
       "  'Czech Republic',\n",
       "  '14700',\n",
       "  '+420 2 4172 5555',\n",
       "  '+420 2 4172 5555',\n",
       "  'frantisekw@jetbrains.com',\n",
       "  4),\n",
       " (17,\n",
       "  'Jack',\n",
       "  'Smith',\n",
       "  'Microsoft Corporation',\n",
       "  '1 Microsoft Way',\n",
       "  'Redmond',\n",
       "  'WA',\n",
       "  'USA',\n",
       "  '98052-8300',\n",
       "  '+1 (425) 882-8080',\n",
       "  '+1 (425) 882-8081',\n",
       "  'jacksmith@microsoft.com',\n",
       "  5),\n",
       " (12,\n",
       "  'Roberto',\n",
       "  'Almeida',\n",
       "  'Riotur',\n",
       "  'Praça Pio X, 119',\n",
       "  'Rio de Janeiro',\n",
       "  'RJ',\n",
       "  'Brazil',\n",
       "  '20040-020',\n",
       "  '+55 (21) 2271-7000',\n",
       "  '+55 (21) 2271-7070',\n",
       "  'roberto.almeida@riotur.gov.br',\n",
       "  3),\n",
       " (15,\n",
       "  'Jennifer',\n",
       "  'Peterson',\n",
       "  'Rogers Canada',\n",
       "  '700 W Pender Street',\n",
       "  'Vancouver',\n",
       "  'BC',\n",
       "  'Canada',\n",
       "  'V6C 1G8',\n",
       "  '+1 (604) 688-2255',\n",
       "  '+1 (604) 688-8756',\n",
       "  'jenniferp@rogers.ca',\n",
       "  3),\n",
       " (14,\n",
       "  'Mark',\n",
       "  'Philips',\n",
       "  'Telus',\n",
       "  '8210 111 ST NW',\n",
       "  'Edmonton',\n",
       "  'AB',\n",
       "  'Canada',\n",
       "  'T6G 2C7',\n",
       "  '+1 (780) 434-4554',\n",
       "  '+1 (780) 434-5565',\n",
       "  'mphilips12@shaw.ca',\n",
       "  5),\n",
       " (10,\n",
       "  'Eduardo',\n",
       "  'Martins',\n",
       "  'Woodstock Discos',\n",
       "  'Rua Dr. Falcão Filho, 155',\n",
       "  'São Paulo',\n",
       "  'SP',\n",
       "  'Brazil',\n",
       "  '01007-010',\n",
       "  '+55 (11) 3033-5446',\n",
       "  '+55 (11) 3033-4564',\n",
       "  'eduardo@woodstock.com.br',\n",
       "  4)]"
      ]
     },
     "execution_count": 702,
     "metadata": {},
     "output_type": "execute_result"
    }
   ],
   "source": [
    "# 1) Ordena los resultados por orden alfabetico de 'Company'\n",
    "cursor.execute(\"SELECT * FROM Customer_with_companies ORDER BY Company ASC\")\n",
    "cursor.fetchall()"
   ]
  },
  {
   "cell_type": "code",
   "execution_count": 703,
   "metadata": {},
   "outputs": [],
   "source": [
    "# 2) Muestra que compania son de 'Brasil'\n",
    "cursor.execute(\"SELECT * FROM Customer_with_companies WHERE Country LIKE '%Bra%il%' COLLATE NOCASE\")\n",
    "res = cursor.fetchall()\n"
   ]
  },
  {
   "cell_type": "markdown",
   "metadata": {},
   "source": [
    "# Actividad 6 (Dame la factura)\n",
    "\n",
    "De la tabla *Track* consigue la siguente informacion"
   ]
  },
  {
   "cell_type": "code",
   "execution_count": 704,
   "metadata": {},
   "outputs": [
    {
     "data": {
      "text/plain": [
       "[('É Uma Partida De Futebol', 1071)]"
      ]
     },
     "execution_count": 704,
     "metadata": {},
     "output_type": "execute_result"
    }
   ],
   "source": [
    "# 1) Cual es el titulo de la cancion que menos pesa(Bytes) ?\n",
    "cursor.execute('SELECT Name, Milliseconds FROM Track WHERE Milliseconds = (SELECT MIN(Milliseconds) FROM Track)')\n",
    "cursor.fetchall()"
   ]
  },
  {
   "cell_type": "code",
   "execution_count": 705,
   "metadata": {},
   "outputs": [
    {
     "data": {
      "text/plain": [
       "[('Occupation / Precipice', 5286953)]"
      ]
     },
     "execution_count": 705,
     "metadata": {},
     "output_type": "execute_result"
    }
   ],
   "source": [
    "# 2) Cual es el titulo de cancion que mas dura (Miliseconds).\n",
    "cursor.execute('SELECT Name, Milliseconds FROM Track WHERE Milliseconds = (SELECT MAX(Milliseconds) FROM Track)')\n",
    "cursor.fetchall()"
   ]
  },
  {
   "cell_type": "code",
   "execution_count": 706,
   "metadata": {},
   "outputs": [
    {
     "data": {
      "text/plain": [
       "(213,)"
      ]
     },
     "execution_count": 706,
     "metadata": {},
     "output_type": "execute_result"
    }
   ],
   "source": [
    "# 3) Cuantas canciones cuesta 1$ o mas.\n",
    "cursor.execute('SELECT count(UnitPrice) FROM Track WHERE UnitPrice >= 1')\n",
    "cursor.fetchone()"
   ]
  },
  {
   "cell_type": "code",
   "execution_count": 707,
   "metadata": {},
   "outputs": [
    {
     "data": {
      "text/plain": [
       "[(45,)]"
      ]
     },
     "execution_count": 707,
     "metadata": {},
     "output_type": "execute_result"
    }
   ],
   "source": [
    "# 4) Cuantas canciones hay de Queen.\n",
    "cursor.execute(\"SELECT count(name) FROM Track WHERE AlbumId IN (SELECT AlbumId FROM Album WHERE ArtistId = (SELECT ArtistId FROM Artist WHERE Name = 'QUEEN' COLLATE NOCASE))\")\n",
    "cursor.fetchall()"
   ]
  },
  {
   "cell_type": "code",
   "execution_count": 708,
   "metadata": {},
   "outputs": [
    {
     "data": {
      "text/plain": [
       "(393599.2121039109,)"
      ]
     },
     "execution_count": 708,
     "metadata": {},
     "output_type": "execute_result"
    }
   ],
   "source": [
    "# 5) Cual es la media de duracion entre todas las canciones.\n",
    "cursor.execute('SELECT AVG(Milliseconds) FROM Track')\n",
    "cursor.fetchone()"
   ]
  },
  {
   "cell_type": "code",
   "execution_count": 709,
   "metadata": {},
   "outputs": [
    {
     "data": {
      "text/plain": [
       "[(262385.05925925926,)]"
      ]
     },
     "execution_count": 709,
     "metadata": {},
     "output_type": "execute_result"
    }
   ],
   "source": [
    "# 6) Cual es la media de duracion entre todas las canciones de U2.\n",
    "cursor.execute(\"SELECT AVG(Milliseconds) FROM Track WHERE AlbumId IN (SELECT AlbumId FROM Album WHERE ArtistId = (SELECT ArtistId FROM Artist WHERE Name = 'U2' COLLATE NOCASE))\")\n",
    "cursor.fetchall()"
   ]
  },
  {
   "cell_type": "code",
   "execution_count": 710,
   "metadata": {},
   "outputs": [
    {
     "data": {
      "text/plain": [
       "(36,)"
      ]
     },
     "execution_count": 710,
     "metadata": {},
     "output_type": "execute_result"
    }
   ],
   "source": [
    "# 7) Cuantas canciones esta Bill Berry como 'Composer'(Compositor).\n",
    "cursor.execute('SELECT count(Name) FROM Track WHERE Composer LIKE \"%Bill Berry%\"')\n",
    "cursor.fetchone()"
   ]
  },
  {
   "cell_type": "code",
   "execution_count": 711,
   "metadata": {},
   "outputs": [],
   "source": [
    "# 8) Un Mb son: Bite/1024/1024. Muestra todos los 'Tracks' calculando y renombrando la columna 'Bytes' en 'Mb'."
   ]
  },
  {
   "cell_type": "markdown",
   "metadata": {},
   "source": [
    "# Actividad 7 (Buscando facturas)\n",
    "\n",
    "De la tabla *Invoice* consigue la siguente informacion:"
   ]
  },
  {
   "cell_type": "code",
   "execution_count": 866,
   "metadata": {},
   "outputs": [
    {
     "name": "stdout",
     "output_type": "stream",
     "text": [
      " InvoiceId FirstName     LastName BillingCountry\n",
      "         1    Leonie       Köhler        Germany\n",
      "         2     Bjørn       Hansen         Norway\n",
      "         3      Daan      Peeters        Belgium\n",
      "         4      Mark      Philips         Canada\n",
      "         5      John       Gordon            USA\n",
      "         6      Fynn   Zimmermann        Germany\n",
      "         7    Niklas     Schröder        Germany\n",
      "         8 Dominique     Lefebvre         France\n",
      "         9     Wyatt       Girard         France\n",
      "        10      Hugh     O'Reilly        Ireland\n",
      "        11      Emma        Jones United Kingdom\n",
      "        12    Leonie       Köhler        Germany\n",
      "        13     Frank       Harris            USA\n",
      "        14      Jack        Smith            USA\n",
      "        15       Tim        Goyer            USA\n",
      "        16     Kathy        Chase            USA\n",
      "        17    Victor      Stevens            USA\n",
      "        18    Martha         Silk         Canada\n",
      "        19 Dominique     Lefebvre         France\n",
      "        20     Steve       Murray United Kingdom\n",
      "        21      Mark       Taylor      Australia\n",
      "        22      Luis        Rojas          Chile\n",
      "        23      Puja   Srivastava          India\n",
      "        24     Bjørn       Hansen         Norway\n",
      "        25   Eduardo      Martins         Brazil\n",
      "        26       Tim        Goyer            USA\n",
      "        27     Ellie     Sullivan         Canada\n",
      "        28      João    Fernandes       Portugal\n",
      "        29    Hannah    Schneider        Germany\n",
      "        30    Niklas     Schröder        Germany\n",
      "        31     Wyatt       Girard         France\n",
      "        32  Johannes Van der Berg    Netherlands\n",
      "        33      Luis        Rojas          Chile\n",
      "        34   Roberto      Almeida         Brazil\n",
      "        35  Fernanda        Ramos         Brazil\n",
      "        36  Jennifer     Peterson         Canada\n",
      "        37      Jack        Smith            USA\n",
      "        38     Kathy        Chase            USA\n",
      "        39   Patrick         Gray            USA\n",
      "        40    Hannah    Schneider        Germany\n",
      "        41   Enrique        Muñoz          Spain\n",
      "        42    Joakim    Johansson         Sweden\n",
      "        43      Phil       Hughes United Kingdom\n",
      "        44      Mark       Taylor      Australia\n",
      "        45      Puja   Srivastava          India\n",
      "        46    Helena         Holý Czech Republic\n",
      "        47  Jennifer     Peterson         Canada\n",
      "        48    Robert        Brown         Canada\n",
      "        49    Edward      Francis         Canada\n",
      "        50     Aaron     Mitchell         Canada\n",
      "        51      João    Fernandes       Portugal\n",
      "        52    Niklas     Schröder        Germany\n",
      "        53     Terhi   Hämäläinen        Finland\n",
      "        54      Phil       Hughes United Kingdom\n",
      "        55      Daan      Peeters        Belgium\n",
      "        56      Kara      Nielsen        Denmark\n",
      "        57 Alexandre        Rocha         Brazil\n",
      "        58  Fernanda        Ramos         Brazil\n",
      "        59      Jack        Smith            USA\n",
      "        60      John       Gordon            USA\n",
      "        61     Aaron     Mitchell         Canada\n",
      "        62      Hugh     O'Reilly        Ireland\n",
      "        63     Lucas      Mancini          Italy\n",
      "        64 Stanisław       Wójcik         Poland\n",
      "        65    Joakim    Johansson         Sweden\n",
      "        66      Mark       Taylor      Australia\n",
      "        67    Leonie       Köhler        Germany\n",
      "        68 Alexandre        Rocha         Brazil\n",
      "        69    Victor      Stevens            USA\n",
      "        70   Richard   Cunningham            USA\n",
      "        71     Julia      Barnett            USA\n",
      "        72    Edward      Francis         Canada\n",
      "        73      João    Fernandes       Portugal\n",
      "        74 Dominique     Lefebvre         France\n",
      "        75 Stanisław       Wójcik         Poland\n",
      "        76     Bjørn       Hansen         Norway\n",
      "        77 František  Wichterlová Czech Republic\n",
      "        78    Astrid       Gruber        Austria\n",
      "        79      Kara      Nielsen        Denmark\n",
      "        80  Fernanda        Ramos         Brazil\n",
      "        81       Tim        Goyer            USA\n",
      "        82     Julia      Barnett            USA\n",
      "        83     Wyatt       Girard         France\n",
      "        84  Isabelle      Mercier         France\n",
      "        85  Ladislav       Kovács        Hungary\n",
      "        86     Lucas      Mancini          Italy\n",
      "        87    Joakim    Johansson         Sweden\n",
      "        88      Luis        Rojas          Chile\n",
      "        89    Astrid       Gruber        Austria\n",
      "        90     Kathy        Chase            USA\n",
      "        91   Heather      Leacock            USA\n",
      "        92     Frank      Ralston            USA\n",
      "        93   Richard   Cunningham            USA\n",
      "        94    Edward      Francis         Canada\n",
      "        95    Hannah    Schneider        Germany\n",
      "        96  Ladislav       Kovács        Hungary\n",
      "        97      Puja   Srivastava          India\n",
      "        98      Luís    Gonçalves         Brazil\n",
      "        99  François     Tremblay         Canada\n",
      "       100 František  Wichterlová Czech Republic\n",
      "       101      Kara      Nielsen        Denmark\n",
      "       102  Jennifer     Peterson         Canada\n",
      "       103     Frank      Ralston            USA\n",
      "       104    Niklas     Schröder        Germany\n",
      "       105   Camille      Bernard         France\n",
      "       106      Marc       Dubois         France\n",
      "       107  Isabelle      Mercier         France\n",
      "       108     Lucas      Mancini          Italy\n",
      "       109      Phil       Hughes United Kingdom\n",
      "       110  François     Tremblay         Canada\n",
      "       111      Jack        Smith            USA\n",
      "       112  Michelle       Brooks            USA\n",
      "       113       Dan       Miller            USA\n",
      "       114   Heather      Leacock            USA\n",
      "       115   Richard   Cunningham            USA\n",
      "       116     Aaron     Mitchell         Canada\n",
      "       117      Marc       Dubois         France\n",
      "       118      Mark       Taylor      Australia\n",
      "       119     Diego    Gutiérrez      Argentina\n",
      "       120     Manoj       Pareek          India\n",
      "       121      Luís    Gonçalves         Brazil\n",
      "       122 František  Wichterlová Czech Republic\n",
      "       123 Alexandre        Rocha         Brazil\n",
      "       124       Dan       Miller            USA\n",
      "       125      João    Fernandes       Portugal\n",
      "       126  Madalena      Sampaio       Portugal\n",
      "       127      Fynn   Zimmermann        Germany\n",
      "       128   Camille      Bernard         France\n",
      "       129  Isabelle      Mercier         France\n",
      "       130 Stanisław       Wójcik         Poland\n",
      "       131     Manoj       Pareek          India\n",
      "       132  Fernanda        Ramos         Brazil\n",
      "       133      Mark      Philips         Canada\n",
      "       134     Frank       Harris            USA\n",
      "       135  Michelle       Brooks            USA\n",
      "       136   Heather      Leacock            USA\n",
      "       137     Julia      Barnett            USA\n",
      "       138      Fynn   Zimmermann        Germany\n",
      "       139    Joakim    Johansson         Sweden\n",
      "       140      Emma        Jones United Kingdom\n",
      "       141     Steve       Murray United Kingdom\n",
      "       142     Diego    Gutiérrez      Argentina\n",
      "       143      Luís    Gonçalves         Brazil\n",
      "       144    Astrid       Gruber        Austria\n",
      "       145     Frank       Harris            USA\n",
      "       146    Edward      Francis         Canada\n",
      "       147    Martha         Silk         Canada\n",
      "       148     Ellie     Sullivan         Canada\n",
      "       149  Madalena      Sampaio       Portugal\n",
      "       150   Camille      Bernard         France\n",
      "       151  Ladislav       Kovács        Hungary\n",
      "       152     Steve       Murray United Kingdom\n",
      "       153      Kara      Nielsen        Denmark\n",
      "       154   Eduardo      Martins         Brazil\n",
      "       155   Roberto      Almeida         Brazil\n",
      "       156      Mark      Philips         Canada\n",
      "       157  Michelle       Brooks            USA\n",
      "       158     Frank      Ralston            USA\n",
      "       159     Ellie     Sullivan         Canada\n",
      "       160     Lucas      Mancini          Italy\n",
      "       161  Johannes Van der Berg    Netherlands\n",
      "       162   Enrique        Muñoz          Spain\n",
      "       163      Emma        Jones United Kingdom\n",
      "       164     Diego    Gutiérrez      Argentina\n",
      "       165  François     Tremblay         Canada\n",
      "       166   Roberto      Almeida         Brazil\n",
      "       167   Richard   Cunningham            USA\n",
      "       168   Patrick         Gray            USA\n",
      "       169    Robert        Brown         Canada\n",
      "       170    Martha         Silk         Canada\n",
      "       171  Madalena      Sampaio       Portugal\n",
      "       172      Marc       Dubois         France\n",
      "       173   Enrique        Muñoz          Spain\n",
      "       174 František  Wichterlová Czech Republic\n",
      "       175    Helena         Holý Czech Republic\n",
      "       176      Daan      Peeters        Belgium\n",
      "       177   Eduardo      Martins         Brazil\n",
      "       178      Mark      Philips         Canada\n",
      "       179       Dan       Miller            USA\n",
      "       180    Robert        Brown         Canada\n",
      "       181  Isabelle      Mercier         France\n",
      "       182     Terhi   Hämäläinen        Finland\n",
      "       183      Hugh     O'Reilly        Ireland\n",
      "       184  Johannes Van der Berg    Netherlands\n",
      "       185      Emma        Jones United Kingdom\n",
      "       186     Manoj       Pareek          India\n",
      "       187      Daan      Peeters        Belgium\n",
      "       188   Heather      Leacock            USA\n",
      "       189      John       Gordon            USA\n",
      "       190    Victor      Stevens            USA\n",
      "       191   Patrick         Gray            USA\n",
      "       192    Martha         Silk         Canada\n",
      "       193      Fynn   Zimmermann        Germany\n",
      "       194      Hugh     O'Reilly        Ireland\n",
      "       195      Luís    Gonçalves         Brazil\n",
      "       196    Leonie       Köhler        Germany\n",
      "       197     Bjørn       Hansen         Norway\n",
      "       198    Helena         Holý Czech Republic\n",
      "       199   Eduardo      Martins         Brazil\n",
      "       200     Frank       Harris            USA\n",
      "       201    Victor      Stevens            USA\n",
      "       202   Camille      Bernard         France\n",
      "       203 Dominique     Lefebvre         France\n",
      "       204     Wyatt       Girard         France\n",
      "       205     Terhi   Hämäläinen        Finland\n",
      "       206  Johannes Van der Berg    Netherlands\n",
      "       207     Steve       Murray United Kingdom\n",
      "       208     Bjørn       Hansen         Norway\n",
      "       209  Michelle       Brooks            USA\n",
      "       210       Tim        Goyer            USA\n",
      "       211     Kathy        Chase            USA\n",
      "       212      John       Gordon            USA\n",
      "       213   Patrick         Gray            USA\n",
      "       214     Ellie     Sullivan         Canada\n",
      "       215     Wyatt       Girard         France\n",
      "       216     Diego    Gutiérrez      Argentina\n",
      "       217      Luis        Rojas          Chile\n",
      "       218      Puja   Srivastava          India\n",
      "       219    Leonie       Köhler        Germany\n",
      "       220    Helena         Holý Czech Republic\n",
      "       221   Roberto      Almeida         Brazil\n",
      "       222     Kathy        Chase            USA\n",
      "       223  Madalena      Sampaio       Portugal\n",
      "       224    Hannah    Schneider        Germany\n",
      "       225    Niklas     Schröder        Germany\n",
      "       226 Dominique     Lefebvre         France\n",
      "       227     Terhi   Hämäläinen        Finland\n",
      "       228   Enrique        Muñoz          Spain\n",
      "       229      Puja   Srivastava          India\n",
      "       230      Mark      Philips         Canada\n",
      "       231  Jennifer     Peterson         Canada\n",
      "       232      Jack        Smith            USA\n",
      "       233       Tim        Goyer            USA\n",
      "       234      John       Gordon            USA\n",
      "       235    Robert        Brown         Canada\n",
      "       236    Niklas     Schröder        Germany\n",
      "       237      Emma        Jones United Kingdom\n",
      "       238      Phil       Hughes United Kingdom\n",
      "       239      Mark       Taylor      Australia\n",
      "       240      Luis        Rojas          Chile\n",
      "       241    Leonie       Köhler        Germany\n",
      "       242      Daan      Peeters        Belgium\n",
      "       243      Jack        Smith            USA\n",
      "       244    Martha         Silk         Canada\n",
      "       245     Aaron     Mitchell         Canada\n",
      "       246      João    Fernandes       Portugal\n",
      "       247    Hannah    Schneider        Germany\n",
      "       248 Dominique     Lefebvre         France\n",
      "       249      Hugh     O'Reilly        Ireland\n",
      "       250      Mark       Taylor      Australia\n",
      "       251   Eduardo      Martins         Brazil\n",
      "       252 Alexandre        Rocha         Brazil\n",
      "       253  Fernanda        Ramos         Brazil\n",
      "       254  Jennifer     Peterson         Canada\n",
      "       255       Tim        Goyer            USA\n",
      "       256    Victor      Stevens            USA\n",
      "       257      João    Fernandes       Portugal\n",
      "       258  Johannes Van der Berg    Netherlands\n",
      "       259 Stanisław       Wójcik         Poland\n",
      "       260    Joakim    Johansson         Sweden\n",
      "       261      Phil       Hughes United Kingdom\n",
      "       262      Luis        Rojas          Chile\n",
      "       263     Bjørn       Hansen         Norway\n",
      "       264  Fernanda        Ramos         Brazil\n",
      "       265   Patrick         Gray            USA\n",
      "       266     Julia      Barnett            USA\n",
      "       267    Edward      Francis         Canada\n",
      "       268     Aaron     Mitchell         Canada\n",
      "       269    Hannah    Schneider        Germany\n",
      "       270     Wyatt       Girard         France\n",
      "       271    Joakim    Johansson         Sweden\n",
      "       272    Helena         Holý Czech Republic\n",
      "       273    Astrid       Gruber        Austria\n",
      "       274      Kara      Nielsen        Denmark\n",
      "       275 Alexandre        Rocha         Brazil\n",
      "       276  Jennifer     Peterson         Canada\n",
      "       277     Kathy        Chase            USA\n",
      "       278    Edward      Francis         Canada\n",
      "       279     Terhi   Hämäläinen        Finland\n",
      "       280  Ladislav       Kovács        Hungary\n",
      "       281     Lucas      Mancini          Italy\n",
      "       282 Stanisław       Wójcik         Poland\n",
      "       283      Phil       Hughes United Kingdom\n",
      "       284      Puja   Srivastava          India\n",
      "       285      Kara      Nielsen        Denmark\n",
      "       286      John       Gordon            USA\n",
      "       287     Frank      Ralston            USA\n",
      "       288   Richard   Cunningham            USA\n",
      "       289     Julia      Barnett            USA\n",
      "       290     Aaron     Mitchell         Canada\n",
      "       291    Niklas     Schröder        Germany\n",
      "       292     Lucas      Mancini          Italy\n",
      "       293    Leonie       Köhler        Germany\n",
      "       294  François     Tremblay         Canada\n",
      "       295 František  Wichterlová Czech Republic\n",
      "       296    Astrid       Gruber        Austria\n",
      "       297 Alexandre        Rocha         Brazil\n",
      "       298      Jack        Smith            USA\n",
      "       299   Richard   Cunningham            USA\n",
      "       300 Dominique     Lefebvre         France\n",
      "       301      Marc       Dubois         France\n",
      "       302  Isabelle      Mercier         France\n",
      "       303  Ladislav       Kovács        Hungary\n",
      "       304 Stanisław       Wójcik         Poland\n",
      "       305      Mark       Taylor      Australia\n",
      "       306 František  Wichterlová Czech Republic\n",
      "       307       Tim        Goyer            USA\n",
      "       308       Dan       Miller            USA\n",
      "       309   Heather      Leacock            USA\n",
      "       310     Frank      Ralston            USA\n",
      "       311     Julia      Barnett            USA\n",
      "       312      João    Fernandes       Portugal\n",
      "       313  Isabelle      Mercier         France\n",
      "       314      Luis        Rojas          Chile\n",
      "       315     Manoj       Pareek          India\n",
      "       316      Luís    Gonçalves         Brazil\n",
      "       317  François     Tremblay         Canada\n",
      "       318    Astrid       Gruber        Austria\n",
      "       319  Fernanda        Ramos         Brazil\n",
      "       320   Heather      Leacock            USA\n",
      "       321    Hannah    Schneider        Germany\n",
      "       322      Fynn   Zimmermann        Germany\n",
      "       323   Camille      Bernard         France\n",
      "       324      Marc       Dubois         France\n",
      "       325  Ladislav       Kovács        Hungary\n",
      "       326    Joakim    Johansson         Sweden\n",
      "       327      Luís    Gonçalves         Brazil\n",
      "       328  Jennifer     Peterson         Canada\n",
      "       329     Frank       Harris            USA\n",
      "       330  Michelle       Brooks            USA\n",
      "       331       Dan       Miller            USA\n",
      "       332     Frank      Ralston            USA\n",
      "       333    Edward      Francis         Canada\n",
      "       334   Camille      Bernard         France\n",
      "       335      Phil       Hughes United Kingdom\n",
      "       336     Steve       Murray United Kingdom\n",
      "       337     Diego    Gutiérrez      Argentina\n",
      "       338     Manoj       Pareek          India\n",
      "       339  François     Tremblay         Canada\n",
      "       340      Kara      Nielsen        Denmark\n",
      "       341  Michelle       Brooks            USA\n",
      "       342     Aaron     Mitchell         Canada\n",
      "       343     Ellie     Sullivan         Canada\n",
      "       344  Madalena      Sampaio       Portugal\n",
      "       345      Fynn   Zimmermann        Germany\n",
      "       346      Marc       Dubois         France\n",
      "       347     Lucas      Mancini          Italy\n",
      "       348     Diego    Gutiérrez      Argentina\n",
      "       349 Alexandre        Rocha         Brazil\n",
      "       350   Roberto      Almeida         Brazil\n",
      "       351      Mark      Philips         Canada\n",
      "       352     Frank       Harris            USA\n",
      "       353       Dan       Miller            USA\n",
      "       354   Richard   Cunningham            USA\n",
      "       355  Madalena      Sampaio       Portugal\n",
      "       356 Stanisław       Wójcik         Poland\n",
      "       357   Enrique        Muñoz          Spain\n",
      "       358      Emma        Jones United Kingdom\n",
      "       359     Steve       Murray United Kingdom\n",
      "       360     Manoj       Pareek          India\n",
      "       361 František  Wichterlová Czech Republic\n",
      "       362      Mark      Philips         Canada\n",
      "       363     Julia      Barnett            USA\n",
      "       364    Robert        Brown         Canada\n",
      "       365    Martha         Silk         Canada\n",
      "       366     Ellie     Sullivan         Canada\n",
      "       367      Fynn   Zimmermann        Germany\n",
      "       368  Isabelle      Mercier         France\n",
      "       369      Emma        Jones United Kingdom\n",
      "       370    Astrid       Gruber        Austria\n",
      "       371      Daan      Peeters        Belgium\n",
      "       372   Eduardo      Martins         Brazil\n",
      "       373   Roberto      Almeida         Brazil\n",
      "       374     Frank       Harris            USA\n",
      "       375   Heather      Leacock            USA\n",
      "       376    Martha         Silk         Canada\n",
      "       377  Ladislav       Kovács        Hungary\n",
      "       378      Hugh     O'Reilly        Ireland\n",
      "       379  Johannes Van der Berg    Netherlands\n",
      "       380   Enrique        Muñoz          Spain\n",
      "       381     Steve       Murray United Kingdom\n",
      "       382      Luís    Gonçalves         Brazil\n",
      "       383   Eduardo      Martins         Brazil\n",
      "       384     Frank      Ralston            USA\n",
      "       385    Victor      Stevens            USA\n",
      "       386   Patrick         Gray            USA\n",
      "       387    Robert        Brown         Canada\n",
      "       388     Ellie     Sullivan         Canada\n",
      "       389   Camille      Bernard         France\n",
      "       390  Johannes Van der Berg    Netherlands\n",
      "       391  François     Tremblay         Canada\n",
      "       392     Bjørn       Hansen         Norway\n",
      "       393    Helena         Holý Czech Republic\n",
      "       394      Daan      Peeters        Belgium\n",
      "       395   Roberto      Almeida         Brazil\n",
      "       396  Michelle       Brooks            USA\n",
      "       397   Patrick         Gray            USA\n",
      "       398      Marc       Dubois         France\n",
      "       399     Wyatt       Girard         France\n",
      "       400     Terhi   Hämäläinen        Finland\n",
      "       401      Hugh     O'Reilly        Ireland\n",
      "       402   Enrique        Muñoz          Spain\n",
      "       403     Diego    Gutiérrez      Argentina\n",
      "       404    Helena         Holý Czech Republic\n",
      "       405       Dan       Miller            USA\n",
      "       406     Kathy        Chase            USA\n",
      "       407      John       Gordon            USA\n",
      "       408    Victor      Stevens            USA\n",
      "       409    Robert        Brown         Canada\n",
      "       410  Madalena      Sampaio       Portugal\n",
      "       411     Terhi   Hämäläinen        Finland\n",
      "       412     Manoj       Pareek          India\n"
     ]
    }
   ],
   "source": [
    "# 1) Muestra: 'InvoiceId', nombre del cliente, 'BillingCountry'.\n",
    "cursor.execute(\"SELECT InvoiceId, FirstName, LastName, BillingCountry FROM Customer JOIN Invoice ON Customer.CustomerId = Invoice.CustomerId\")\n",
    "registros = cursor.fetchall()\n",
    "registros\n",
    "import pandas as pd\n",
    "df = pd.DataFrame(registros, columns = ['InvoiceId', 'FirstName', 'LastName', 'BillingCountry'])\n",
    "#blankIndex = ['']*len(df)\n",
    "#df.index = blankIndex\n",
    "#df\n",
    "print(df.to_string(index=False))"
   ]
  },
  {
   "cell_type": "code",
   "execution_count": 867,
   "metadata": {},
   "outputs": [],
   "source": [
    "# 2) Ordena de mayor a menor por 'Total'"
   ]
  },
  {
   "cell_type": "code",
   "execution_count": 868,
   "metadata": {},
   "outputs": [],
   "source": [
    "# 3) Cual es el pais que mas a facturado."
   ]
  },
  {
   "cell_type": "markdown",
   "metadata": {},
   "source": [
    "# Actividad 8 (Alimentando la productora)"
   ]
  },
  {
   "cell_type": "code",
   "execution_count": 869,
   "metadata": {},
   "outputs": [],
   "source": [
    "# 1) Añade 5 artistas que te gusten en la tabla 'Artist'."
   ]
  },
  {
   "cell_type": "code",
   "execution_count": 870,
   "metadata": {},
   "outputs": [],
   "source": [
    "# 2) Introduce el MediaType Wav"
   ]
  },
  {
   "cell_type": "code",
   "execution_count": 871,
   "metadata": {},
   "outputs": [],
   "source": [
    "# 3) Crea 2 discos que esten relacionados con los artistas que has creado.º"
   ]
  },
  {
   "cell_type": "markdown",
   "metadata": {},
   "source": [
    "# Actividad 9 (Artistas desaparecidos)\n",
    "\n",
    "Volver a usar la tabla *Artist* (cantante). (usa *PRAGMA foreign key = OFF* para desactivar la comprobacion)"
   ]
  },
  {
   "cell_type": "code",
   "execution_count": 872,
   "metadata": {},
   "outputs": [],
   "source": [
    "# 1) Borra a U2"
   ]
  },
  {
   "cell_type": "code",
   "execution_count": 873,
   "metadata": {},
   "outputs": [],
   "source": [
    "# 2) Borra los artistas que tengan en su nombre el simbolo *&*."
   ]
  },
  {
   "cell_type": "code",
   "execution_count": 874,
   "metadata": {},
   "outputs": [],
   "source": [
    "# 3) Borra los artistas con una ID entre 201 y 230."
   ]
  },
  {
   "cell_type": "code",
   "execution_count": 875,
   "metadata": {},
   "outputs": [],
   "source": [
    "# 4) Borra toda la tabla de *Track*."
   ]
  },
  {
   "cell_type": "markdown",
   "metadata": {},
   "source": [
    "# Actividad 10 (Se acabaron las rebajas)\n",
    "\n",
    "Volvemos a usar la tabla *Track* (cancion)."
   ]
  },
  {
   "cell_type": "code",
   "execution_count": 876,
   "metadata": {},
   "outputs": [],
   "source": [
    "# 1) Sube el precio de todas las canciones de 0.99 a 2.99"
   ]
  },
  {
   "cell_type": "code",
   "execution_count": 877,
   "metadata": {},
   "outputs": [],
   "source": [
    "# 2) sube el precio de todas las canciones de 1.99 a 4.99."
   ]
  },
  {
   "cell_type": "code",
   "execution_count": 878,
   "metadata": {},
   "outputs": [],
   "source": [
    "# 3) cambia el compositor (Composer) por 'Sara' del 'TrackId' numero 2000."
   ]
  },
  {
   "cell_type": "code",
   "execution_count": 879,
   "metadata": {},
   "outputs": [],
   "source": [
    "# 4) cambia el compositor(Composer) por 'clasico' de todas las canciones que empiecen con el nombre 'Concerto'."
   ]
  }
 ],
 "metadata": {
  "kernelspec": {
   "display_name": "Python 3 (ipykernel)",
   "language": "python",
   "name": "python3"
  },
  "language_info": {
   "codemirror_mode": {
    "name": "ipython",
    "version": 3
   },
   "file_extension": ".py",
   "mimetype": "text/x-python",
   "name": "python",
   "nbconvert_exporter": "python",
   "pygments_lexer": "ipython3",
   "version": "3.9.13"
  },
  "vscode": {
   "interpreter": {
    "hash": "6405a8b8ab79e80e04a863ac4b9be64f0d13f8b3341f5aa722c7842f75c21e99"
   }
  }
 },
 "nbformat": 4,
 "nbformat_minor": 4
}
