{
 "cells": [
  {
   "cell_type": "markdown",
   "metadata": {},
   "source": [
    "Crea notebook de Jupyter y con la librería de SQLite realiza las siguientes consultas a la base de datos \"Chinook_Sqlite\" (archivo proporcionado junto con los apuntes de SQL)."
   ]
  },
  {
   "cell_type": "code",
   "execution_count": 121,
   "metadata": {},
   "outputs": [],
   "source": [
    "import sqlite3\n",
    "conn = sqlite3.connect('Chinook_Sqlite.sqlite')"
   ]
  },
  {
   "cell_type": "code",
   "execution_count": 122,
   "metadata": {},
   "outputs": [],
   "source": [
    "cursor = conn.cursor()"
   ]
  },
  {
   "cell_type": "markdown",
   "metadata": {},
   "source": [
    "# Actividad 1 (Atencion al cliente)\n",
    "\n",
    "Trabaja con table Customer"
   ]
  },
  {
   "cell_type": "code",
   "execution_count": 123,
   "metadata": {},
   "outputs": [
    {
     "data": {
      "text/plain": [
       "('luisg@embraer.com.br',)"
      ]
     },
     "execution_count": 123,
     "metadata": {},
     "output_type": "execute_result"
    }
   ],
   "source": [
    "# 1)mustra la columna 'Email'\n",
    "res = cursor.execute('SELECT Email FROM Customer')\n",
    "res.fetchone()"
   ]
  },
  {
   "cell_type": "code",
   "execution_count": 124,
   "metadata": {},
   "outputs": [
    {
     "data": {
      "text/plain": [
       "('Luís',)"
      ]
     },
     "execution_count": 124,
     "metadata": {},
     "output_type": "execute_result"
    }
   ],
   "source": [
    "# 2)muestra la columna FirstName\n",
    "res = cursor.execute('SELECT FirstName FROM Customer')\n",
    "res.fetchone()"
   ]
  },
  {
   "cell_type": "code",
   "execution_count": 125,
   "metadata": {},
   "outputs": [
    {
     "data": {
      "text/plain": [
       "('Luís', 'Gonçalves')"
      ]
     },
     "execution_count": 125,
     "metadata": {},
     "output_type": "execute_result"
    }
   ],
   "source": [
    "# 3)muestra la columna FirstName y LastName\n",
    "res = cursor.execute('SELECT FirstName , LastName FROM Customer')\n",
    "res.fetchone()"
   ]
  },
  {
   "cell_type": "code",
   "execution_count": 126,
   "metadata": {},
   "outputs": [
    {
     "data": {
      "text/plain": [
       "('Luís',\n",
       " 'Av. Brigadeiro Faria Lima, 2170',\n",
       " '+55 (12) 3923-5555',\n",
       " '+55 (12) 3923-5566')"
      ]
     },
     "execution_count": 126,
     "metadata": {},
     "output_type": "execute_result"
    }
   ],
   "source": [
    "# 4) muestra la columna Address, Phone, Fax\n",
    "res = cursor.execute('SELECT FirstName, Address, Phone, Fax FROM Customer')\n",
    "res.fetchone()"
   ]
  },
  {
   "cell_type": "code",
   "execution_count": 127,
   "metadata": {},
   "outputs": [
    {
     "data": {
      "text/plain": [
       "(1,\n",
       " 'Luís',\n",
       " 'Gonçalves',\n",
       " 'Embraer - Empresa Brasileira de Aeronáutica S.A.',\n",
       " 'Av. Brigadeiro Faria Lima, 2170',\n",
       " 'São José dos Campos',\n",
       " 'SP',\n",
       " 'Brazil',\n",
       " '12227-000',\n",
       " '+55 (12) 3923-5555',\n",
       " '+55 (12) 3923-5566',\n",
       " 'luisg@embraer.com.br',\n",
       " 3)"
      ]
     },
     "execution_count": 127,
     "metadata": {},
     "output_type": "execute_result"
    }
   ],
   "source": [
    "# 5) muestra todas las columnas\n",
    "res = cursor.execute('SELECT * FROM Customer')\n",
    "res.fetchone()"
   ]
  },
  {
   "cell_type": "markdown",
   "metadata": {},
   "source": [
    "# Actividad 2(Ordenando a mi manera) "
   ]
  },
  {
   "cell_type": "code",
   "execution_count": 128,
   "metadata": {},
   "outputs": [
    {
     "name": "stdout",
     "output_type": "stream",
     "text": [
      "0 (23, 'Alternative')\n",
      "1 (4, 'Alternative & Punk')\n",
      "2 (6, 'Blues')\n",
      "3 (11, 'Bossa Nova')\n",
      "4 (24, 'Classical')\n",
      "5 (22, 'Comedy')\n",
      "6 (21, 'Drama')\n",
      "7 (12, 'Easy Listening')\n",
      "8 (15, 'Electronica/Dance')\n",
      "9 (13, 'Heavy Metal')\n",
      "10 (17, 'Hip Hop/Rap')\n",
      "11 (2, 'Jazz')\n",
      "12 (7, 'Latin')\n",
      "13 (3, 'Metal')\n",
      "14 (25, 'Opera')\n",
      "15 (9, 'Pop')\n",
      "16 (14, 'R&B/Soul')\n",
      "17 (8, 'Reggae')\n",
      "18 (1, 'Rock')\n",
      "19 (5, 'Rock And Roll')\n",
      "20 (20, 'Sci Fi & Fantasy')\n",
      "21 (18, 'Science Fiction')\n",
      "22 (10, 'Soundtrack')\n",
      "23 (19, 'TV Shows')\n",
      "24 (16, 'World')\n"
     ]
    }
   ],
   "source": [
    "# 1) ordena la tabla 'Genre' por orden alfabetico \n",
    "res1 = cursor.execute('SELECT * FROM Genre ORDER BY Name')\n",
    "for i, j in enumerate(res):\n",
    "    print(i, j)"
   ]
  },
  {
   "cell_type": "code",
   "execution_count": 129,
   "metadata": {},
   "outputs": [
    {
     "name": "stdout",
     "output_type": "stream",
     "text": [
      "0 (23, 'Alternative')\n",
      "1 (4, 'Alternative & Punk')\n",
      "2 (6, 'Blues')\n",
      "3 (11, 'Bossa Nova')\n",
      "4 (24, 'Classical')\n",
      "5 (22, 'Comedy')\n"
     ]
    }
   ],
   "source": [
    "# 2) corta los resultados para que solo se muestren los 6 primeros \n",
    "res = cursor.execute('SELECT * FROM Genre ORDER BY Name LIMIT 6')\n",
    "for i, j in enumerate(res):\n",
    "    print(i, j)"
   ]
  },
  {
   "cell_type": "code",
   "execution_count": 130,
   "metadata": {},
   "outputs": [
    {
     "name": "stdout",
     "output_type": "stream",
     "text": [
      "0 (16, 'World')\n",
      "1 (19, 'TV Shows')\n"
     ]
    }
   ],
   "source": [
    "# 3) muestra las ultimas 2 filas de la tabla\n",
    "res = cursor.execute('SELECT * FROM (SELECT * FROM Genre ORDER BY Name) ORDER BY Name DESC LIMIT 2')\n",
    "for i, j in enumerate(res):\n",
    "    print(i, j)\n"
   ]
  },
  {
   "cell_type": "code",
   "execution_count": null,
   "metadata": {},
   "outputs": [],
   "source": []
  },
  {
   "cell_type": "markdown",
   "metadata": {},
   "source": [
    "# Actividad 3 (En busca del peor cliente)\n",
    "\n",
    "Usamos la tabla Customer"
   ]
  },
  {
   "cell_type": "code",
   "execution_count": 131,
   "metadata": {},
   "outputs": [
    {
     "data": {
      "text/plain": [
       "(4, 'Bjørn', 'Hansen', 'Norway')"
      ]
     },
     "execution_count": 131,
     "metadata": {},
     "output_type": "execute_result"
    }
   ],
   "source": [
    "# 1) muestra los usuarios que han reportado mas de 3 incidencias (columna donde de cuenta es 'SupportRepid')\n",
    "\n",
    "res = cursor.execute('SELECT CustomerId, FirstName, LastName, Country FROM Customer WHERE SupportRepid > 3')\n",
    "res.fetchone()\n",
    "    "
   ]
  },
  {
   "cell_type": "code",
   "execution_count": 132,
   "metadata": {},
   "outputs": [
    {
     "data": {
      "text/plain": [
       "[(10, 'Eduardo', 'Martins', 'Brazil'),\n",
       " (13, 'Fernanda', 'Ramos', 'Brazil'),\n",
       " (11, 'Alexandre', 'Rocha', 'Brazil')]"
      ]
     },
     "execution_count": 132,
     "metadata": {},
     "output_type": "execute_result"
    }
   ],
   "source": [
    "# 2) filtra los resultados anteriores por los que viven en 'Brasil'\n",
    "res = cursor.execute('SELECT CustomerId, FirstName, LastName, Country FROM Customer WHERE (SupportRepid > 3 and Country = \"Brazil\")')\n",
    "res.fetchall()"
   ]
  },
  {
   "cell_type": "code",
   "execution_count": 133,
   "metadata": {},
   "outputs": [
    {
     "data": {
      "text/plain": [
       "[('Leonie', 'Köhler', 'Germany', '70174'),\n",
       " ('Fernanda', 'Ramos', 'Brazil', '71020-677'),\n",
       " ('Richard', 'Cunningham', 'USA', '76110'),\n",
       " ('Camille', 'Bernard', 'France', '75009'),\n",
       " ('Dominique', 'Lefebvre', 'France', '75002')]"
      ]
     },
     "execution_count": 133,
     "metadata": {},
     "output_type": "execute_result"
    }
   ],
   "source": [
    "# 3) muestra los usuarios que tengan un codico postal empezando con 7\n",
    "res = cursor.execute('SELECT FirstName, LastName, Country, PostalCode From Customer WHERE PostalCode LIKE \"7%\"')\n",
    "res.fetchall()\n"
   ]
  },
  {
   "cell_type": "code",
   "execution_count": 134,
   "metadata": {},
   "outputs": [],
   "source": [
    "# 4) muestra los usuarios que tengan un email de 'hotmail'\n",
    "cursor.execute('SELECT FirstName, LastName, Email FROM Customer WHERE Email LIKE \"%hotmail%\"')\n",
    "res = cursor.fetchall()\n"
   ]
  },
  {
   "cell_type": "code",
   "execution_count": 135,
   "metadata": {},
   "outputs": [
    {
     "data": {
      "text/plain": [
       "[('Kathy', 'Chase', 'kachase@hotmail.com'),\n",
       " ('Richard', 'Cunningham', 'ricunningham@hotmail.com'),\n",
       " ('Marc', 'Dubois', 'marc.dubois@hotmail.com'),\n",
       " ('Emma', 'Jones', 'emma_jones@hotmail.com')]"
      ]
     },
     "execution_count": 135,
     "metadata": {},
     "output_type": "execute_result"
    }
   ],
   "source": [
    "res"
   ]
  },
  {
   "cell_type": "code",
   "execution_count": 136,
   "metadata": {},
   "outputs": [
    {
     "data": {
      "text/plain": [
       "[('François', 'Tremblay', 'Canada', 'ftremblay@gmail.com'),\n",
       " ('Mark', 'Philips', 'Canada', 'mphilips12@shaw.ca'),\n",
       " ('Jennifer', 'Peterson', 'Canada', 'jenniferp@rogers.ca'),\n",
       " ('Frank', 'Harris', 'USA', 'fharris@google.com'),\n",
       " ('Jack', 'Smith', 'USA', 'jacksmith@microsoft.com'),\n",
       " ('Michelle', 'Brooks', 'USA', 'michelleb@aol.com'),\n",
       " ('Tim', 'Goyer', 'USA', 'tgoyer@apple.com'),\n",
       " ('Dan', 'Miller', 'USA', 'dmiller@comcast.com'),\n",
       " ('Kathy', 'Chase', 'USA', 'kachase@hotmail.com'),\n",
       " ('Heather', 'Leacock', 'USA', 'hleacock@gmail.com'),\n",
       " ('John', 'Gordon', 'USA', 'johngordon22@yahoo.com'),\n",
       " ('Frank', 'Ralston', 'USA', 'fralston@gmail.com'),\n",
       " ('Victor', 'Stevens', 'USA', 'vstevens@yahoo.com'),\n",
       " ('Richard', 'Cunningham', 'USA', 'ricunningham@hotmail.com'),\n",
       " ('Patrick', 'Gray', 'USA', 'patrick.gray@aol.com'),\n",
       " ('Julia', 'Barnett', 'USA', 'jubarnett@gmail.com'),\n",
       " ('Robert', 'Brown', 'Canada', 'robbrown@shaw.ca'),\n",
       " ('Edward', 'Francis', 'Canada', 'edfrancis@yachoo.ca'),\n",
       " ('Martha', 'Silk', 'Canada', 'marthasilk@gmail.com'),\n",
       " ('Aaron', 'Mitchell', 'Canada', 'aaronmitchell@yahoo.ca'),\n",
       " ('Ellie', 'Sullivan', 'Canada', 'ellie.sullivan@shaw.ca')]"
      ]
     },
     "execution_count": 136,
     "metadata": {},
     "output_type": "execute_result"
    }
   ],
   "source": [
    "# 5) muestra los usuarios nacidos en USA o Canada\n",
    "cursor.execute('SELECT FirstName, LastName, Country, Email FROM Customer WHERE Country = \"USA\" OR Country = \"Canada\"')\n",
    "res = cursor.fetchall()\n",
    "res"
   ]
  },
  {
   "cell_type": "code",
   "execution_count": 137,
   "metadata": {},
   "outputs": [
    {
     "data": {
      "text/plain": [
       "[('François', 'Tremblay', 'Canada', 'ftremblay@gmail.com'),\n",
       " ('Heather', 'Leacock', 'USA', 'hleacock@gmail.com'),\n",
       " ('Frank', 'Ralston', 'USA', 'fralston@gmail.com'),\n",
       " ('Julia', 'Barnett', 'USA', 'jubarnett@gmail.com'),\n",
       " ('Martha', 'Silk', 'Canada', 'marthasilk@gmail.com')]"
      ]
     },
     "execution_count": 137,
     "metadata": {},
     "output_type": "execute_result"
    }
   ],
   "source": [
    "# 6) de los resultados anteriores, muestra los que tengan un email de 'gmail'\n",
    "cursor.execute('SELECT FirstName, LastName, Country, Email FROM Customer WHERE Email LIKE \"%@gmail%\" AND (Country = \"USA\" OR Country = \"Canada\")')\n",
    "res = cursor.fetchall()\n",
    "res"
   ]
  },
  {
   "cell_type": "code",
   "execution_count": 138,
   "metadata": {},
   "outputs": [
    {
     "data": {
      "text/plain": [
       "[('Tim', 'Goyer', 'Apple Inc.')]"
      ]
     },
     "execution_count": 138,
     "metadata": {},
     "output_type": "execute_result"
    }
   ],
   "source": [
    "# 6) muestra los usuarios que trabaja en Apple (columna Company)\n",
    "# Aviso: np sabes el formato de la compania, podria ser: Apple SL, Company Apple, APPLE...\n",
    "cursor.execute('SELECT  FirstName, LastName, Company FROM Customer WHERE Company LIKE \"%APPLE%\"')\n",
    "res = cursor.fetchall()\n",
    "res"
   ]
  },
  {
   "cell_type": "code",
   "execution_count": 139,
   "metadata": {},
   "outputs": [
    {
     "data": {
      "text/plain": [
       "[('Luís', 'Gonçalves', 3),\n",
       " ('François', 'Tremblay', 3),\n",
       " ('Roberto', 'Almeida', 3),\n",
       " ('Jennifer', 'Peterson', 3),\n",
       " ('Michelle', 'Brooks', 3),\n",
       " ('Tim', 'Goyer', 3),\n",
       " ('Frank', 'Ralston', 3),\n",
       " ('Robert', 'Brown', 3),\n",
       " ('Edward', 'Francis', 3),\n",
       " ('Ellie', 'Sullivan', 3),\n",
       " ('Fynn', 'Zimmermann', 3),\n",
       " ('Niklas', 'Schröder', 3),\n",
       " ('Wyatt', 'Girard', 3),\n",
       " ('Isabelle', 'Mercier', 3),\n",
       " ('Terhi', 'Hämäläinen', 3),\n",
       " ('Ladislav', 'Kovács', 3),\n",
       " ('Hugh', \"O'Reilly\", 3),\n",
       " ('Emma', 'Jones', 3),\n",
       " ('Phil', 'Hughes', 3),\n",
       " ('Manoj', 'Pareek', 3),\n",
       " ('Puja', 'Srivastava', 3),\n",
       " ('Bjørn', 'Hansen', 4),\n",
       " ('František', 'Wichterlová', 4),\n",
       " ('Daan', 'Peeters', 4),\n",
       " ('Kara', 'Nielsen', 4),\n",
       " ('Eduardo', 'Martins', 4),\n",
       " ('Fernanda', 'Ramos', 4),\n",
       " ('Frank', 'Harris', 4),\n",
       " ('Dan', 'Miller', 4),\n",
       " ('Heather', 'Leacock', 4),\n",
       " ('John', 'Gordon', 4),\n",
       " ('Richard', 'Cunningham', 4),\n",
       " ('Patrick', 'Gray', 4),\n",
       " ('Aaron', 'Mitchell', 4),\n",
       " ('João', 'Fernandes', 4),\n",
       " ('Madalena', 'Sampaio', 4),\n",
       " ('Camille', 'Bernard', 4),\n",
       " ('Dominique', 'Lefebvre', 4),\n",
       " ('Stanisław', 'Wójcik', 4),\n",
       " ('Mark', 'Taylor', 4),\n",
       " ('Diego', 'Gutiérrez', 4)]"
      ]
     },
     "execution_count": 139,
     "metadata": {},
     "output_type": "execute_result"
    }
   ],
   "source": [
    "# 7) muestra los usuarios que han reportado entre 3 y 4 incidencias\n",
    "cursor.execute('SELECT FirstName, LastName, SupportRepid FROM Customer WHERE SupportRepid BETWEEN 3 AND 4')\n",
    "res = cursor.fetchall()\n",
    "res"
   ]
  },
  {
   "cell_type": "markdown",
   "metadata": {},
   "source": [
    "# Actividad 3 (Limpieza de personal)\n",
    "\n",
    "Usaremos la tabla 'Employee'"
   ]
  },
  {
   "cell_type": "code",
   "execution_count": 140,
   "metadata": {},
   "outputs": [
    {
     "data": {
      "text/plain": [
       "[('Calgary', 5), ('Edmonton', 1), ('Lethbridge', 2)]"
      ]
     },
     "execution_count": 140,
     "metadata": {},
     "output_type": "execute_result"
    }
   ],
   "source": [
    "# 1) Cuenta la cantidad de empleados que hay por ciudad\n",
    "cursor.execute('SELECT City, count(EmployeeId) FROM Employee GROUP BY City')\n",
    "cursor.fetchall()"
   ]
  },
  {
   "cell_type": "code",
   "execution_count": 141,
   "metadata": {},
   "outputs": [
    {
     "data": {
      "text/plain": [
       "[('General Manager', 1),\n",
       " ('IT Manager', 1),\n",
       " ('IT Staff', 2),\n",
       " ('Sales Manager', 1),\n",
       " ('Sales Support Agent', 3)]"
      ]
     },
     "execution_count": 141,
     "metadata": {},
     "output_type": "execute_result"
    }
   ],
   "source": [
    "# 2) cuenta la cantidad de empleados que hay por departamento\n",
    "cursor.execute('SELECT  Title, count(EmployeeId) FROM Employee GROUP BY Title')\n",
    "cursor.fetchall()"
   ]
  },
  {
   "cell_type": "code",
   "execution_count": 142,
   "metadata": {},
   "outputs": [
    {
     "data": {
      "text/plain": [
       "[('Andrew', 'Adams', 61),\n",
       " ('Nancy', 'Edwards', 64),\n",
       " ('Jane', 'Peacock', 50),\n",
       " ('Margaret', 'Park', 76),\n",
       " ('Steve', 'Johnson', 58),\n",
       " ('Michael', 'Mitchell', 50),\n",
       " ('Robert', 'King', 53),\n",
       " ('Laura', 'Callahan', 55)]"
      ]
     },
     "execution_count": 142,
     "metadata": {},
     "output_type": "execute_result"
    }
   ],
   "source": [
    "# 3) muestra la edad de cada empleado\n",
    "cursor.execute(\"SELECT FirstName, LastName, (strftime('%Y', 'now') - strftime('%Y', BirthDate)) - (strftime('%m-%d', 'now') < strftime('%m-%d', BirthDate)) AS Age FROM Employee\")\n",
    "cursor.fetchall()"
   ]
  },
  {
   "cell_type": "code",
   "execution_count": 143,
   "metadata": {},
   "outputs": [
    {
     "data": {
      "text/plain": [
       "[('General Manager', 61.0),\n",
       " ('IT Manager', 50.0),\n",
       " ('IT Staff', 54.0),\n",
       " ('Sales Manager', 64.0),\n",
       " ('Sales Support Agent', 61.333333333333336)]"
      ]
     },
     "execution_count": 143,
     "metadata": {},
     "output_type": "execute_result"
    }
   ],
   "source": [
    "# 4) calcula la media de edad por departamento (Title)\n",
    "\n",
    "cursor.execute(\"SELECT Title, AVG((strftime('%Y', 'now') - strftime('%Y', BirthDate)) - (strftime('%m-%d', 'now') < strftime('%m-%d', BirthDate))) FROM Employee GROUP BY Title\")\n",
    "cursor.fetchall()"
   ]
  },
  {
   "cell_type": "code",
   "execution_count": 144,
   "metadata": {},
   "outputs": [
    {
     "data": {
      "text/plain": [
       "[('2002', 3), ('2003', 3), ('2004', 2)]"
      ]
     },
     "execution_count": 144,
     "metadata": {},
     "output_type": "execute_result"
    }
   ],
   "source": [
    "# 5) cuenta los empleados que fueron contratados, de media, por año\n",
    "cursor.execute(\"SELECT strftime('%Y', HireDate), count(HireDate) FROM Employee GROUP BY strftime('%Y', HireDate)\")\n",
    "cursor.fetchall()"
   ]
  },
  {
   "cell_type": "code",
   "execution_count": 145,
   "metadata": {},
   "outputs": [
    {
     "data": {
      "text/plain": [
       "[(2.6666666666666665,)]"
      ]
     },
     "execution_count": 145,
     "metadata": {},
     "output_type": "execute_result"
    }
   ],
   "source": [
    "cursor.execute(\"SELECT AVG(numero) FROM (SELECT strftime('%Y', HireDate) AS anno, count(*) AS numero FROM Employee GROUP BY anno)\")\n",
    "cursor.fetchall()"
   ]
  },
  {
   "cell_type": "markdown",
   "metadata": {},
   "source": [
    "# Actividad 4(Experto en canciones)\n",
    "Volvemos a usar la tabla 'Track'"
   ]
  },
  {
   "cell_type": "code",
   "execution_count": 146,
   "metadata": {},
   "outputs": [
    {
     "data": {
      "text/plain": [
       "[('Balls to the Wall',),\n",
       " ('Fast As a Shark',),\n",
       " ('Restless and Wild',),\n",
       " ('Princess of the Dawn',),\n",
       " ('Welcome to the Jungle',),\n",
       " (\"It's So Easy\",),\n",
       " ('Nightrain',),\n",
       " ('Out Ta Get Me',),\n",
       " ('Mr. Brownstone',),\n",
       " ('Paradise City',),\n",
       " ('My Michelle',),\n",
       " ('Think About You',),\n",
       " (\"Sweet Child O' Mine\",),\n",
       " (\"You're Crazy\",),\n",
       " ('Anything Goes',),\n",
       " ('Rocket Queen',),\n",
       " ('Right Next Door to Hell',),\n",
       " (\"Dust N' Bones\",),\n",
       " ('Live and Let Die',),\n",
       " (\"Don't Cry (Original)\",)]"
      ]
     },
     "execution_count": 146,
     "metadata": {},
     "output_type": "execute_result"
    }
   ],
   "source": [
    "# 1) Muestra todos los canciones con el MediaType Protected AAC audiofile.\n",
    "cursor.execute(\"SELECT Name FROM Track WHERE MediaTypeId = (SELECT MediaTypeId FROM MediaType WHERE Name = 'Protected AAC audio file')\")\n",
    "cursor.fetchmany(20)\n"
   ]
  },
  {
   "cell_type": "code",
   "execution_count": 147,
   "metadata": {},
   "outputs": [
    {
     "data": {
      "text/plain": [
       "[('Balls to the Wall',),\n",
       " ('Fast As a Shark',),\n",
       " ('Restless and Wild',),\n",
       " ('Princess of the Dawn',),\n",
       " ('Welcome to the Jungle',),\n",
       " (\"It's So Easy\",),\n",
       " ('Nightrain',),\n",
       " ('Out Ta Get Me',),\n",
       " ('Mr. Brownstone',),\n",
       " ('Paradise City',),\n",
       " ('My Michelle',),\n",
       " ('Think About You',),\n",
       " (\"Sweet Child O' Mine\",),\n",
       " (\"You're Crazy\",),\n",
       " ('Anything Goes',),\n",
       " ('Rocket Queen',),\n",
       " ('Right Next Door to Hell',),\n",
       " (\"Dust N' Bones\",),\n",
       " ('Live and Let Die',),\n",
       " (\"Don't Cry (Original)\",)]"
      ]
     },
     "execution_count": 147,
     "metadata": {},
     "output_type": "execute_result"
    }
   ],
   "source": [
    "# 2)muestra todas las canciones que contengan algun MediaType con 'AAC'.\n",
    "cursor.execute(\"SELECT Name FROM Track WHERE MediaTypeId = (SELECT MediaTypeId FROM MediaType WHERE Name LIKE '%AAC%')\");\n",
    "cursor.fetchmany(20)"
   ]
  },
  {
   "cell_type": "code",
   "execution_count": 148,
   "metadata": {},
   "outputs": [
    {
     "data": {
      "text/plain": [
       "[('For Those About To Rock (We Salute You)',),\n",
       " ('Balls to the Wall',),\n",
       " ('Fast As a Shark',),\n",
       " ('Restless and Wild',),\n",
       " ('Princess of the Dawn',),\n",
       " ('Put The Finger On You',),\n",
       " (\"Let's Get It Up\",),\n",
       " ('Inject The Venom',),\n",
       " ('Snowballed',),\n",
       " ('Evil Walks',),\n",
       " ('C.O.D.',),\n",
       " ('Breaking The Rules',),\n",
       " ('Night Of The Long Knives',),\n",
       " ('Spellbound',),\n",
       " ('Go Down',),\n",
       " ('Dog Eat Dog',),\n",
       " ('Let There Be Rock',),\n",
       " ('Bad Boy Boogie',),\n",
       " ('Problem Child',),\n",
       " ('Overdose',)]"
      ]
     },
     "execution_count": 148,
     "metadata": {},
     "output_type": "execute_result"
    }
   ],
   "source": [
    "# 3) muestra todas las canciones que duren mas de 2 minutos\n",
    "\n",
    "cursor.execute('SELECT Name FROM Track WHERE Milliseconds > 120000')\n",
    "cursor.fetchmany(20)"
   ]
  },
  {
   "cell_type": "code",
   "execution_count": 149,
   "metadata": {},
   "outputs": [
    {
     "data": {
      "text/plain": [
       "[('Desafinado',),\n",
       " ('Garota De Ipanema',),\n",
       " ('Samba De Uma Nota Só (One Note Samba)',),\n",
       " ('Por Causa De Você',),\n",
       " ('Ligia',),\n",
       " ('Fotografia',),\n",
       " ('Dindi (Dindi)',),\n",
       " ('Se Todos Fossem Iguais A Você (Instrumental)',),\n",
       " ('Falando De Amor',),\n",
       " ('Angela',),\n",
       " ('Corcovado (Quiet Nights Of Quiet Stars)',),\n",
       " ('Outra Vez',),\n",
       " ('O Boto (Bôto)',),\n",
       " ('Canta, Canta Mais',),\n",
       " ('Quadrant',),\n",
       " (\"Snoopy's search-Red baron\",),\n",
       " ('Spanish moss-\"A sound portrait\"-Spanish moss',),\n",
       " ('Moon germs',),\n",
       " ('Stratus',),\n",
       " ('The pleasant pheasant',),\n",
       " ('Solo-Panhandler',),\n",
       " ('Do what cha wanna',),\n",
       " ('Heart of the Night',),\n",
       " ('De La Luz',),\n",
       " ('Westwood Moon',),\n",
       " ('Midnight',),\n",
       " ('Playtime',),\n",
       " ('Surrender',),\n",
       " (\"Valentino's\",),\n",
       " ('Believe',),\n",
       " ('As We Sleep',),\n",
       " ('When Evening Falls',),\n",
       " ('J Squared',),\n",
       " ('Best Thing',),\n",
       " (\"Now's The Time\",),\n",
       " ('Jeru',),\n",
       " ('Compulsion',),\n",
       " ('Tempus Fugit',),\n",
       " (\"Walkin'\",),\n",
       " (\"'Round Midnight\",),\n",
       " ('Bye Bye Blackbird',),\n",
       " ('New Rhumba',),\n",
       " ('Generique',),\n",
       " ('Summertime',),\n",
       " ('So What',),\n",
       " ('The Pan Piper',),\n",
       " ('Someday My Prince Will Come',),\n",
       " ('My Funny Valentine (Live)',),\n",
       " ('E.S.P.',),\n",
       " ('Nefertiti',),\n",
       " ('Petits Machins (Little Stuff)',),\n",
       " ('Miles Runs The Voodoo Down',),\n",
       " ('Little Church (Live)',),\n",
       " ('Black Satin',),\n",
       " ('Jean Pierre (Live)',),\n",
       " ('Time After Time',),\n",
       " ('Portia',),\n",
       " ('Jeepers Creepers',),\n",
       " ('Blue Rythm Fantasy',),\n",
       " ('Drum Boogie',),\n",
       " ('Let Me Off Uptown',),\n",
       " ('Leave Us Leap',),\n",
       " ('Opus No.1',),\n",
       " ('Boogie Blues',),\n",
       " ('How High The Moon',),\n",
       " ('Disc Jockey Jump',),\n",
       " (\"Up An' Atom\",),\n",
       " ('Bop Boogie',),\n",
       " ('Lemon Drop',),\n",
       " ('Coronation Drop',),\n",
       " ('Overtime',),\n",
       " ('Imagination',),\n",
       " (\"Don't Take Your Love From Me\",),\n",
       " ('Midget',),\n",
       " (\"I'm Coming Virginia\",),\n",
       " (\"Payin' Them Dues Blues\",),\n",
       " ('Jungle Drums',),\n",
       " ('Showcase',),\n",
       " ('Swedish Schnapps',),\n",
       " ('Roll Call',),\n",
       " ('Otay',),\n",
       " ('Groovus Interruptus',),\n",
       " ('Paris On Mine',),\n",
       " ('In Time',),\n",
       " ('Plan B',),\n",
       " ('Outbreak',),\n",
       " ('Baltimore, DC',),\n",
       " ('Talkin Loud and Saying Nothin',),\n",
       " ('Doce De Carnaval (Candy All)',),\n",
       " ('Lamento De Carnaval',),\n",
       " ('Pretinha',),\n",
       " ('Colibri',),\n",
       " ('Love Is The Colour',),\n",
       " ('Magnetic Ocean',),\n",
       " ('Deep Waters',),\n",
       " (\"L'Arc En Ciel De Miles\",),\n",
       " ('Gypsy',),\n",
       " ('Journey Into Sunlight',),\n",
       " ('Sunchild',),\n",
       " ('Millenium',),\n",
       " (\"Thinking 'Bout Tomorrow\",),\n",
       " (\"Jacob's Ladder\",),\n",
       " ('She Wears Black',),\n",
       " ('Dark Side Of The Cog',),\n",
       " ('Springsville',),\n",
       " ('The Maids Of Cadiz',),\n",
       " ('The Duke',),\n",
       " ('My Ship',),\n",
       " ('Miles Ahead',),\n",
       " ('Blues For Pablo',),\n",
       " ('New Rhumba',),\n",
       " ('The Meaning Of The Blues',),\n",
       " ('Lament',),\n",
       " (\"I Don't Wanna Be Kissed (By Anyone But You)\",),\n",
       " ('Springsville (Alternate Take)',),\n",
       " ('Blues For Pablo (Alternate Take)',),\n",
       " ('The Meaning Of The Blues/Lament (Alternate Take)',),\n",
       " (\"I Don't Wanna Be Kissed (By Anyone But You) (Alternate Take)\",),\n",
       " ('Morning Dance',),\n",
       " ('Jubilee',),\n",
       " ('Rasul',),\n",
       " ('Song For Lorraine',),\n",
       " ('Starburst',),\n",
       " ('Heliopolis',),\n",
       " (\"It Doesn't Matter\",),\n",
       " ('Little Linda',),\n",
       " ('End Of Romanticism',),\n",
       " ('Amanda',),\n",
       " ('Despertar',),\n",
       " (\"OAM's Blues\",)]"
      ]
     },
     "execution_count": 149,
     "metadata": {},
     "output_type": "execute_result"
    }
   ],
   "source": [
    "# 4) muestra todas las canciones de Jazz\n",
    "cursor.execute('SELECT Name FROM Track WHERE GenreId = (SELECT GenreId FROM Genre WHERE Name = \"Jazz\")')\n",
    "cursor.fetchall()"
   ]
  },
  {
   "cell_type": "code",
   "execution_count": 150,
   "metadata": {},
   "outputs": [
    {
     "data": {
      "text/plain": [
       "(2820, 'Occupation / Precipice', 5286953)"
      ]
     },
     "execution_count": 150,
     "metadata": {},
     "output_type": "execute_result"
    }
   ],
   "source": [
    "# 5) averigua cual es la cancion mas pesada\n",
    "cursor.execute('SELECT TrackId, Name, MAX(Milliseconds) FROM Track')\n",
    "cursor.fetchone()"
   ]
  },
  {
   "cell_type": "code",
   "execution_count": 151,
   "metadata": {},
   "outputs": [
    {
     "data": {
      "text/plain": [
       "[(14,)]"
      ]
     },
     "execution_count": 151,
     "metadata": {},
     "output_type": "execute_result"
    }
   ],
   "source": [
    "# 6) CUANTOS DISCOS TIENE Led Zeppelin ?\n",
    "cursor.execute(\"SELECT count(AlbumId) FROM (SELECT AlbumId FROM Track GROUP BY AlbumId HAVING albumId IN (SELECT AlbumId From Album WHERE ArtistId IN (SELECT ArtistId FROM Artist WHERE Name = 'Led Zeppelin')))\")\n",
    "\n",
    "cursor.fetchall()"
   ]
  },
  {
   "cell_type": "code",
   "execution_count": 152,
   "metadata": {},
   "outputs": [
    {
     "data": {
      "text/plain": [
       "(7.920000000000001,)"
      ]
     },
     "execution_count": 152,
     "metadata": {},
     "output_type": "execute_result"
    }
   ],
   "source": [
    "# 7) DE ENTRE SUS DISCOS, ¿CUANTO CUESTA EL DISCO \"House Of The Holy\"?\n",
    "cursor.execute(\"SELECT sum(UnitPrice) as precio FROM Track WHERE AlbumId = (SELECT AlbumId FROM Album WHERE Title = 'Houses Of The Holy')\")\n",
    "cursor.fetchone()"
   ]
  },
  {
   "cell_type": "markdown",
   "metadata": {},
   "source": [
    "# Actividad 5\n",
    "De la tabla 'Customer' crea una vista 'Customer_with_companies', donde estaran incluidos todos los resultdos salvo cuando Companies' sea 'NULL'. "
   ]
  },
  {
   "cell_type": "code",
   "execution_count": 153,
   "metadata": {},
   "outputs": [
    {
     "data": {
      "text/plain": [
       "<sqlite3.Cursor at 0x7fec54ead490>"
      ]
     },
     "execution_count": 153,
     "metadata": {},
     "output_type": "execute_result"
    }
   ],
   "source": [
    "cursor.execute('CREATE TEMP VIEW Customer_with_companies AS SELECT * FROM Customer WHERE Company IS NOT NULL')\n"
   ]
  },
  {
   "cell_type": "markdown",
   "metadata": {},
   "source": [
    "A partir de la vista realiza los siguentes acciones:"
   ]
  },
  {
   "cell_type": "code",
   "execution_count": 154,
   "metadata": {},
   "outputs": [
    {
     "data": {
      "text/plain": [
       "[(19,\n",
       "  'Tim',\n",
       "  'Goyer',\n",
       "  'Apple Inc.',\n",
       "  '1 Infinite Loop',\n",
       "  'Cupertino',\n",
       "  'CA',\n",
       "  'USA',\n",
       "  '95014',\n",
       "  '+1 (408) 996-1010',\n",
       "  '+1 (408) 996-1011',\n",
       "  'tgoyer@apple.com',\n",
       "  3),\n",
       " (11,\n",
       "  'Alexandre',\n",
       "  'Rocha',\n",
       "  'Banco do Brasil S.A.',\n",
       "  'Av. Paulista, 2022',\n",
       "  'São Paulo',\n",
       "  'SP',\n",
       "  'Brazil',\n",
       "  '01310-200',\n",
       "  '+55 (11) 3055-3278',\n",
       "  '+55 (11) 3055-8131',\n",
       "  'alero@uol.com.br',\n",
       "  5),\n",
       " (1,\n",
       "  'Luís',\n",
       "  'Gonçalves',\n",
       "  'Embraer - Empresa Brasileira de Aeronáutica S.A.',\n",
       "  'Av. Brigadeiro Faria Lima, 2170',\n",
       "  'São José dos Campos',\n",
       "  'SP',\n",
       "  'Brazil',\n",
       "  '12227-000',\n",
       "  '+55 (12) 3923-5555',\n",
       "  '+55 (12) 3923-5566',\n",
       "  'luisg@embraer.com.br',\n",
       "  3),\n",
       " (16,\n",
       "  'Frank',\n",
       "  'Harris',\n",
       "  'Google Inc.',\n",
       "  '1600 Amphitheatre Parkway',\n",
       "  'Mountain View',\n",
       "  'CA',\n",
       "  'USA',\n",
       "  '94043-1351',\n",
       "  '+1 (650) 253-0000',\n",
       "  '+1 (650) 253-0000',\n",
       "  'fharris@google.com',\n",
       "  4),\n",
       " (5,\n",
       "  'František',\n",
       "  'Wichterlová',\n",
       "  'JetBrains s.r.o.',\n",
       "  'Klanova 9/506',\n",
       "  'Prague',\n",
       "  None,\n",
       "  'Czech Republic',\n",
       "  '14700',\n",
       "  '+420 2 4172 5555',\n",
       "  '+420 2 4172 5555',\n",
       "  'frantisekw@jetbrains.com',\n",
       "  4),\n",
       " (17,\n",
       "  'Jack',\n",
       "  'Smith',\n",
       "  'Microsoft Corporation',\n",
       "  '1 Microsoft Way',\n",
       "  'Redmond',\n",
       "  'WA',\n",
       "  'USA',\n",
       "  '98052-8300',\n",
       "  '+1 (425) 882-8080',\n",
       "  '+1 (425) 882-8081',\n",
       "  'jacksmith@microsoft.com',\n",
       "  5),\n",
       " (12,\n",
       "  'Roberto',\n",
       "  'Almeida',\n",
       "  'Riotur',\n",
       "  'Praça Pio X, 119',\n",
       "  'Rio de Janeiro',\n",
       "  'RJ',\n",
       "  'Brazil',\n",
       "  '20040-020',\n",
       "  '+55 (21) 2271-7000',\n",
       "  '+55 (21) 2271-7070',\n",
       "  'roberto.almeida@riotur.gov.br',\n",
       "  3),\n",
       " (15,\n",
       "  'Jennifer',\n",
       "  'Peterson',\n",
       "  'Rogers Canada',\n",
       "  '700 W Pender Street',\n",
       "  'Vancouver',\n",
       "  'BC',\n",
       "  'Canada',\n",
       "  'V6C 1G8',\n",
       "  '+1 (604) 688-2255',\n",
       "  '+1 (604) 688-8756',\n",
       "  'jenniferp@rogers.ca',\n",
       "  3),\n",
       " (14,\n",
       "  'Mark',\n",
       "  'Philips',\n",
       "  'Telus',\n",
       "  '8210 111 ST NW',\n",
       "  'Edmonton',\n",
       "  'AB',\n",
       "  'Canada',\n",
       "  'T6G 2C7',\n",
       "  '+1 (780) 434-4554',\n",
       "  '+1 (780) 434-5565',\n",
       "  'mphilips12@shaw.ca',\n",
       "  5),\n",
       " (10,\n",
       "  'Eduardo',\n",
       "  'Martins',\n",
       "  'Woodstock Discos',\n",
       "  'Rua Dr. Falcão Filho, 155',\n",
       "  'São Paulo',\n",
       "  'SP',\n",
       "  'Brazil',\n",
       "  '01007-010',\n",
       "  '+55 (11) 3033-5446',\n",
       "  '+55 (11) 3033-4564',\n",
       "  'eduardo@woodstock.com.br',\n",
       "  4)]"
      ]
     },
     "execution_count": 154,
     "metadata": {},
     "output_type": "execute_result"
    }
   ],
   "source": [
    "# 1) Ordena los resultados por orden alfabetico de 'Company'\n",
    "cursor.execute(\"SELECT * FROM Customer_with_companies ORDER BY Company ASC\")\n",
    "cursor.fetchall()"
   ]
  },
  {
   "cell_type": "code",
   "execution_count": 155,
   "metadata": {},
   "outputs": [],
   "source": [
    "# 2) Muestra que compania son de 'Brasil'\n",
    "cursor.execute(\"SELECT * FROM Customer_with_companies WHERE Country LIKE '%Bra%il%' COLLATE NOCASE\")\n",
    "res = cursor.fetchall()\n"
   ]
  },
  {
   "cell_type": "markdown",
   "metadata": {},
   "source": [
    "# Actividad 6 (Dame la factura)\n",
    "\n",
    "De la tabla *Track* consigue la siguente informacion"
   ]
  },
  {
   "cell_type": "code",
   "execution_count": 156,
   "metadata": {},
   "outputs": [
    {
     "data": {
      "text/plain": [
       "<sqlite3.Cursor at 0x7fec54ead490>"
      ]
     },
     "execution_count": 156,
     "metadata": {},
     "output_type": "execute_result"
    }
   ],
   "source": [
    "# 1) Cual es el titulo de la cancion que menos pesa(Bytes) ?\n",
    "cursor.execute(\"\")"
   ]
  },
  {
   "cell_type": "code",
   "execution_count": 157,
   "metadata": {},
   "outputs": [],
   "source": [
    "# 2) Cual es el titulo de cancion que mas dura (Miliseconds)."
   ]
  },
  {
   "cell_type": "code",
   "execution_count": 158,
   "metadata": {},
   "outputs": [],
   "source": [
    "# 3) Cuantas canciones cuesta 1$ o mas."
   ]
  },
  {
   "cell_type": "code",
   "execution_count": 159,
   "metadata": {},
   "outputs": [],
   "source": [
    "# 4) Cuantas canciones hay de Queen."
   ]
  },
  {
   "cell_type": "code",
   "execution_count": null,
   "metadata": {},
   "outputs": [],
   "source": [
    "# 5) Cual es la media de duarcion entre todas las canciones."
   ]
  },
  {
   "cell_type": "code",
   "execution_count": null,
   "metadata": {},
   "outputs": [],
   "source": [
    "# 6) Cual es la media de duracion entre todas las canciones de U2."
   ]
  },
  {
   "cell_type": "code",
   "execution_count": null,
   "metadata": {},
   "outputs": [],
   "source": [
    "# 7) Cuantas cancioens esta Bill Berry como 'Composer'(Compositor)."
   ]
  },
  {
   "cell_type": "code",
   "execution_count": null,
   "metadata": {},
   "outputs": [],
   "source": [
    "# 8) Un Mb son: Bite/1024/1024. Muestra todos los 'Tracks' calculando y renombrando la columna 'Bytes' en 'Mb'."
   ]
  },
  {
   "cell_type": "markdown",
   "metadata": {},
   "source": [
    "# Actividad 7 (Buscando facturas)\n",
    "\n",
    "De la tabla *Invoice* consigue la siguente informacion:"
   ]
  },
  {
   "cell_type": "code",
   "execution_count": null,
   "metadata": {},
   "outputs": [],
   "source": [
    "# 1) Muestra: 'InvoiceId', nombre del cliente, 'BillingCountry'."
   ]
  },
  {
   "cell_type": "code",
   "execution_count": null,
   "metadata": {},
   "outputs": [],
   "source": [
    "# 2) Ordena de mayor a menor por 'Total'"
   ]
  },
  {
   "cell_type": "code",
   "execution_count": null,
   "metadata": {},
   "outputs": [],
   "source": [
    "# 3) Cual es el pais que mas a facturado."
   ]
  },
  {
   "cell_type": "markdown",
   "metadata": {},
   "source": [
    "# Actividad 8 (Alimentando la productora)"
   ]
  },
  {
   "cell_type": "code",
   "execution_count": null,
   "metadata": {},
   "outputs": [],
   "source": [
    "# 1) Añade 5 artistas que te gusten en la tabla 'Artist'."
   ]
  },
  {
   "cell_type": "code",
   "execution_count": null,
   "metadata": {},
   "outputs": [],
   "source": [
    "# 2) Introduce el MediaType Wav"
   ]
  },
  {
   "cell_type": "code",
   "execution_count": null,
   "metadata": {},
   "outputs": [],
   "source": [
    "# 3) Crea 2 discos que esten relacionados con los artistas que has creado.º"
   ]
  },
  {
   "cell_type": "markdown",
   "metadata": {},
   "source": [
    "# Actividad 9 (Artistas desaparecidos)\n",
    "\n",
    "Volver a usar la tabla *Artist* (cantante). (usa *PRAGMA foreign key = OFF* para desactivar la comprobacion)"
   ]
  },
  {
   "cell_type": "code",
   "execution_count": null,
   "metadata": {},
   "outputs": [],
   "source": [
    "# 1) Borra a U2"
   ]
  },
  {
   "cell_type": "code",
   "execution_count": null,
   "metadata": {},
   "outputs": [],
   "source": [
    "# 2) Borra los artistas que tengan en su nombre el simbolo *&*."
   ]
  },
  {
   "cell_type": "code",
   "execution_count": null,
   "metadata": {},
   "outputs": [],
   "source": [
    "# 3) Borra los artistas con una ID entre 201 y 230."
   ]
  },
  {
   "cell_type": "code",
   "execution_count": null,
   "metadata": {},
   "outputs": [],
   "source": [
    "# 4) Borra toda la tabla de *Track*."
   ]
  },
  {
   "cell_type": "markdown",
   "metadata": {},
   "source": [
    "# Actividad 10 (Se acabaron las rebajas)\n",
    "\n",
    "Volvemos a usar la tabla *Track* (cancion)."
   ]
  },
  {
   "cell_type": "code",
   "execution_count": null,
   "metadata": {},
   "outputs": [],
   "source": [
    "# 1) Sube el precio de todas las canciones de 0.99 a 2.99"
   ]
  },
  {
   "cell_type": "code",
   "execution_count": null,
   "metadata": {},
   "outputs": [],
   "source": [
    "# 2) sube el precio de todas las canciones de 1.99 a 4.99."
   ]
  },
  {
   "cell_type": "code",
   "execution_count": null,
   "metadata": {},
   "outputs": [],
   "source": [
    "# 3) cambia el compositor (Composer) por 'Sara' del 'TrackId' numero 2000."
   ]
  },
  {
   "cell_type": "code",
   "execution_count": null,
   "metadata": {},
   "outputs": [],
   "source": [
    "# 4) cambia el compositor(Composer) por 'clasico' de todas las canciones que empiecen con el nombre 'Concerto'."
   ]
  }
 ],
 "metadata": {
  "kernelspec": {
   "display_name": "Python 3 (ipykernel)",
   "language": "python",
   "name": "python3"
  },
  "language_info": {
   "codemirror_mode": {
    "name": "ipython",
    "version": 3
   },
   "file_extension": ".py",
   "mimetype": "text/x-python",
   "name": "python",
   "nbconvert_exporter": "python",
   "pygments_lexer": "ipython3",
   "version": "3.9.13"
  },
  "vscode": {
   "interpreter": {
    "hash": "6405a8b8ab79e80e04a863ac4b9be64f0d13f8b3341f5aa722c7842f75c21e99"
   }
  }
 },
 "nbformat": 4,
 "nbformat_minor": 4
}
